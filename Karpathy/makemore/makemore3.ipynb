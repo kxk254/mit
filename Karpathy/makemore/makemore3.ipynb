{
 "cells": [
  {
   "cell_type": "code",
   "execution_count": 1,
   "id": "6d0c3ed9",
   "metadata": {},
   "outputs": [],
   "source": [
    "import torch\n",
    "import torch.nn.functional as F\n",
    "import matplotlib.pyplot as plt\n",
    "%matplotlib inline\n"
   ]
  },
  {
   "cell_type": "code",
   "execution_count": 2,
   "id": "3d1ee72c",
   "metadata": {},
   "outputs": [
    {
     "data": {
      "text/plain": [
       "['emma', 'olivia', 'ava']"
      ]
     },
     "execution_count": 2,
     "metadata": {},
     "output_type": "execute_result"
    }
   ],
   "source": [
    "# read in all the words\n",
    "words = open('names.txt', 'r').read().splitlines()\n",
    "words[:3]"
   ]
  },
  {
   "cell_type": "code",
   "execution_count": 3,
   "id": "b46345bf",
   "metadata": {},
   "outputs": [
    {
     "name": "stdout",
     "output_type": "stream",
     "text": [
      "{1: 'a', 2: 'b', 3: 'c', 4: 'd', 5: 'e', 6: 'f', 7: 'g', 8: 'h', 9: 'i', 10: 'j', 11: 'k', 12: 'l', 13: 'm', 14: 'n', 15: 'o', 16: 'p', 17: 'q', 18: 'r', 19: 's', 20: 't', 21: 'u', 22: 'v', 23: 'w', 24: 'x', 25: 'y', 26: 'z', 0: '.'}\n",
      "27\n"
     ]
    }
   ],
   "source": [
    "#build the vocab of chars and mappings to integers\n",
    "chars = sorted(list(set(''.join(words))))\n",
    "stoi = {s:i+1 for i, s in enumerate(chars)}\n",
    "stoi[\".\"] = 0\n",
    "itos = {i:s for s, i in stoi.items()}\n",
    "vocab_size = len(itos)\n",
    "print(itos)\n",
    "print(vocab_size)"
   ]
  },
  {
   "cell_type": "code",
   "execution_count": 4,
   "id": "19791e95",
   "metadata": {},
   "outputs": [
    {
     "name": "stdout",
     "output_type": "stream",
     "text": [
      "torch.Size([182625, 3]) torch.Size([182625])\n",
      "torch.Size([22655, 3]) torch.Size([22655])\n",
      "torch.Size([22866, 3]) torch.Size([22866])\n"
     ]
    }
   ],
   "source": [
    "# build the dataset\n",
    "block_size = 3\n",
    "def build_dataset(words):\n",
    "    X, Y = [], []\n",
    "    for w in words:\n",
    "        context = [0] * block_size\n",
    "        for ch in w + \".\":\n",
    "            ix = stoi[ch]\n",
    "            X.append(context)\n",
    "            Y.append(ix)\n",
    "            context = context[1:] + [ix]\n",
    "    X = torch.tensor(X)\n",
    "    Y = torch.tensor(Y)\n",
    "    print(X.shape, Y.shape)\n",
    "    return X, Y\n",
    "\n",
    "import random\n",
    "random.seed(42)\n",
    "random.shuffle(words)\n",
    "n1 = int(0.8*len(words))\n",
    "n2 = int(0.9*len(words))\n",
    "\n",
    "Xtr, Ytr = build_dataset(words[:n1])\n",
    "Xdev, Ydev = build_dataset(words[n1:n2])\n",
    "Xte, Yte = build_dataset(words[n2:])\n",
    "        "
   ]
  },
  {
   "cell_type": "code",
   "execution_count": 5,
   "id": "e44d6eff",
   "metadata": {},
   "outputs": [
    {
     "name": "stdout",
     "output_type": "stream",
     "text": [
      "12297\n"
     ]
    }
   ],
   "source": [
    "# MLP revised\n",
    "n_embd = 10  # the dimensionality of the character embedding vectors\n",
    "n_hidden = 200  #hidden layer\n",
    "\n",
    "g  = torch.Generator().manual_seed(2147729)\n",
    "C  = torch.randn((vocab_size, n_embd),              generator=g)\n",
    "W1 = torch.randn((n_embd * block_size, n_hidden),   generator=g) * (5/3)/((n_embd * block_size) ** 0.5) #* 0.3\n",
    "b1 = torch.randn((n_hidden),                        generator=g) * 0.01\n",
    "W2 = torch.randn((n_hidden, vocab_size),            generator=g) * 0.01\n",
    "b2 = torch.randn((vocab_size),                      generator=g) * 0 #to stabilize the logits\n",
    "\n",
    "bngain = torch.ones((1, n_hidden))\n",
    "bnbias = torch.zeros((1, n_hidden))\n",
    "\n",
    "bnmean_running = torch.zeros((1, n_hidden))\n",
    "bnstd_running = torch.ones((1, n_hidden))\n",
    "\n",
    "parameters = [C, W1, b1, W2, b2, bngain, bnbias]\n",
    "print(sum(p.nelement() for p in parameters))\n",
    "for p in parameters:\n",
    "    p.requires_grad = True"
   ]
  },
  {
   "cell_type": "code",
   "execution_count": 7,
   "id": "f8dcdc1c",
   "metadata": {},
   "outputs": [
    {
     "name": "stdout",
     "output_type": "stream",
     "text": [
      "      0/ 200000: 3.3029 :lr=0.1\n",
      "  10000/ 200000: 2.3750 :lr=0.1\n",
      "  20000/ 200000: 1.9687 :lr=0.1\n",
      "  30000/ 200000: 2.4177 :lr=0.1\n",
      "  40000/ 200000: 2.1398 :lr=0.1\n",
      "  50000/ 200000: 2.1092 :lr=0.1\n",
      "  60000/ 200000: 2.3437 :lr=0.1\n",
      "  70000/ 200000: 2.1463 :lr=0.1\n",
      "  80000/ 200000: 1.9088 :lr=0.1\n",
      "  90000/ 200000: 2.3998 :lr=0.1\n",
      " 100000/ 200000: 2.0118 :lr=0.01\n",
      " 110000/ 200000: 1.7893 :lr=0.01\n",
      " 120000/ 200000: 2.0460 :lr=0.01\n",
      " 130000/ 200000: 1.9203 :lr=0.01\n",
      " 140000/ 200000: 2.1039 :lr=0.01\n",
      " 150000/ 200000: 1.9127 :lr=0.01\n",
      " 160000/ 200000: 2.0986 :lr=0.01\n",
      " 170000/ 200000: 2.5403 :lr=0.01\n",
      " 180000/ 200000: 1.9130 :lr=0.01\n",
      " 190000/ 200000: 2.6459 :lr=0.01\n"
     ]
    }
   ],
   "source": [
    "# Optimazation\n",
    "max_steps = 200000\n",
    "batch_size = 32\n",
    "lossi = []\n",
    "\n",
    "for i in range(max_steps):\n",
    "\n",
    "    #minibatch construct\n",
    "    ix = torch.randint(0, Xtr.shape[0], (batch_size,), generator=g)  #random indices\n",
    "    Xb, Yb = Xtr[ix], Ytr[ix]\n",
    "\n",
    "    #forward pass -----------\n",
    "    emb = C[Xb]  #embed characters into vectors\n",
    "    embcat = emb.view(emb.shape[0], -1)  #concatanate the vectors or flatten\n",
    "    hpreact = embcat @ W1 # + b1  #hidden layer preactivation\n",
    "\n",
    "    ## batch norm layer ---------------------\n",
    "    bnmeani = hpreact.mean(0, keepdim=True)  #trucker\n",
    "    bnstdi = hpreact.std(0, keepdim=True)   #trucker\n",
    "    hpreact = bngain * (hpreact - hpreact.mean(0, keepdim=True)) / hpreact.std(0, keepdim=True) + bnbias #batch normalization one\n",
    "\n",
    "    with torch.no_grad():\n",
    "        bnmean_running = 0.999 * bnmean_running + 0.001 * bnmeani\n",
    "        bnstd_running = 0.999 * bnstd_running + 0.001 * bnstdi\n",
    "\n",
    "    ## non linearlity layer  --------------\n",
    "    h = torch.tanh(hpreact)  #hidden layer\n",
    "    logits = h @ W2 + b2  #output layer\n",
    "    loss = F.cross_entropy(logits, Yb)  #loss function\n",
    "\n",
    "    #backward pass ---------------\n",
    "    for p in parameters:\n",
    "        p.grad = None\n",
    "    loss.backward()\n",
    "\n",
    "    # update\n",
    "    lr = 0.1 if i < 100000 else 0.01\n",
    "    for p in parameters:\n",
    "        if p.grad is not None:\n",
    "            p.data += -lr * p.grad\n",
    "\n",
    "    # track stats\n",
    "    if i % 10000 == 0:  # print every once in a while\n",
    "        print(f\"{i:7d}/{max_steps:7d}: {loss.item():.4f} :lr={lr}\")\n",
    "    lossi.append(loss.log10().item())\n",
    "\n",
    "    # break\n",
    "\n",
    "\n",
    "\n"
   ]
  },
  {
   "cell_type": "code",
   "execution_count": 8,
   "id": "eb596b73",
   "metadata": {},
   "outputs": [
    {
     "data": {
      "image/png": "[encoded data removed]",
      "text/plain": [
       "<Figure size 640x480 with 1 Axes>"
      ]
     },
     "metadata": {},
     "output_type": "display_data"
    }
   ],
   "source": [
    "# print(h.shape)\n",
    "# print(h)\n",
    "# print(h.view(-1).shape)\n",
    "plt.hist(h.view(-1).tolist(), 50);"
   ]
  },
  {
   "cell_type": "code",
   "execution_count": 9,
   "id": "126a5492",
   "metadata": {},
   "outputs": [
    {
     "data": {
      "image/png": "[encoded data removed]",
      "text/plain": [
       "<Figure size 640x480 with 1 Axes>"
      ]
     },
     "metadata": {},
     "output_type": "display_data"
    }
   ],
   "source": [
    "plt.hist(hpreact.view(-1).tolist(), 50);"
   ]
  },
  {
   "cell_type": "code",
   "execution_count": 10,
   "id": "3cee2cc7",
   "metadata": {},
   "outputs": [
    {
     "data": {
      "text/plain": [
       "<matplotlib.image.AxesImage at 0x21fd62d0cb0>"
      ]
     },
     "execution_count": 10,
     "metadata": {},
     "output_type": "execute_result"
    },
    {
     "data": {
      "image/png": "[encoded data removed]",
      "text/plain": [
       "<Figure size 2000x1000 with 1 Axes>"
      ]
     },
     "metadata": {},
     "output_type": "display_data"
    }
   ],
   "source": [
    "plt.figure(figsize=(20, 10))\n",
    "plt.imshow(h.abs() > 0.99, cmap='gray', interpolation='nearest')\n",
    "# grayscale colomap white = true, balck = false\n",
    "# white neurons are in flat tail portion.  no gradient expected."
   ]
  },
  {
   "cell_type": "code",
   "execution_count": null,
   "id": "7ebeedb2",
   "metadata": {},
   "outputs": [],
   "source": []
  },
  {
   "cell_type": "code",
   "execution_count": 11,
   "id": "3f2a401d",
   "metadata": {},
   "outputs": [
    {
     "data": {
      "text/plain": [
       "[<matplotlib.lines.Line2D at 0x21fd583cb30>]"
      ]
     },
     "execution_count": 11,
     "metadata": {},
     "output_type": "execute_result"
    },
    {
     "data": {
      "image/png": "[encoded data removed]",
      "text/plain": [
       "<Figure size 640x480 with 1 Axes>"
      ]
     },
     "metadata": {},
     "output_type": "display_data"
    }
   ],
   "source": [
    "plt.plot(lossi)"
   ]
  },
  {
   "cell_type": "code",
   "execution_count": 12,
   "id": "508c7e36",
   "metadata": {},
   "outputs": [
    {
     "name": "stdout",
     "output_type": "stream",
     "text": [
      "train 2.067244291305542\n",
      "val 2.107518434524536\n"
     ]
    }
   ],
   "source": [
    "# calibrate the batch norm at the end of training\n",
    "# on hand calculation\n",
    "\n",
    "with torch.no_grad():\n",
    "    emb = C[Xtr]\n",
    "    embcat = emb.view(emb.shape[0], -1)\n",
    "    hpreact = embcat @ W1 + b1\n",
    "    # measure the mean/std over the entire training set\n",
    "    bnmean = hpreact.mean(0, keepdim=True)\n",
    "    bnstd = hpreact.std(0, keepdim=True)\n",
    "\n",
    "@torch.no_grad()  #disable gradient tracking\n",
    "\n",
    "def split_loss(split):\n",
    "    x, y = {\n",
    "        'train': (Xtr, Ytr),\n",
    "        'val': (Xdev, Ydev),\n",
    "        'test': (Xte, Yte),\n",
    "    }[split]\n",
    "    emb = C[x]\n",
    "    embcat = emb.view(emb.shape[0], -1)\n",
    "    hpreact = embcat @ W1 + b1\n",
    "    hpreact = bngain * (hpreact - bnmean_running) / bnstd_running + bnbias #batch normalization one\n",
    "    h = torch.tanh(hpreact)\n",
    "    logits = h @ W2 + b2\n",
    "    loss = F.cross_entropy(logits, y)\n",
    "    print(split, loss.item())\n",
    "\n",
    "split_loss('train')\n",
    "split_loss('val')"
   ]
  },
  {
   "cell_type": "code",
   "execution_count": 13,
   "id": "4011d40a",
   "metadata": {},
   "outputs": [
    {
     "data": {
      "image/png": "[encoded data removed]",
      "text/plain": [
       "<Figure size 640x480 with 1 Axes>"
      ]
     },
     "metadata": {},
     "output_type": "display_data"
    }
   ],
   "source": [
    "plt.hist(b1.view(-1).tolist(), 30);"
   ]
  },
  {
   "cell_type": "code",
   "execution_count": 14,
   "id": "c3f1ab38",
   "metadata": {},
   "outputs": [
    {
     "name": "stdout",
     "output_type": "stream",
     "text": [
      "train 2.865917444229126\n",
      "val 2.920969009399414\n"
     ]
    }
   ],
   "source": [
    "@torch.no_grad()  #disable gradient tracking\n",
    "\n",
    "def split_loss(split):\n",
    "    x, y = {\n",
    "        'train': (Xtr, Ytr),\n",
    "        'val': (Xdev, Ydev),\n",
    "        'test': (Xte, Yte),\n",
    "    }[split]\n",
    "    emb = C[x]\n",
    "    embcat = emb.view(emb.shape[0], -1)\n",
    "    hpreact = embcat @ W1 + b1\n",
    "    hpreact = bngain * (hpreact - hpreact.mean(0, keepdim=True)) / hpreact.std(0, keepdim=True) + bnbias #batch normalization one\n",
    "    h = torch.tanh(embcat @ W1 + b1)\n",
    "    logits = h @ W2 + b2\n",
    "    loss = F.cross_entropy(logits, y)\n",
    "    print(split, loss.item())\n",
    "\n",
    "split_loss('train')\n",
    "split_loss('val')"
   ]
  },
  {
   "cell_type": "code",
   "execution_count": 15,
   "metadata": {},
   "outputs": [
    {
     "name": "stdout",
     "output_type": "stream",
     "text": [
      "zikvorbyvlizahduntecxcyusrlin.\n",
      "bbyazlahdamirthmechukwu.\n",
      "ffon.\n",
      "amellaniasildashdharifcenahlighyazahkaelawegjaneliahladdalimphizahkamiqunsmielissabellaiksiwarlowindin.\n",
      "jakyirvathamirydhlfomcklyn.\n",
      "chagabyaphnnickelbikaylianahlailandinahmwnylammyliah.\n",
      "dawmbxxlynerliylahnamiah.\n",
      "maxmarcavyarmandermoekshoxraevellasiylaazahliahmirajzzijah.\n",
      "lorahmwelliamariffetheeliahanviklanyamiryahiriah.\n",
      "evistinahmw.\n",
      "lartidgeaglettisamaggermariffon.\n",
      "kizlechartikahlakstargurmezahdamntleveongadaycerimarybystorvisvaurelissivaahbryadhavarajsaxliajabbamaryamagibnairk.\n",
      "litqetchrstinder.\n",
      "kindommuellahnahmaryiavarxelyj.\n",
      "melahnaylindyanvishawn.\n",
      "hvurcidgjourwahlashlilanyixxamayvlynekianailykinleithonahmandhawn.\n",
      "kelahmodlizahridydrithy.\n",
      "tevonth.\n",
      "dajeliyahbahzaricklardohdemarliepaathriyahmowrysthallridgidannahmaxmajaarligracelahjashleezaldillynehladeivellizaivenaidezahkamiahnakirvinahmikahlizahniveggynzixmandrithmnddislehdanardisheamianahliliahaqub.\n",
      "jalissabbiggianayylda.\n"
     ]
    }
   ],
   "source": [
    "# sample from the model\n",
    "\n",
    "g = torch.Generator().manual_seed(2123123)\n",
    "\n",
    "for _ in range(20):\n",
    "\n",
    "    out = []\n",
    "    context = [0] * block_size\n",
    "    while True:\n",
    "        emb = C[torch.tensor([context])]  #l, blocksize, n_embed\n",
    "        h = torch.tanh(emb.view(1, -1) @ W1 + b1)\n",
    "        logits = h @ W2 + b2\n",
    "        probs = F.softmax(logits, dim=1)\n",
    "        ix = torch.multinomial(probs, num_samples=1, generator=g).item()\n",
    "        context = context[1:] + [ix]\n",
    "        out.append(ix)\n",
    "\n",
    "        if ix == 0:\n",
    "            break\n",
    "    \n",
    "    print(''.join(itos[i] for i in out))"
   ]
  },
  {
   "cell_type": "code",
   "execution_count": 16,
   "id": "e6af475e",
   "metadata": {},
   "outputs": [
    {
     "data": {
      "text/plain": [
       "(tensor([  0.7116, -14.1046,  11.2176,  -8.2409]),\n",
       " tensor([2.7372e-05, 1.0063e-11, 9.9997e-01, 3.5421e-09]),\n",
       " tensor(2.7419e-05))"
      ]
     },
     "execution_count": 16,
     "metadata": {},
     "output_type": "execute_result"
    }
   ],
   "source": [
    "# 4 dimensional exmaple of the issue\n",
    "# all of the logis are stable or all zeros is better\n",
    "logits = torch.tensor([-5.0, 5.0, 0.0, 2.0])\n",
    "logits = torch.randn(4) *10\n",
    "probs = torch.softmax(logits, dim=0)\n",
    "loss = -probs[2].log()\n",
    "logits, probs, loss"
   ]
  },
  {
   "cell_type": "markdown",
   "id": "52b6c925",
   "metadata": {},
   "source": [
    "#### Xavier (Glorot) Initialization — Explained Simply\n",
    "Xavier (also called Glorot) initialization is a method for initializing the weights of a neural network so that the variance of the activations stays the same across every layer during the forward and backward passes."
   ]
  },
  {
   "cell_type": "code",
   "execution_count": 17,
   "id": "2ec7833b",
   "metadata": {},
   "outputs": [
    {
     "name": "stdout",
     "output_type": "stream",
     "text": [
      "tensor(-0.0089) tensor(1.0037)\n",
      "tensor(0.0003) tensor(1.0066)\n"
     ]
    },
    {
     "data": {
      "image/png": "[encoded data removed]",
      "text/plain": [
       "<Figure size 2000x500 with 2 Axes>"
      ]
     },
     "metadata": {},
     "output_type": "display_data"
    }
   ],
   "source": [
    "x = torch.randn(1000, 10)\n",
    "w = torch.randn(10, 200) / 10 **0.5\n",
    "y = x @ w\n",
    "\n",
    "print(x.mean(), x.std())\n",
    "print(y.mean(), y.std())\n",
    "plt.figure(figsize=(20, 5))\n",
    "plt.subplot(121)\n",
    "plt.hist(x.view(-1).tolist(), 50, density=True);\n",
    "plt.subplot(122)\n",
    "plt.hist(y.view(-1).tolist(), 50, density= True);\n",
    "\n",
    "# how to preserve the gaussian?"
   ]
  },
  {
   "cell_type": "code",
   "execution_count": 18,
   "id": "a63a8947",
   "metadata": {},
   "outputs": [
    {
     "data": {
      "text/plain": [
       "torch.Size([1, 200])"
      ]
     },
     "execution_count": 18,
     "metadata": {},
     "output_type": "execute_result"
    }
   ],
   "source": [
    "# Batch Normalization\n",
    "hpreact.mean(0, keepdim=True).shape\n",
    "hpreact.std(0, keepdim=True).shape"
   ]
  },
  {
   "cell_type": "code",
   "execution_count": null,
   "id": "4034b60a",
   "metadata": {},
   "outputs": [],
   "source": []
  },
  {
   "cell_type": "code",
   "execution_count": null,
   "id": "9f7e7641",
   "metadata": {},
   "outputs": [],
   "source": []
  },
  {
   "cell_type": "code",
   "execution_count": null,
   "id": "016658a8",
   "metadata": {},
   "outputs": [],
   "source": []
  },
  {
   "cell_type": "code",
   "execution_count": null,
   "id": "84237223",
   "metadata": {},
   "outputs": [],
   "source": []
  }
 ],
 "metadata": {
  "kernelspec": {
   "display_name": "env",
   "language": "python",
   "name": "python3"
  },
  "language_info": {
   "codemirror_mode": {
    "name": "ipython",
    "version": 3
   },
   "file_extension": ".py",
   "mimetype": "text/x-python",
   "name": "python",
   "nbconvert_exporter": "python",
   "pygments_lexer": "ipython3",
   "version": "3.12.4"
  }
 },
 "nbformat": 4,
 "nbformat_minor": 5
}
