{
 "cells": [
  {
   "cell_type": "code",
   "execution_count": 1,
   "id": "ea20909b",
   "metadata": {},
   "outputs": [],
   "source": [
    "import torch\n",
    "import torch.nn.functional as F\n",
    "import matplotlib.pyplot as plt\n",
    "%matplotlib inline"
   ]
  },
  {
   "cell_type": "code",
   "execution_count": 7,
   "id": "3509fc8f",
   "metadata": {},
   "outputs": [],
   "source": [
    "words = open(\"../names.txt\", 'r').read().splitlines()\n",
    "chars = sorted(list(set(''.join(words))))\n",
    "stoi = {s:i+1 for i, s in enumerate(chars)}\n",
    "stoi['.'] = 0\n",
    "itos = {i:s for s, i in stoi.items()}\n"
   ]
  },
  {
   "cell_type": "code",
   "execution_count": 13,
   "id": "a258fd1c",
   "metadata": {},
   "outputs": [
    {
     "data": {
      "text/plain": [
       "(torch.Size([228146, 3]), torch.int64, torch.Size([228146]), torch.int64)"
      ]
     },
     "execution_count": 13,
     "metadata": {},
     "output_type": "execute_result"
    }
   ],
   "source": [
    "\"\"\" \n",
    "BLOCK SIZE \n",
    "maximum number of tokens the model can process in \n",
    "a single input sequence at one time.\n",
    "\"\"\"\n",
    "block_size = 3\n",
    "X, Y = [], []\n",
    "for w in words:\n",
    "    context = [0] * block_size\n",
    "    # print(\"context\", context)\n",
    "    for ch in w + '.':\n",
    "        ix = stoi[ch]\n",
    "        # print(ch, ix)\n",
    "        X.append(context)\n",
    "        Y.append(ix)\n",
    "        # print(\"X\",X, \"Y\", Y)\n",
    "        context = context[1:] + [ix]\n",
    "\n",
    "X = torch.tensor(X)\n",
    "Y = torch.tensor(Y)\n",
    "X.shape, X.dtype, Y.shape, Y.dtype"
   ]
  },
  {
   "cell_type": "code",
   "execution_count": 18,
   "id": "afa7241e",
   "metadata": {},
   "outputs": [
    {
     "data": {
      "text/plain": [
       "tensor([[ 5, 13, 13],\n",
       "        [13, 13,  1]])"
      ]
     },
     "execution_count": 18,
     "metadata": {},
     "output_type": "execute_result"
    }
   ],
   "source": [
    "X1 = X[3:5]\n",
    "X1"
   ]
  },
  {
   "cell_type": "code",
   "execution_count": null,
   "id": "7a643997",
   "metadata": {},
   "outputs": [],
   "source": [
    "\"\"\"\n",
    "CREATE EMBEDDING CHANNEL\n",
    "C = Embedding Matrix or Lookup Table : \n",
    "    number of embeddings x embedding dimension\n",
    "\n",
    "X will be replaced to C embeddings\n",
    "Embedding[words x batch_size] = words, batch_size, embedding_dimension\n",
    "\"\"\"\n",
    "C = torch.randn(27, 2)\n",
    "emb_raw = C[X]\n",
    "emb_raw.size()\n",
    "\n",
    "# concatanate batch and embeddings to make it two dimensional\n",
    "\n",
    "emb = emb_raw.view(emb_raw.size(0), -1)"
   ]
  },
  {
   "cell_type": "code",
   "execution_count": null,
   "id": "2521375b",
   "metadata": {},
   "outputs": [],
   "source": [
    "# set up weights\n",
    "input_size = emb.size(1)\n",
    "hidden_layer1 = 100\n",
    "output_layer = C.size(0)\n",
    "W1 = torch.randn(input_size, hidden_layer1)\n",
    "b1 = torch.randn(hidden_layer1)\n",
    "W2 = torch.randn(hidden_layer1, output_layer)\n",
    "b2 = torch.randn(output_layer)\n",
    "\n",
    "#Layer\n",
    "tanh = torch.nn.Tanh()"
   ]
  },
  {
   "cell_type": "code",
   "execution_count": null,
   "id": "c310b341",
   "metadata": {},
   "outputs": [
    {
     "data": {
      "text/plain": [
       "tensor(18.2875)"
      ]
     },
     "execution_count": 76,
     "metadata": {},
     "output_type": "execute_result"
    }
   ],
   "source": [
    "# forward\n",
    "logits = emb @ W1 + b1\n",
    "logits = tanh(logits)\n",
    "logits = logits @ W2 + b2\n",
    "probs = torch.softmax(logits, dim=1)\n",
    "loss = -probs[torch.arange(emb.size(0)), Y].log().mean()\n"
   ]
  },
  {
   "cell_type": "markdown",
   "id": "8e328c90",
   "metadata": {},
   "source": [
    "### MODEL CONSTRUCT"
   ]
  },
  {
   "cell_type": "code",
   "execution_count": 105,
   "id": "46e280af",
   "metadata": {},
   "outputs": [],
   "source": [
    "import torch\n",
    "import torch.nn.functional as F\n",
    "import matplotlib.pyplot as plt\n",
    "%matplotlib inline\n",
    "import random\n"
   ]
  },
  {
   "cell_type": "code",
   "execution_count": 142,
   "id": "d0f512d9",
   "metadata": {},
   "outputs": [],
   "source": [
    "words = open('../names.txt', 'r').read().splitlines()\n",
    "\n",
    "chrs = sorted(list(set(''.join(words))))\n",
    "stoi = {s:i+1 for i, s in enumerate(chrs)}\n",
    "stoi['.'] = 0\n",
    "itos = {i:s for s, i in stoi.items()}\n"
   ]
  },
  {
   "cell_type": "code",
   "execution_count": 191,
   "id": "d9c40b7c",
   "metadata": {},
   "outputs": [
    {
     "data": {
      "text/plain": [
       "11897"
      ]
     },
     "execution_count": 191,
     "metadata": {},
     "output_type": "execute_result"
    }
   ],
   "source": [
    "### PARAMETERS\n",
    "block_size = 3\n",
    "hidden_layer = 200\n",
    "output_layer = len(stoi)\n",
    "max_step = 10000\n",
    "g = torch.Generator().manual_seed(654646)\n",
    "C = torch.randn((len(stoi), 10), generator=g)\n",
    "W1 = torch.randn((block_size*C.size(1),hidden_layer), generator=g)\n",
    "b1 = torch.randn(hidden_layer, generator=g)\n",
    "W2 = torch.randn((hidden_layer, output_layer), generator=g)\n",
    "b2 = torch.randn(output_layer, generator=g)\n",
    "parameters = [C, W1, b1, W2, b2]\n",
    "for p in parameters:\n",
    "    p.requires_grad = True\n",
    "num_param = sum(p.numel() for p in parameters)\n",
    "num_param"
   ]
  },
  {
   "cell_type": "code",
   "execution_count": 192,
   "id": "ea4396a1",
   "metadata": {},
   "outputs": [],
   "source": [
    "\"\"\" DATA SET DEVELOPMENT \"\"\"\n",
    "\n",
    "def build_dataset(words, block_size):\n",
    "    block_size = block_size\n",
    "    X, Y = [], []\n",
    "    for w in words:\n",
    "        context = [0] * block_size\n",
    "        for chr in w + '.':\n",
    "            ix = stoi[chr]\n",
    "            X.append(context)\n",
    "            Y.append(ix)\n",
    "            context = context[1:] + [ix]\n",
    "\n",
    "    X = torch.tensor(X)\n",
    "    Y = torch.tensor(Y)\n",
    "    return X, Y\n",
    "\n",
    "random.seed(66)\n",
    "random.shuffle(words)\n",
    "n1 = int(0.8*len(words))\n",
    "n2 = int(0.9*len(words))\n",
    "\n",
    "X_train, Y_train = build_dataset(words[:n1], block_size)\n",
    "X_val, Y_val = build_dataset(words[n1:n2], block_size)\n",
    "X_test, Y_ttest = build_dataset(words[n2:], block_size)\n",
    "\n"
   ]
  },
  {
   "cell_type": "code",
   "execution_count": 193,
   "id": "bb947bc4",
   "metadata": {},
   "outputs": [],
   "source": [
    "\"\"\" MODEL DEVELOPMENT \"\"\"\n",
    "\n",
    "### learning rate maximization  \n",
    "# You're sweeping learning rates from 10⁻³ = 0.001 to 10⁰ = 1.0.\n",
    "lre = torch.linspace(-2.5, -1, max_step)\n",
    "lrs = 10**lre\n",
    "\n",
    "lri = []\n",
    "lossi = []\n",
    "loss_vali = []\n",
    "for step in range(max_step):\n",
    "\n",
    "    # minibatch\n",
    "    batch_index = torch.randint(0, X_train.size(0), (32,))\n",
    "\n",
    "    # forward pass\n",
    "    emb = C[X_train[batch_index]].view(-1, block_size*C.size(1))\n",
    "    h = torch.tanh(emb @ W1 + b1)\n",
    "    logits = h @ W2 + b2\n",
    "    loss = F.cross_entropy(logits, Y_train[batch_index])\n",
    "\n",
    "    # validation\n",
    "    emb_val = C[X_val].view(-1, block_size*C.size(1))\n",
    "    h_val = torch.tanh(emb_val @ W1 + b1)\n",
    "    logits_val = h_val @ W2 + b2\n",
    "    loss_val = F.cross_entropy(logits_val, Y_val)\n",
    "    loss_vali.append(loss_val.item())\n",
    "\n",
    "    # backward\n",
    "    for p in parameters:\n",
    "        p.grad = None\n",
    "    loss.backward()\n",
    "\n",
    "    lr = 0.01\n",
    "    # lr = lrs[step]\n",
    "    for p in parameters:\n",
    "        p.data += -lr * p.grad\n",
    "    \n",
    "    # stats tracker\n",
    "    # lri.append(lre[step])\n",
    "    lossi.append(loss.item())\n"
   ]
  },
  {
   "cell_type": "code",
   "execution_count": 195,
   "id": "51b17673",
   "metadata": {},
   "outputs": [
    {
     "data": {
      "text/plain": [
       "tensor(2.8123, grad_fn=<NllLossBackward0>)"
      ]
     },
     "execution_count": 195,
     "metadata": {},
     "output_type": "execute_result"
    }
   ],
   "source": [
    "loss"
   ]
  },
  {
   "cell_type": "code",
   "execution_count": 194,
   "id": "e4cbc0ca",
   "metadata": {},
   "outputs": [
    {
     "data": {
      "text/plain": [
       "[<matplotlib.lines.Line2D at 0x17507fcb7d0>]"
      ]
     },
     "execution_count": 194,
     "metadata": {},
     "output_type": "execute_result"
    },
    {
     "data": {
      "image/png": "[encoded data removed]",
      "text/plain": [
       "<Figure size 640x480 with 1 Axes>"
      ]
     },
     "metadata": {},
     "output_type": "display_data"
    }
   ],
   "source": [
    "# plt.plot(lri, lossi)\n",
    "plt.plot(loss_vali)"
   ]
  },
  {
   "cell_type": "code",
   "execution_count": null,
   "id": "dd6e821c",
   "metadata": {},
   "outputs": [
    {
     "data": {
      "text/plain": [
       "[<matplotlib.lines.Line2D at 0x1750805b1a0>]"
      ]
     },
     "execution_count": 190,
     "metadata": {},
     "output_type": "execute_result"
    },
    {
     "data": {
      "image/png": "[encoded data removed]",
      "text/plain": [
       "<Figure size 640x480 with 1 Axes>"
      ]
     },
     "metadata": {},
     "output_type": "display_data"
    }
   ],
   "source": [
    "plt.plot(lossi)"
   ]
  },
  {
   "cell_type": "code",
   "execution_count": 199,
   "id": "bb672d10",
   "metadata": {},
   "outputs": [
    {
     "data": {
      "text/plain": [
       "torch.Size([27, 10])"
      ]
     },
     "execution_count": 199,
     "metadata": {},
     "output_type": "execute_result"
    }
   ],
   "source": [
    "C.shape"
   ]
  },
  {
   "cell_type": "code",
   "execution_count": 197,
   "id": "aa3d91d0",
   "metadata": {},
   "outputs": [
    {
     "data": {
      "image/png": "[encoded data removed]",
      "text/plain": [
       "<Figure size 800x800 with 1 Axes>"
      ]
     },
     "metadata": {},
     "output_type": "display_data"
    }
   ],
   "source": [
    "plt.figure(figsize=(8,8))\n",
    "plt.scatter(C[:,0].data, C[:,1].data, s=300)\n",
    "for i in range(C.shape[0]):\n",
    "    plt.text(C[i, 0].item(), C[i,1].item(), itos[i], ha=\"center\", va=\"center\", color=\"white\")\n",
    "plt.grid('minor')"
   ]
  }
 ],
 "metadata": {
  "kernelspec": {
   "display_name": "env",
   "language": "python",
   "name": "python3"
  },
  "language_info": {
   "codemirror_mode": {
    "name": "ipython",
    "version": 3
   },
   "file_extension": ".py",
   "mimetype": "text/x-python",
   "name": "python",
   "nbconvert_exporter": "python",
   "pygments_lexer": "ipython3",
   "version": "3.12.4"
  }
 },
 "nbformat": 4,
 "nbformat_minor": 5
}
