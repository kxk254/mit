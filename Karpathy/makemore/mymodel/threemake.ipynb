{
 "cells": [
  {
   "cell_type": "code",
   "execution_count": 1,
   "id": "2e475f63",
   "metadata": {},
   "outputs": [],
   "source": [
    "import torch\n",
    "import torch.nn.functional as F\n",
    "import random\n",
    "import matplotlib.pyplot as plt\n",
    "%matplotlib inline\n"
   ]
  },
  {
   "cell_type": "code",
   "execution_count": 2,
   "id": "3335f10e",
   "metadata": {},
   "outputs": [],
   "source": [
    "words = open('../names.txt', 'r').read().splitlines()\n",
    "\n",
    "chrs = sorted(list(set(''.join(words))))\n",
    "stoi = {s:i+1 for i, s in enumerate(chrs)}\n",
    "stoi['.'] = 0\n",
    "itos = {i:s for s, i in stoi.items()}\n",
    "vocab_size = len(itos)"
   ]
  },
  {
   "cell_type": "markdown",
   "id": "9936ccfc",
   "metadata": {},
   "source": [
    "### (5/3) is the scaling factor\n",
    "\n",
    "/ sqrt(n_embd * block_size) is the Xavier-like scaling\n",
    "\n",
    "🔍 Why (5/3)?\n",
    "This scaling appears to be based on Kaiming (He) initialization for use with tanh or leaky ReLU-like activations. In some custom designs, researchers use (5/3) specifically when using tanh activations to adjust for the fact that tanh squashes values.\n",
    "It's likely meant to adjust for the nonlinear effects of tanh:\n",
    "tanh reduces variance\n",
    "Multiplying by (5/3) boosts variance to compensate\n",
    "\n",
    "🔍 Why / sqrt(fan_in)?\n",
    "This is variance normalization, so the variance of the output doesn't blow up with increasing input dimension. Standard in Xavier and Kaiming initializations.\n",
    "\n",
    "🔹 Line 2: b1 — Bias vector\n",
    "Keeps early activations centered around zero\n",
    "Helps gradients flow better, especially with tanh or sigmoid\n",
    "\n",
    "🔹 Line 3: W2 — Output layer weights\n",
    "Small weights prevent large logits, which can hurt stability in cross-entropy\n",
    "Often you don’t want big logits early in training"
   ]
  },
  {
   "cell_type": "code",
   "execution_count": 3,
   "id": "ba92e04e",
   "metadata": {},
   "outputs": [
    {
     "name": "stdout",
     "output_type": "stream",
     "text": [
      "12297\n"
     ]
    }
   ],
   "source": [
    "# Parameters\n",
    "block_size = 3\n",
    "batch_size = 32\n",
    "n_embd = 10  # the dimensionality of the character embedding\n",
    "n_hidden = 200\n",
    "\n",
    "g  = torch.Generator().manual_seed(1337)\n",
    "C  = torch.randn((vocab_size, n_embd),              generator=g)\n",
    "W1 = torch.randn((n_embd * block_size, n_hidden),   generator=g) * (5/3)/((n_embd * block_size) ** 0.5) #* 0.3\n",
    "b1 = torch.randn((n_hidden),                        generator=g) * 0.01\n",
    "W2 = torch.randn((n_hidden, vocab_size),            generator=g) * 0.01\n",
    "b2 = torch.randn((vocab_size),                      generator=g) * 0 #to stabilize the logits\n",
    "\n",
    "bngain = torch.ones((1, n_hidden))\n",
    "bnbias = torch.zeros((1, n_hidden))\n",
    "\n",
    "bnmean_running = torch.zeros((1, n_hidden))\n",
    "bnstd_running = torch.ones((1, n_hidden))\n",
    "\n",
    "parameters = [C, W1, b1, W2, b2, bngain, bnbias]\n",
    "print(sum(p.numel() for p in parameters))\n",
    "for p in parameters:\n",
    "    p.requires_grad = True"
   ]
  },
  {
   "cell_type": "code",
   "execution_count": 13,
   "id": "27ee7969",
   "metadata": {},
   "outputs": [
    {
     "name": "stdout",
     "output_type": "stream",
     "text": [
      "torch.Size([182587, 3]) torch.Size([182587])\n",
      "torch.Size([22780, 3]) torch.Size([22780])\n",
      "torch.Size([22779, 3]) torch.Size([22779])\n"
     ]
    }
   ],
   "source": [
    "# build the dataset\n",
    "\n",
    "def build_dataset(words):\n",
    "    X, Y = [], []\n",
    "\n",
    "    for w in words:\n",
    "        context = [0] * block_size\n",
    "        for chr in w + '.':\n",
    "            ix = stoi[chr]\n",
    "            X.append(context)\n",
    "            Y.append(ix)\n",
    "            context = context[1:] + [ix]\n",
    "    X = torch.tensor(X)\n",
    "    Y = torch.tensor(Y)\n",
    "    print(X.size(), Y.size())\n",
    "    return X, Y\n",
    "\n",
    "random.seed(1337)\n",
    "random.shuffle(words)\n",
    "n1 = int(len(words)* 0.8)\n",
    "n2 = int(len(words)* 0.9)\n",
    "\n",
    "Xtr, Ytr = build_dataset(words[:n1])\n",
    "Xdev, Ydev = build_dataset(words[n1:n2])\n",
    "Xte, Yte = build_dataset(words[n2:])\n"
   ]
  },
  {
   "cell_type": "code",
   "execution_count": 15,
   "id": "d0584c53",
   "metadata": {},
   "outputs": [
    {
     "name": "stdout",
     "output_type": "stream",
     "text": [
      "      0/  80000: 2.3177 :lr=0.1\n",
      "  10000/  80000: 2.0400 :lr=0.01\n",
      "  20000/  80000: 2.1616 :lr=0.01\n",
      "  30000/  80000: 2.2818 :lr=0.01\n",
      "  40000/  80000: 2.1449 :lr=0.01\n",
      "  50000/  80000: 1.9675 :lr=0.01\n",
      "  60000/  80000: 2.0966 :lr=0.01\n",
      "  70000/  80000: 2.2373 :lr=0.01\n"
     ]
    }
   ],
   "source": [
    "# Optimization\n",
    "max_steps = 80000\n",
    "lossi = []\n",
    "for step in range(max_steps):\n",
    "\n",
    "    # minibatch\n",
    "    b_ix = torch.randint(0, Xtr.size(0), (batch_size,), generator=g)\n",
    "    Xb, Yb = Xtr[b_ix], Ytr[b_ix]\n",
    "\n",
    "    # forward pass\n",
    "    emb= C[Xb]\n",
    "    embcat = emb.view(-1, n_embd * block_size)\n",
    "    hpreact = embcat @ W1 + b1\n",
    "\n",
    "    ## batchnorm\n",
    "    bnmeani = hpreact.mean(0, keepdim=True)  # for perfomance evaluation\n",
    "    bnstdi = hpreact.std(0, keepdim=True) # for perfomance evaluation\n",
    "    hpreact = bngain * (hpreact - hpreact.mean(0, keepdim=True)) / hpreact.std(0, keepdim=True)\n",
    "\n",
    "    with torch.no_grad():\n",
    "        bnmean_running = 0.999 * bnmean_running + 0.001 * bnmeani\n",
    "        bnstd_running = 0.999 * bnstd_running + 0.001 * bnstdi\n",
    "\n",
    "    # non linearlity\n",
    "    h = torch.tanh(hpreact)\n",
    "    logits = h @ W2 + b2\n",
    "    loss = F.cross_entropy(logits, Yb)\n",
    "\n",
    "    # backward pass\n",
    "    for p in parameters:\n",
    "        p.grad = None\n",
    "    loss.backward()\n",
    "\n",
    "    # update the parameters\n",
    "    lr = 0.1 if step < 10000 else 0.01\n",
    "    for p in parameters:\n",
    "        if p.grad is not None:\n",
    "            p.data += -lr * p.grad\n",
    "    \n",
    "    # track stats\n",
    "    if step % 10000 == 0:\n",
    "        print(f\"{step:7d}/{max_steps:7d}: {loss.item():.4f} :lr={lr}\")\n",
    "    lossi.append(loss.log10().item())"
   ]
  },
  {
   "cell_type": "code",
   "execution_count": 16,
   "id": "dc35b8ed",
   "metadata": {},
   "outputs": [
    {
     "data": {
      "text/plain": [
       "Text(0.5, 1.0, 'before activation function')"
      ]
     },
     "execution_count": 16,
     "metadata": {},
     "output_type": "execute_result"
    },
    {
     "data": {
      "image/png": "[encoded data removed]",
      "text/plain": [
       "<Figure size 800x500 with 2 Axes>"
      ]
     },
     "metadata": {},
     "output_type": "display_data"
    }
   ],
   "source": [
    "# after activation output\n",
    "fig, axs = plt.subplots(1, 2, figsize=(8,5))  # 1 row, 2 columns\n",
    "axs[0].hist(h.view(-1).tolist(),50);\n",
    "axs[0].set_title(\"after activation function\")\n",
    "axs[1].hist(hpreact.view(-1).tolist(),50);\n",
    "axs[1].set_title(\"before activation function\")\n"
   ]
  },
  {
   "cell_type": "code",
   "execution_count": 17,
   "id": "7024b37e",
   "metadata": {},
   "outputs": [
    {
     "data": {
      "text/plain": [
       "Text(0.5, 1.0, 'lossi')"
      ]
     },
     "execution_count": 17,
     "metadata": {},
     "output_type": "execute_result"
    },
    {
     "data": {
      "image/png": "[encoded data removed]",
      "text/plain": [
       "<Figure size 900x500 with 2 Axes>"
      ]
     },
     "metadata": {},
     "output_type": "display_data"
    }
   ],
   "source": [
    "fig, axs = plt.subplots(2, 1, figsize=(9,5))  # 1 row, 2 columns\n",
    "axs[0].imshow(h.abs() > 0.99, cmap='gray', interpolation='nearest')\n",
    "axs[0].set_title(\"after activation white=satured, black=learning\")\n",
    "axs[1].plot(lossi)\n",
    "axs[1].set_title(\"lossi\")"
   ]
  },
  {
   "cell_type": "code",
   "execution_count": 18,
   "id": "035759b8",
   "metadata": {},
   "outputs": [
    {
     "name": "stdout",
     "output_type": "stream",
     "text": [
      "train 2.139954090118408\n",
      "val 2.1689810752868652\n"
     ]
    }
   ],
   "source": [
    "# calibrate the batch norm at the end of training\n",
    "\n",
    "with torch.no_grad():\n",
    "    emb = C[Xtr]\n",
    "    embcat = emb.view(-1, n_embd * block_size)\n",
    "    hpreact = embcat @ W1 + b1\n",
    "    # mearue the mean and stdev\n",
    "    bnmean = hpreact.mean(0, keepdim=True)\n",
    "    bnstd = hpreact.std(0, keepdim=True)\n",
    "\n",
    "@torch.no_grad()\n",
    "def split_loss(split):\n",
    "    x, y = {\n",
    "        'train': (Xtr, Ytr),\n",
    "        'val': (Xdev, Ydev),\n",
    "        'test': (Xte, Yte),\n",
    "    }[split]\n",
    "    emb = C[x]\n",
    "    embcat = emb.view(-1, n_embd * block_size)\n",
    "    hpreact = embcat @ W1 + b1\n",
    "    hpreact = bngain * (hpreact - bnmean_running) / bnstd_running + bnbias\n",
    "    h = torch.tanh(hpreact)\n",
    "    logits = h @ W2 + b2\n",
    "    loss = F.cross_entropy(logits, y)\n",
    "    print(split, loss.item())\n",
    "\n",
    "split_loss('train')\n",
    "split_loss('val')\n"
   ]
  },
  {
   "cell_type": "code",
   "execution_count": 20,
   "id": "7faf00ea",
   "metadata": {},
   "outputs": [
    {
     "data": {
      "image/png": "[encoded data removed]",
      "text/plain": [
       "<Figure size 640x480 with 1 Axes>"
      ]
     },
     "metadata": {},
     "output_type": "display_data"
    }
   ],
   "source": [
    "plt.hist(b1.view(-1).tolist(), 30);"
   ]
  },
  {
   "cell_type": "code",
   "execution_count": 23,
   "id": "6dac6a0f",
   "metadata": {},
   "outputs": [
    {
     "name": "stdout",
     "output_type": "stream",
     "text": [
      "train 2.140204668045044\n",
      "val 2.1691184043884277\n"
     ]
    }
   ],
   "source": [
    "@torch.no_grad()\n",
    "def split_loss(split):\n",
    "\n",
    "    x, y = {\n",
    "        'train': (Xtr, Ytr),\n",
    "        'val': (Xdev, Ydev),\n",
    "        'test': (Xte, Yte),\n",
    "    }[split]\n",
    "    emb = C[x]\n",
    "    embcat = emb.view(-1, n_embd * block_size)\n",
    "    hpreact = embcat @ W1 + b1\n",
    "    hpreact = bngain * (hpreact - hpreact.mean(0, keepdim=True)) / hpreact.std(0, keepdim=True)\n",
    "    h = torch.tanh(hpreact)\n",
    "    logits = h @ W2 + b2\n",
    "    loss = F.cross_entropy(logits, y)\n",
    "    print(split, loss.item())\n",
    "\n",
    "split_loss('train')\n",
    "split_loss('val')"
   ]
  },
  {
   "cell_type": "code",
   "execution_count": 24,
   "id": "e7071c2b",
   "metadata": {},
   "outputs": [
    {
     "name": "stdout",
     "output_type": "stream",
     "text": [
      "rukshmichaven.\n",
      "zellynn.\n",
      "yovina.\n",
      "tie.\n",
      "nor.\n",
      "tamirmanoelaniyanaziconncxeph.\n",
      "sardelv.\n",
      "jaya.\n",
      "lyllagiidee.\n",
      "lam.\n",
      "gdremayajust.\n",
      "kavickadaryshayda.\n",
      "jaxen.\n",
      "sanjace.\n",
      "liyanalgoriyahhaevondlyn.\n",
      "nikhammir.\n",
      "kvingy.\n",
      "damya.\n",
      "carleemandstoshaidarivetzieidarctedvie.\n",
      "krist.\n"
     ]
    }
   ],
   "source": [
    "# generate sample\n",
    "\n",
    "for _ in range(20):\n",
    "\n",
    "    out = []\n",
    "    context = [0] * block_size\n",
    "    while True:\n",
    "        emb = C[torch.tensor([context])]\n",
    "        h = torch.tanh(emb.view(-1, n_embd * block_size) @ W1 + b1)\n",
    "        logits = h @ W2 + b2\n",
    "        probs = F.softmax(logits, dim=1)\n",
    "        ix = torch.multinomial(probs, num_samples=1, generator=g).item()\n",
    "        context = context[1:] + [ix]\n",
    "        out.append(ix)\n",
    "\n",
    "        if ix == 0:\n",
    "            break\n",
    "    print(''.join(itos[i] for i in out))\n"
   ]
  },
  {
   "cell_type": "code",
   "execution_count": null,
   "id": "6e93e2c8",
   "metadata": {},
   "outputs": [],
   "source": []
  }
 ],
 "metadata": {
  "kernelspec": {
   "display_name": "env",
   "language": "python",
   "name": "python3"
  },
  "language_info": {
   "codemirror_mode": {
    "name": "ipython",
    "version": 3
   },
   "file_extension": ".py",
   "mimetype": "text/x-python",
   "name": "python",
   "nbconvert_exporter": "python",
   "pygments_lexer": "ipython3",
   "version": "3.12.4"
  }
 },
 "nbformat": 4,
 "nbformat_minor": 5
}
