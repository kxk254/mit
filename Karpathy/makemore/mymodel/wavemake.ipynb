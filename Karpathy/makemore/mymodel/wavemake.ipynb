{
 "cells": [
  {
   "cell_type": "code",
   "execution_count": 6,
   "id": "abedcd6e",
   "metadata": {},
   "outputs": [],
   "source": [
    "import torch\n",
    "import torch.nn as nn\n",
    "import torch.nn.functional as F \n",
    "import random\n",
    "import matplotlib.pyplot as plt\n",
    "%matplotlib inline"
   ]
  },
  {
   "cell_type": "code",
   "execution_count": 66,
   "id": "f097ccd8",
   "metadata": {},
   "outputs": [],
   "source": [
    "words = open('../names.txt', 'r').read().splitlines()\n",
    "chrs = sorted(list(set(''.join(words))))\n",
    "\n",
    "stoi = {s:i + 1 for i, s in enumerate(chrs)}\n",
    "stoi['.'] = 0\n",
    "itos = {i:s for s, i in stoi.items()}"
   ]
  },
  {
   "cell_type": "code",
   "execution_count": 76,
   "id": "c4571e77",
   "metadata": {},
   "outputs": [],
   "source": [
    "# parameters\n",
    "vocab_size = len(itos)\n",
    "block_size = 8\n",
    "batch_size = 32\n",
    "g = torch.Generator().manual_seed(1337)\n",
    "n_embd = 24\n",
    "n_hidden = 128\n",
    "\n",
    "#params\n",
    "C = torch.randn((vocab_size, n_embd), generator=g)\n"
   ]
  },
  {
   "cell_type": "code",
   "execution_count": 77,
   "id": "439bdbc1",
   "metadata": {},
   "outputs": [
    {
     "name": "stdout",
     "output_type": "stream",
     "text": [
      "torch.Size([182587, 8]) torch.Size([182587])\n",
      "torch.Size([22780, 8]) torch.Size([22780])\n",
      "torch.Size([22779, 8]) torch.Size([22779])\n"
     ]
    }
   ],
   "source": [
    "# build dataset\n",
    "\n",
    "def build_dataset(words, block_size=block_size):\n",
    "    X, Y = [], []\n",
    "    for w in words:\n",
    "        context = [0] * block_size\n",
    "        for ch in w + '.':\n",
    "            ix = stoi[ch]\n",
    "            X.append(context)\n",
    "            Y.append(ix)\n",
    "            context = context[1:] + [ix]\n",
    "    X = torch.tensor(X)\n",
    "    Y = torch.tensor(Y)\n",
    "    print(X.size(), Y.size())\n",
    "    return X, Y\n",
    "\n",
    "random.seed(1337)\n",
    "random.shuffle(words)\n",
    "n1 = int(len(words)*0.8)\n",
    "n2 = int(len(words)*0.9)\n",
    "\n",
    "Xtr, Ytr = build_dataset(words[:n1], block_size)\n",
    "Xval, Yval = build_dataset(words[n1:n2], block_size)\n",
    "Xte, Yte = build_dataset(words[n2:], block_size)"
   ]
  },
  {
   "cell_type": "code",
   "execution_count": 78,
   "id": "5eacc8da",
   "metadata": {},
   "outputs": [
    {
     "name": "stdout",
     "output_type": "stream",
     "text": [
      "........ --> w\n",
      ".......w --> e\n",
      "......we --> s\n",
      ".....wes --> s\n",
      "....wess --> o\n",
      "...wesso --> n\n",
      "..wesson --> .\n",
      "........ --> e\n",
      ".......e --> y\n",
      "......ey --> r\n"
     ]
    }
   ],
   "source": [
    "for x, y in zip(Xtr[:10], Ytr[:10]):\n",
    "    print(''.join(itos[ix.item()] for ix in x), '-->', itos[y.item()])"
   ]
  },
  {
   "cell_type": "code",
   "execution_count": null,
   "id": "3a07f1a7",
   "metadata": {},
   "outputs": [],
   "source": [
    "class Linear:\n",
    "\n",
    "    def __init__(self, fan_in, fan_out, bias=True):\n",
    "        self.weight = torch.randn((fan_in, fan_out), generator=g)\n",
    "        self.bias = torch.randn(fan_out) if bias else None\n",
    "    \n",
    "    def __call__(self, x):\n",
    "        self.out = x @ self.weight\n",
    "        if self.bias is not None:\n",
    "            self.out += self.bias\n",
    "        return self.out\n",
    "\n",
    "    def parameters(self):\n",
    "        return [self.weight] + ([] if self.bias is None else [self.bias])\n",
    "\n",
    "class BatchNorm1d:\n",
    "\n",
    "    def __init__(self, dim, eps=1e-5, momentum=0.1):\n",
    "        self.eps = eps\n",
    "        self.momentum = momentum\n",
    "        self.training = True\n",
    "        # parameters\n",
    "        self.gamma = torch.ones(dim)\n",
    "        self.beta = torch.zeros(dim)\n",
    "        # memory\n",
    "        self.running_mean = torch.zeros(dim)\n",
    "        self.running_var = torch.ones(dim)\n",
    "    \n",
    "    def __call__(self, x):\n",
    "        # calculate forward\n",
    "        if self.training:\n",
    "            if x.ndim == 2:  # output layer: compute mean/var over the batch, i.e., dim=0\n",
    "                dim = 0\n",
    "            elif x.ndim == 3:  # compute mean/var over both batch and time dimensions, i.e., dim=(0, 1)\n",
    "                dim = (0,1)\n",
    "            xmean = x.mean(dim, keepdim=True)\n",
    "            xvar = x.var(dim, keepdim=True)\n",
    "        else:\n",
    "            xmean = self.running_mean\n",
    "            xvar = self.running_var\n",
    "        xhat = (x - xmean) / torch.sqrt(xvar + self.eps)\n",
    "        self.out = self.gamma * xhat + self.beta\n",
    "        # update the memory\n",
    "        if self.training:\n",
    "            with torch.no_grad():\n",
    "                self.running_mean = (1-self.momentum) * self.running_mean + self.momentum * xmean\n",
    "                self.running_var = (1-self.momentum) * self.running_var + self.momentum * xvar\n",
    "        return self.out\n",
    "    \n",
    "    def parameters(self):\n",
    "        return [self.gamma, self.beta]\n",
    "\n",
    "class Tanh:\n",
    "\n",
    "    def __call__(self, x):\n",
    "        self.out = torch.tanh(x)\n",
    "        return self.out\n",
    "    \n",
    "    def parameters(self):\n",
    "        return []\n",
    "    \n",
    "class Embedding:\n",
    "\n",
    "    def __init__(self, num_embeddings, embedding_dim):\n",
    "        self.weight = torch.randn((num_embeddings, embedding_dim))\n",
    "    \n",
    "    def __call__(self, IX):\n",
    "        self.out = self.weight[IX]\n",
    "        return self.out\n",
    "    \n",
    "    def parameters(self):\n",
    "        return [self.weight]\n",
    "    \n",
    "class FlattenConsecutive:\n",
    "\n",
    "    def __init__(self, n):\n",
    "        self.n = n\n",
    "    \n",
    "    def __call__(self, x):\n",
    "        B, T, C = x.size()\n",
    "        x = x.view(B, T//self.n, C*self.n)\n",
    "        if x.size(1) == 1:\n",
    "            x = x.squeeze(1)\n",
    "        self.out = x\n",
    "        return self.out\n",
    "    \n",
    "    def parameters(self):\n",
    "        return []\n",
    "\n",
    "class Sequential:\n",
    "\n",
    "    def __init__(self, layers):\n",
    "        self.layers = layers\n",
    "    \n",
    "    def __call__(self, x):\n",
    "        for layer in self.layers:\n",
    "            x = layer(x)\n",
    "        self.out = x\n",
    "        return self.out\n",
    "\n",
    "    def parameters(self):\n",
    "        #get all params\n",
    "        return [p for layer in self.layers for p in layer.parameters()]\n"
   ]
  },
  {
   "cell_type": "code",
   "execution_count": 80,
   "id": "ebb9ccde",
   "metadata": {},
   "outputs": [
    {
     "name": "stdout",
     "output_type": "stream",
     "text": [
      "76579\n"
     ]
    }
   ],
   "source": [
    "model = Sequential([\n",
    "    Embedding(vocab_size, n_embd),\n",
    "    FlattenConsecutive(2), Linear(n_embd*2,     n_hidden, bias=False), BatchNorm1d(n_hidden), Tanh(),\n",
    "    FlattenConsecutive(2), Linear(n_hidden*2,   n_hidden, bias=False), BatchNorm1d(n_hidden), Tanh(),\n",
    "    FlattenConsecutive(2), Linear(n_hidden*2,   n_hidden, bias=False), BatchNorm1d(n_hidden), Tanh(),\n",
    "    Linear(n_hidden, vocab_size)\n",
    "])\n",
    "\n",
    "with torch.no_grad():\n",
    "    model.layers[-1].weight *= 0.1\n",
    "\n",
    "parameters = model.parameters()\n",
    "print(sum(p.numel() for p in parameters))\n",
    "for p in parameters:\n",
    "    p.requires_grad = True"
   ]
  },
  {
   "cell_type": "code",
   "execution_count": 81,
   "id": "ac03d209",
   "metadata": {},
   "outputs": [
    {
     "name": "stdout",
     "output_type": "stream",
     "text": [
      "      0/  20000: 4.4454 :lr=0.1\n",
      "   1000/  20000: 2.0543 :lr=0.01\n",
      "   2000/  20000: 2.2746 :lr=0.01\n",
      "   3000/  20000: 2.5270 :lr=0.01\n",
      "   4000/  20000: 2.0747 :lr=0.01\n",
      "   5000/  20000: 2.7762 :lr=0.01\n",
      "   6000/  20000: 2.6165 :lr=0.01\n",
      "   7000/  20000: 2.2860 :lr=0.01\n",
      "   8000/  20000: 2.3439 :lr=0.01\n",
      "   9000/  20000: 2.6263 :lr=0.01\n",
      "  10000/  20000: 2.4504 :lr=0.01\n",
      "  11000/  20000: 2.0801 :lr=0.01\n",
      "  12000/  20000: 2.3582 :lr=0.01\n",
      "  13000/  20000: 2.1157 :lr=0.01\n",
      "  14000/  20000: 2.0281 :lr=0.01\n",
      "  15000/  20000: 2.3666 :lr=0.01\n",
      "  16000/  20000: 2.0609 :lr=0.01\n",
      "  17000/  20000: 2.5642 :lr=0.01\n",
      "  18000/  20000: 2.3993 :lr=0.01\n",
      "  19000/  20000: 2.6326 :lr=0.01\n"
     ]
    }
   ],
   "source": [
    "# optimization\n",
    "max_steps = 20000\n",
    "lossi = []\n",
    "ud = []\n",
    "\n",
    "for step in range(max_steps):\n",
    "\n",
    "    # minibatch\n",
    "    b_ix = torch.randint(0, Xtr.size(0), (batch_size,), generator=g)\n",
    "    Xb, Yb = Xtr[b_ix], Ytr[b_ix]\n",
    "\n",
    "    #forward pass\n",
    "    logits = model(Xb)\n",
    "    loss = F.cross_entropy(logits, Yb)\n",
    "\n",
    "    # backward\n",
    "    for p in parameters:\n",
    "        p.grad = None\n",
    "    loss.backward()\n",
    "\n",
    "    # update params\n",
    "    lr = 0.1 if step < 500 else 0.01\n",
    "    for p in parameters:\n",
    "        p.data += -lr * p.grad\n",
    "    \n",
    "    # track stats\n",
    "    if step % 1000 == 0:\n",
    "        print(f\"{step:7d}/{max_steps:7d}: {loss.item():.4f} :lr={lr}\")\n",
    "    lossi.append(loss.log10().item())\n",
    "    with torch.no_grad():\n",
    "        ud.append([lr*p.grad.std()/p.data.std().log10().item() for p in parameters])\n",
    "    \n",
    "    # break\n",
    "    # if step > 200:\n",
    "    #     break\n"
   ]
  },
  {
   "cell_type": "code",
   "execution_count": 82,
   "id": "89aaffcc",
   "metadata": {},
   "outputs": [
    {
     "name": "stdout",
     "output_type": "stream",
     "text": [
      "Embedding : (32, 8, 24)\n",
      "FlattenConsecutive : (32, 4, 48)\n",
      "Linear : (32, 4, 128)\n",
      "BatchNorm1d : (32, 4, 128)\n",
      "Tanh : (32, 4, 128)\n",
      "FlattenConsecutive : (32, 2, 256)\n",
      "Linear : (32, 2, 128)\n",
      "BatchNorm1d : (32, 2, 128)\n",
      "Tanh : (32, 2, 128)\n",
      "FlattenConsecutive : (32, 256)\n",
      "Linear : (32, 128)\n",
      "BatchNorm1d : (32, 128)\n",
      "Tanh : (32, 128)\n",
      "Linear : (32, 27)\n"
     ]
    }
   ],
   "source": [
    "for layer in model.layers:\n",
    "    print(layer.__class__.__name__, ':', tuple(layer.out.shape))"
   ]
  },
  {
   "cell_type": "code",
   "execution_count": 83,
   "id": "4b65c19c",
   "metadata": {},
   "outputs": [
    {
     "data": {
      "text/plain": [
       "[<matplotlib.lines.Line2D at 0x21debdefb00>]"
      ]
     },
     "execution_count": 83,
     "metadata": {},
     "output_type": "execute_result"
    },
    {
     "data": {
      "image/png": "[encoded data removed]",
      "text/plain": [
       "<Figure size 640x480 with 1 Axes>"
      ]
     },
     "metadata": {},
     "output_type": "display_data"
    }
   ],
   "source": [
    "plt.plot(torch.tensor(lossi[:max_steps]).view(-1, int((max_steps/10))).mean(1))"
   ]
  },
  {
   "cell_type": "code",
   "execution_count": 84,
   "id": "2358bab4",
   "metadata": {},
   "outputs": [
    {
     "name": "stdout",
     "output_type": "stream",
     "text": [
      "train 2.2863876819610596\n",
      "val 2.2988719940185547\n"
     ]
    }
   ],
   "source": [
    "# to eval mode\n",
    "for layer in model.layers:\n",
    "    layer.training = False\n",
    "\n",
    "@torch.no_grad()\n",
    "def split_loss(split):\n",
    "    x, y = {\n",
    "        'train': (Xtr, Ytr),\n",
    "        'val': (Xval, Yval),\n",
    "        'test': (Xte, Yte),\n",
    "    }[split]\n",
    "    logits = model(x)\n",
    "    loss = F.cross_entropy(logits, y)\n",
    "    print(split, loss.item())\n",
    "\n",
    "split_loss('train')\n",
    "split_loss('val')"
   ]
  },
  {
   "cell_type": "code",
   "execution_count": 86,
   "id": "a1405988",
   "metadata": {},
   "outputs": [
    {
     "name": "stdout",
     "output_type": "stream",
     "text": [
      "zedfl.\n",
      "abxlopey.\n",
      "dindre.\n",
      "madken.\n",
      "saydelar.\n",
      "akeynen.\n",
      "echoriah.\n",
      "jeane.\n",
      "jurastor.\n",
      "brlas.\n",
      "mayes.\n",
      "tianuew.\n",
      "kenvan.\n",
      "tshon.\n",
      "keliano.\n",
      "ziaish.\n",
      "lcinttasg.\n",
      "auri.\n",
      "brinetan.\n",
      "milyah.\n"
     ]
    }
   ],
   "source": [
    "# sample from the model\n",
    "\n",
    "for _ in range(20):\n",
    "\n",
    "    out = []\n",
    "    context = [0] * block_size\n",
    "    while True:\n",
    "        logits = model(torch.tensor([context]))\n",
    "        probs = F.softmax(logits, dim=1)\n",
    "        ix = torch.multinomial(probs, num_samples=1).item()\n",
    "        context = context[1:] + [ix]\n",
    "        out.append(ix)\n",
    "        if ix == 0:\n",
    "            break\n",
    "    \n",
    "    print(''.join(itos[i] for i in out))"
   ]
  }
 ],
 "metadata": {
  "kernelspec": {
   "display_name": "env",
   "language": "python",
   "name": "python3"
  },
  "language_info": {
   "codemirror_mode": {
    "name": "ipython",
    "version": 3
   },
   "file_extension": ".py",
   "mimetype": "text/x-python",
   "name": "python",
   "nbconvert_exporter": "python",
   "pygments_lexer": "ipython3",
   "version": "3.12.4"
  }
 },
 "nbformat": 4,
 "nbformat_minor": 5
}
