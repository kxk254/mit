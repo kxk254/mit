{
 "cells": [
  {
   "cell_type": "code",
   "execution_count": 14,
   "id": "2cd47cb6",
   "metadata": {},
   "outputs": [
    {
     "data": {
      "text/plain": [
       "<torch._C.Generator at 0x1acd1096410>"
      ]
     },
     "execution_count": 14,
     "metadata": {},
     "output_type": "execute_result"
    }
   ],
   "source": [
    "import torch.nn as nn\n",
    "import torch\n",
    "from subfunc import data_loader\n",
    "import random\n",
    "import matplotlib.pyplot as plt\n",
    "\n",
    "random.seed(1337)\n",
    "torch.manual_seed(1337)"
   ]
  },
  {
   "cell_type": "code",
   "execution_count": 17,
   "id": "016dc2fb",
   "metadata": {},
   "outputs": [
    {
     "name": "stdout",
     "output_type": "stream",
     "text": [
      "y shape torch.Size([60000])\n"
     ]
    }
   ],
   "source": [
    "x, y, x_val, y_val, x_test, y_test = data_loader()\n",
    "x = torch.tensor(x)\n",
    "y = torch.tensor(y)\n",
    "x_val = torch.tensor(x_val)\n",
    "y_val = torch.tensor(y_val)\n",
    "x_test = torch.tensor(x_test)\n",
    "y_test = torch.tensor(y_test)\n",
    "print(\"y shape\", y.shape)\n",
    "steps = 100 #400\n",
    "sample, yoko, tate = x.shape\n",
    "h1 = 80\n",
    "h2 = 30\n",
    "in_shape = yoko*tate\n",
    "l1 = nn.Linear(in_shape,h1)\n",
    "# nl1 = nn.LeakyReLU(0.2)\n",
    "bn1 = nn.BatchNorm1d(h1)\n",
    "nl1 = nn.ReLU()\n",
    "# nl1 = nn.Softmax(dim=1)\n",
    "l2 = nn.Linear(h1, h2)\n",
    "bn2 = nn.BatchNorm1d(h2)\n",
    "nl2 = nn.ReLU()\n",
    "# nl2 = nn.Softmax(dim=1)\n",
    "outl = nn.Linear(h2, 10)\n",
    "input_data = torch.reshape(x, (sample, yoko*tate))\n",
    "sample_val, yoko, tate = x_val.shape\n",
    "x_val = torch.reshape(x_val, (sample_val, yoko*tate))\n",
    "\n",
    "# optimizer and loss\n",
    "params = list(l1.parameters()) + list(l2.parameters()) + list(outl.parameters())\n",
    "lr=0.0002\n",
    "optimizer = torch.optim.Adam(params, lr=lr)\n",
    "loss_fn = nn.CrossEntropyLoss()"
   ]
  },
  {
   "cell_type": "code",
   "execution_count": 18,
   "id": "83a349c2",
   "metadata": {},
   "outputs": [
    {
     "name": "stdout",
     "output_type": "stream",
     "text": [
      " 0 iter -> loss output :2.3855 | lr: 0.000200 | Accuracy: 11.40%| Val Loss: 2.3908 | Val Acccuracy: 11.98%\n",
      "10 iter -> loss output :1.8977 | lr: 0.000200 | Accuracy: 37.89%| Val Loss: 1.9324 | Val Acccuracy: 35.78%\n",
      "20 iter -> loss output :1.6871 | lr: 0.000200 | Accuracy: 55.86%| Val Loss: 1.7201 | Val Acccuracy: 54.84%\n",
      "30 iter -> loss output :1.6260 | lr: 0.000080 | Accuracy: 60.46%| Val Loss: 1.6598 | Val Acccuracy: 59.84%\n",
      "40 iter -> loss output :1.5936 | lr: 0.000016 | Accuracy: 62.97%| Val Loss: 1.6283 | Val Acccuracy: 62.06%\n",
      "50 iter -> loss output :1.5808 | lr: 0.000016 | Accuracy: 63.98%| Val Loss: 1.6159 | Val Acccuracy: 62.90%\n",
      "60 iter -> loss output :1.5664 | lr: 0.000016 | Accuracy: 65.05%| Val Loss: 1.6019 | Val Acccuracy: 63.86%\n",
      "70 iter -> loss output :1.5511 | lr: 0.000016 | Accuracy: 66.14%| Val Loss: 1.5870 | Val Acccuracy: 64.94%\n",
      "80 iter -> loss output :1.5354 | lr: 0.000016 | Accuracy: 67.27%| Val Loss: 1.5716 | Val Acccuracy: 65.76%\n",
      "90 iter -> loss output :1.5195 | lr: 0.000016 | Accuracy: 68.31%| Val Loss: 1.5561 | Val Acccuracy: 67.02%\n"
     ]
    }
   ],
   "source": [
    "for step in range(steps):\n",
    "\n",
    "    output1 = l1(input_data)\n",
    "    output1b = bn1(output1)\n",
    "    output2 = nl1(output1b)  #non lenear 1\n",
    "    output3 = l2(output2)\n",
    "    output3b = bn2(output3)\n",
    "    output4 = nl2(output3b) #non lenear 2\n",
    "    output = outl(output4)\n",
    "\n",
    "    if step == 21:\n",
    "         lr = lr * 0.4\n",
    "         for param_group in optimizer.param_groups:\n",
    "            param_group['lr'] = lr\n",
    "    \n",
    "    if step == 35:\n",
    "         lr = lr * 0.2\n",
    "         for param_group in optimizer.param_groups:\n",
    "            param_group['lr'] = lr\n",
    "    \n",
    "    if step == 200:\n",
    "         lr = lr * 0.3\n",
    "         for param_group in optimizer.param_groups:\n",
    "            param_group['lr'] = lr\n",
    "    \n",
    "    if step == 300:\n",
    "         lr = lr * 0.3\n",
    "         for param_group in optimizer.param_groups:\n",
    "            param_group['lr'] = lr\n",
    "\n",
    "\n",
    "    loss_output = loss_fn(output, y)\n",
    "    if step % 10 == 0:\n",
    "        with torch.no_grad():\n",
    "\n",
    "            # accuracy \n",
    "            preds = torch.argmax(output, dim=1)\n",
    "            correct = (preds == y).sum().item()\n",
    "            accuracy = correct / y.size(0)\n",
    "\n",
    "            # validation\n",
    "            output_val = l1(x_val)\n",
    "            output_val = bn1(output_val)\n",
    "            output_val = nl1(output_val)\n",
    "            output_val = l2(output_val)\n",
    "            output_val = bn2(output_val)\n",
    "            output_val = nl2(output_val)\n",
    "            output_val = outl(output_val)\n",
    "\n",
    "            # validation loss\n",
    "            val_loss = loss_fn(output_val, y_val)\n",
    "\n",
    "            # calculate validation accuracy\n",
    "            preds_val = torch.argmax(output_val, dim=1)\n",
    "            correct_val = (preds_val == y_val).sum().item()\n",
    "            val_accuracy = correct_val / y_val.size(0)\n",
    "\n",
    "        print(f\"{step:2d} iter -> loss output :{loss_output.item():.4f} | lr: {lr:7f} | Accuracy: {accuracy*100:.2f}%| Val Loss: {val_loss.item():.4f} | Val Acccuracy: {val_accuracy*100:.2f}%\")\n",
    "    \n",
    "    loss_output.backward()\n",
    "    optimizer.step()"
   ]
  },
  {
   "cell_type": "code",
   "execution_count": 28,
   "id": "7f35378a",
   "metadata": {},
   "outputs": [
    {
     "data": {
      "image/png": "[encoded data removed]",
      "text/plain": [
       "<Figure size 640x480 with 1 Axes>"
      ]
     },
     "metadata": {},
     "output_type": "display_data"
    }
   ],
   "source": [
    "# Assuming output3 and output3b are tensors, you need to flatten them and convert to a list\n",
    "# output1_flat = output1.view(-1).tolist()\n",
    "# output1b_flat = output1b.view(-1).tolist()\n",
    "output3_flat = output3.view(-1).tolist()\n",
    "output3b_flat = output3b.view(-1).tolist()\n",
    "\n",
    "# Create the histogram\n",
    "# plt.hist(output1_flat, bins=20, alpha=0.5, label='output1')\n",
    "# plt.hist(output1b_flat, bins=20, alpha=0.5, label='output1b')\n",
    "plt.hist(output3_flat, bins=20, alpha=0.5, label='output3')\n",
    "plt.hist(output3b_flat, bins=20, alpha=0.5, label='output3b')\n",
    "\n",
    "# Add labels and title\n",
    "plt.xlabel('Value')\n",
    "plt.ylabel('Frequency')\n",
    "plt.title('Comparison of output3 and output3b')\n",
    "\n",
    "# Add a legend to differentiate the two histograms\n",
    "plt.legend()\n",
    "\n",
    "# Show the plot\n",
    "plt.show()"
   ]
  }
 ],
 "metadata": {
  "kernelspec": {
   "display_name": "env",
   "language": "python",
   "name": "python3"
  },
  "language_info": {
   "codemirror_mode": {
    "name": "ipython",
    "version": 3
   },
   "file_extension": ".py",
   "mimetype": "text/x-python",
   "name": "python",
   "nbconvert_exporter": "python",
   "pygments_lexer": "ipython3",
   "version": "3.12.4"
  }
 },
 "nbformat": 4,
 "nbformat_minor": 5
}
