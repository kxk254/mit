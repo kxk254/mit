{
 "cells": [
  {
   "cell_type": "code",
   "execution_count": 1,
   "id": "4d6eac83",
   "metadata": {},
   "outputs": [
    {
     "name": "stdout",
     "output_type": "stream",
     "text": [
      "Ultralytics 8.3.131  Python-3.12.4 torch-2.6.0+cpu CPU (12th Gen Intel Core(TM) i7-1255U)\n",
      "Setup complete  (12 CPUs, 15.7 GB RAM, 14.9/116.3 GB disk)\n"
     ]
    }
   ],
   "source": [
    "\n",
    "# Pip install method (recommended)\n",
    "# %pip install ultralytics\n",
    "import ultralytics\n",
    "ultralytics.checks()"
   ]
  },
  {
   "cell_type": "code",
   "execution_count": 3,
   "id": "fccf77c8",
   "metadata": {},
   "outputs": [
    {
     "name": "stdout",
     "output_type": "stream",
     "text": [
      "Ultralytics 8.3.131  Python-3.12.4 torch-2.6.0+cpu CPU (12th Gen Intel Core(TM) i7-1255U)\n",
      "YOLOv8n summary (fused): 72 layers, 3,151,904 parameters, 0 gradients, 8.7 GFLOPs\n",
      "\n",
      "Found https://ultralytics.com/images/zidane.jpg locally at zidane.jpg\n",
      "image 1/1 h:\\dev\\mit\\yolo\\zidane.jpg: 384x640 2 persons, 1 tie, 84.9ms\n",
      "Speed: 2.2ms preprocess, 84.9ms inference, 1.5ms postprocess per image at shape (1, 3, 384, 640)\n",
      "Results saved to \u001b[1mh:\\dev\\mit\\runs\\detect\\predict2\u001b[0m\n",
      " Learn more at https://docs.ultralytics.com/modes/predict\n"
     ]
    }
   ],
   "source": [
    "# Run inference on an image with YOLOv8n\n",
    "!yolo task=detect mode=predict model=yolov8n.pt conf=0.25 source='https://ultralytics.com/images/zidane.jpg'"
   ]
  },
  {
   "cell_type": "code",
   "execution_count": 4,
   "id": "04d2d111",
   "metadata": {},
   "outputs": [
    {
     "name": "stderr",
     "output_type": "stream",
     "text": [
      "100%|██████████| 780M/780M [01:12<00:00, 11.3MB/s] \n",
      "'unzip' �́A�����R�}���h�܂��͊O���R�}���h�A\n",
      "����\\�ȃv���O�����܂��̓o�b�` �t�@�C���Ƃ��ĔF������Ă��܂���B\n"
     ]
    }
   ],
   "source": [
    "# Download COCO val\n",
    "import torch\n",
    "torch.hub.download_url_to_file('https://ultralytics.com/assets/coco2017val.zip', 'tmp.zip')  # download (780M - 5000 images)\n",
    "!unzip -q tmp.zip -d ../datasets && rm tmp.zip  # unzip"
   ]
  },
  {
   "cell_type": "code",
   "execution_count": 5,
   "id": "bbd72613",
   "metadata": {},
   "outputs": [
    {
     "name": "stdout",
     "output_type": "stream",
     "text": [
      "Ultralytics 8.3.131  Python-3.12.4 torch-2.6.0+cpu CPU (12th Gen Intel Core(TM) i7-1255U)\n",
      "YOLOv8n summary (fused): 72 layers, 3,151,904 parameters, 0 gradients, 8.7 GFLOPs\n",
      "\n",
      "WARNING Dataset 'coco128.yaml' images not found, missing path 'H:\\dev\\datasets\\coco128\\images\\train2017'\n",
      "Downloading https://ultralytics.com/assets/coco128.zip to 'H:\\dev\\datasets\\coco128.zip'...\n",
      "Dataset download success  (5.3s), saved to \u001b[1mH:\\dev\\datasets\u001b[0m\n",
      "\n",
      "Downloading https://ultralytics.com/assets/Arial.ttf to 'C:\\Users\\konno\\AppData\\Roaming\\Ultralytics\\Arial.ttf'...\n",
      "\u001b[34m\u001b[1mval: \u001b[0mFast image access  (ping: 0.10.0 ms, read: 6.83.8 MB/s, size: 37.5 KB)\n",
      "\u001b[34m\u001b[1mval: \u001b[0mNew cache created: H:\\dev\\datasets\\coco128\\labels\\train2017.cache\n",
      "                   all        128        929      0.639      0.536      0.607      0.448\n",
      "                person         61        254      0.793      0.677      0.764      0.538\n",
      "               bicycle          3          6      0.514      0.333      0.315      0.264\n",
      "                   car         12         46      0.813      0.217      0.272      0.167\n",
      "            motorcycle          4          5      0.687      0.887      0.898      0.718\n",
      "              airplane          5          6       0.82      0.833      0.927      0.675\n",
      "                   bus          5          7      0.491      0.714      0.728      0.694\n",
      "                 train          3          3      0.534      0.667      0.706      0.604\n",
      "                 truck          5         12          1      0.332      0.473      0.297\n",
      "                  boat          2          6      0.226      0.167      0.316      0.134\n",
      "         traffic light          4         14      0.734        0.2      0.202      0.139\n",
      "             stop sign          2          2          1      0.992      0.995      0.701\n",
      "                 bench          5          9      0.839      0.582       0.62      0.365\n",
      "                  bird          2         16      0.921      0.728      0.864       0.51\n",
      "                   cat          4          4      0.875          1      0.995      0.791\n",
      "                   dog          9          9      0.603      0.889      0.785      0.585\n",
      "                 horse          1          2      0.597          1      0.995      0.518\n",
      "              elephant          4         17      0.849      0.765        0.9      0.679\n",
      "                  bear          1          1      0.593          1      0.995      0.995\n",
      "                 zebra          2          4      0.848          1      0.995      0.965\n",
      "               giraffe          4          9       0.72          1      0.951      0.722\n",
      "              backpack          4          6      0.589      0.333      0.376      0.233\n",
      "              umbrella          4         18      0.804        0.5      0.647      0.422\n",
      "               handbag          9         19      0.424     0.0526      0.165     0.0889\n",
      "                   tie          6          7      0.804      0.714      0.674      0.476\n",
      "              suitcase          2          4      0.635      0.883      0.745      0.521\n",
      "               frisbee          5          5      0.675        0.8      0.759       0.68\n",
      "                  skis          1          1      0.567          1      0.995      0.497\n",
      "             snowboard          2          7      0.742      0.714      0.747        0.5\n",
      "           sports ball          6          6      0.716      0.432      0.528      0.314\n",
      "                  kite          2         10      0.727        0.4      0.545       0.18\n",
      "          baseball bat          4          4      0.555       0.25      0.353      0.199\n",
      "        baseball glove          4          7      0.651      0.429      0.429      0.273\n",
      "            skateboard          3          5      0.846        0.6        0.6       0.41\n",
      "         tennis racket          5          7      0.726      0.387      0.487      0.315\n",
      "                bottle          6         18      0.448      0.389      0.377      0.206\n",
      "            wine glass          5         16      0.743      0.362      0.584      0.333\n",
      "                   cup         10         36       0.58      0.278      0.404      0.289\n",
      "                  fork          6          6      0.527      0.167      0.246      0.184\n",
      "                 knife          7         16      0.564        0.5      0.613      0.371\n",
      "                 spoon          5         22      0.597      0.182      0.328       0.19\n",
      "                  bowl          9         28      0.648      0.643      0.618      0.498\n",
      "                banana          1          1          0          0      0.166     0.0438\n",
      "              sandwich          2          2      0.249        0.5      0.332      0.332\n",
      "                orange          1          4          1       0.31      0.995      0.623\n",
      "              broccoli          4         11      0.374      0.182      0.249      0.203\n",
      "                carrot          3         24      0.648      0.458      0.572      0.362\n",
      "               hot dog          1          2      0.351      0.553      0.745      0.721\n",
      "                 pizza          5          5      0.644          1      0.995      0.843\n",
      "                 donut          2         14      0.657          1       0.94      0.864\n",
      "                  cake          4          4      0.646          1      0.995       0.88\n",
      "                 chair          9         35      0.506      0.514      0.443      0.239\n",
      "                 couch          5          6      0.463        0.5      0.726      0.568\n",
      "          potted plant          9         14      0.606      0.643      0.705      0.487\n",
      "                   bed          3          3      0.698      0.667      0.775      0.623\n",
      "          dining table         10         13      0.432      0.615      0.506      0.377\n",
      "                toilet          2          2      0.615        0.5      0.695      0.676\n",
      "                    tv          2          2      0.373       0.62      0.745      0.696\n",
      "                laptop          2          3          1          0      0.451      0.361\n",
      "                 mouse          2          2          1          0     0.0525    0.00525\n",
      "                remote          5          8      0.843        0.5      0.605      0.533\n",
      "            cell phone          5          8          0          0     0.0546     0.0369\n",
      "             microwave          3          3      0.443      0.667      0.806      0.718\n",
      "                  oven          5          5      0.412        0.4      0.338      0.269\n",
      "                  sink          4          6       0.35      0.167      0.182      0.129\n",
      "          refrigerator          5          5      0.585        0.4      0.587      0.441\n",
      "                  book          6         29      0.629      0.103      0.353      0.187\n",
      "                 clock          8          9      0.788       0.83      0.875       0.74\n",
      "                  vase          2          2      0.376          1      0.828      0.795\n",
      "              scissors          1          1          1          0      0.249     0.0746\n",
      "            teddy bear          6         21      0.877      0.333      0.591      0.394\n",
      "            toothbrush          2          5      0.743        0.6      0.638      0.374\n",
      "Speed: 1.3ms preprocess, 66.6ms inference, 0.0ms loss, 1.7ms postprocess per image\n",
      "Results saved to \u001b[1mh:\\dev\\mit\\runs\\detect\\val\u001b[0m\n",
      " Learn more at https://docs.ultralytics.com/modes/val\n"
     ]
    },
    {
     "name": "stderr",
     "output_type": "stream",
     "text": [
      "\n",
      "  0%|          | 0.00/6.66M [00:00<?, ?B/s]\n",
      "  6%|▌         | 384k/6.66M [00:00<00:01, 3.86MB/s]\n",
      " 11%|█▏        | 768k/6.66M [00:00<00:01, 3.56MB/s]\n",
      " 21%|██        | 1.38M/6.66M [00:00<00:01, 4.84MB/s]\n",
      " 32%|███▏      | 2.12M/6.66M [00:00<00:00, 5.58MB/s]\n",
      " 43%|████▎     | 2.88M/6.66M [00:00<00:00, 5.51MB/s]\n",
      " 60%|██████    | 4.00M/6.66M [00:00<00:00, 6.86MB/s]\n",
      " 77%|███████▋  | 5.12M/6.66M [00:00<00:00, 7.82MB/s]\n",
      " 94%|█████████▍| 6.25M/6.66M [00:00<00:00, 8.45MB/s]\n",
      "100%|██████████| 6.66M/6.66M [00:00<00:00, 7.05MB/s]\n",
      "\n",
      "Unzipping H:\\dev\\datasets\\coco128.zip to H:\\dev\\datasets\\coco128...:   0%|          | 0/263 [00:00<?, ?file/s]\n",
      "Unzipping H:\\dev\\datasets\\coco128.zip to H:\\dev\\datasets\\coco128...:   1%|          | 3/263 [00:00<00:09, 28.08file/s]\n",
      "Unzipping H:\\dev\\datasets\\coco128.zip to H:\\dev\\datasets\\coco128...:   6%|▋         | 17/263 [00:00<00:02, 91.92file/s]\n",
      "Unzipping H:\\dev\\datasets\\coco128.zip to H:\\dev\\datasets\\coco128...:  13%|█▎        | 33/263 [00:00<00:01, 120.93file/s]\n",
      "Unzipping H:\\dev\\datasets\\coco128.zip to H:\\dev\\datasets\\coco128...:  19%|█▉        | 50/263 [00:00<00:01, 129.26file/s]\n",
      "Unzipping H:\\dev\\datasets\\coco128.zip to H:\\dev\\datasets\\coco128...:  27%|██▋       | 70/263 [00:00<00:01, 140.43file/s]\n",
      "Unzipping H:\\dev\\datasets\\coco128.zip to H:\\dev\\datasets\\coco128...:  34%|███▍      | 90/263 [00:00<00:01, 157.59file/s]\n",
      "Unzipping H:\\dev\\datasets\\coco128.zip to H:\\dev\\datasets\\coco128...:  40%|████      | 106/263 [00:00<00:01, 150.95file/s]\n",
      "Unzipping H:\\dev\\datasets\\coco128.zip to H:\\dev\\datasets\\coco128...:  46%|████▋     | 122/263 [00:00<00:00, 150.62file/s]\n",
      "Unzipping H:\\dev\\datasets\\coco128.zip to H:\\dev\\datasets\\coco128...:  52%|█████▏    | 138/263 [00:01<00:00, 145.65file/s]\n",
      "Unzipping H:\\dev\\datasets\\coco128.zip to H:\\dev\\datasets\\coco128...:  62%|██████▏   | 162/263 [00:01<00:00, 171.51file/s]\n",
      "Unzipping H:\\dev\\datasets\\coco128.zip to H:\\dev\\datasets\\coco128...:  71%|███████   | 186/263 [00:01<00:00, 189.54file/s]\n",
      "Unzipping H:\\dev\\datasets\\coco128.zip to H:\\dev\\datasets\\coco128...:  80%|███████▉  | 210/263 [00:01<00:00, 202.74file/s]\n",
      "Unzipping H:\\dev\\datasets\\coco128.zip to H:\\dev\\datasets\\coco128...:  89%|████████▊ | 233/263 [00:01<00:00, 208.68file/s]\n",
      "Unzipping H:\\dev\\datasets\\coco128.zip to H:\\dev\\datasets\\coco128...:  97%|█████████▋| 255/263 [00:01<00:00, 209.64file/s]\n",
      "Unzipping H:\\dev\\datasets\\coco128.zip to H:\\dev\\datasets\\coco128...: 100%|██████████| 263/263 [00:01<00:00, 169.42file/s]\n",
      "\n",
      "  0%|          | 0.00/755k [00:00<?, ?B/s]\n",
      "100%|██████████| 755k/755k [00:00<00:00, 8.36MB/s]\n",
      "\n",
      "\u001b[34m\u001b[1mval: \u001b[0mScanning H:\\dev\\datasets\\coco128\\labels\\train2017...:   0%|          | 0/128 [00:00<?, ?it/s]\n",
      "\u001b[34m\u001b[1mval: \u001b[0mScanning H:\\dev\\datasets\\coco128\\labels\\train2017... 1 images, 0 backgrounds, 0 corrupt:   1%|          | 1/128 [00:00<00:24,  5.24it/s]\n",
      "\u001b[34m\u001b[1mval: \u001b[0mScanning H:\\dev\\datasets\\coco128\\labels\\train2017... 24 images, 0 backgrounds, 0 corrupt:  19%|█▉        | 24/128 [00:00<00:01, 98.48it/s]\n",
      "\u001b[34m\u001b[1mval: \u001b[0mScanning H:\\dev\\datasets\\coco128\\labels\\train2017... 56 images, 1 backgrounds, 0 corrupt:  45%|████▍     | 57/128 [00:00<00:00, 183.07it/s]\n",
      "\u001b[34m\u001b[1mval: \u001b[0mScanning H:\\dev\\datasets\\coco128\\labels\\train2017... 87 images, 1 backgrounds, 0 corrupt:  69%|██████▉   | 88/128 [00:00<00:00, 220.49it/s]\n",
      "\u001b[34m\u001b[1mval: \u001b[0mScanning H:\\dev\\datasets\\coco128\\labels\\train2017... 114 images, 2 backgrounds, 0 corrupt:  91%|█████████ | 116/128 [00:00<00:00, 223.60it/s]\n",
      "\u001b[34m\u001b[1mval: \u001b[0mScanning H:\\dev\\datasets\\coco128\\labels\\train2017... 126 images, 2 backgrounds, 0 corrupt: 100%|██████████| 128/128 [00:00<00:00, 196.80it/s]\n",
      "\n",
      "                 Class     Images  Instances      Box(P          R      mAP50  mAP50-95):   0%|          | 0/8 [00:00<?, ?it/s]\n",
      "                 Class     Images  Instances      Box(P          R      mAP50  mAP50-95):  12%|█▎        | 1/8 [00:01<00:07,  1.13s/it]\n",
      "                 Class     Images  Instances      Box(P          R      mAP50  mAP50-95):  25%|██▌       | 2/8 [00:02<00:06,  1.12s/it]\n",
      "                 Class     Images  Instances      Box(P          R      mAP50  mAP50-95):  38%|███▊      | 3/8 [00:03<00:05,  1.18s/it]\n",
      "                 Class     Images  Instances      Box(P          R      mAP50  mAP50-95):  50%|█████     | 4/8 [00:04<00:04,  1.23s/it]\n",
      "                 Class     Images  Instances      Box(P          R      mAP50  mAP50-95):  62%|██████▎   | 5/8 [00:05<00:03,  1.19s/it]\n",
      "                 Class     Images  Instances      Box(P          R      mAP50  mAP50-95):  75%|███████▌  | 6/8 [00:07<00:02,  1.30s/it]\n",
      "                 Class     Images  Instances      Box(P          R      mAP50  mAP50-95):  88%|████████▊ | 7/8 [00:08<00:01,  1.30s/it]\n",
      "                 Class     Images  Instances      Box(P          R      mAP50  mAP50-95): 100%|██████████| 8/8 [00:09<00:00,  1.24s/it]\n",
      "                 Class     Images  Instances      Box(P          R      mAP50  mAP50-95): 100%|██████████| 8/8 [00:09<00:00,  1.23s/it]\n"
     ]
    }
   ],
   "source": [
    "# Validate YOLOv8n on COCO128 val\n",
    "!yolo task=detect mode=val model=yolov8n.pt data=coco128.yaml"
   ]
  },
  {
   "cell_type": "code",
   "execution_count": 3,
   "id": "25d25b68",
   "metadata": {},
   "outputs": [
    {
     "name": "stderr",
     "output_type": "stream",
     "text": [
      "\u001b[1;38;5;214mCOMET WARNING:\u001b[0m To get all data logged automatically, import comet_ml before the following modules: torch.\n",
      "\u001b[1;38;5;214mCOMET WARNING:\u001b[0m As you are running in a Jupyter environment, you will need to call `experiment.end()` when finished to ensure all metrics and code are logged before exiting.\n",
      "\u001b[1;38;5;39mCOMET INFO:\u001b[0m Experiment is live on comet.com https://www.comet.com/kxk254/general/0ef70190e1e047699bd9ebe156b6c8a7\n",
      "\n"
     ]
    }
   ],
   "source": [
    "from comet_ml import Experiment\n",
    "experiment = Experiment(api_key=\"zKfBRErLnMKDmo32pYIJFQdhg\")"
   ]
  },
  {
   "cell_type": "code",
   "execution_count": 5,
   "id": "f3c24e07",
   "metadata": {},
   "outputs": [
    {
     "name": "stdout",
     "output_type": "stream",
     "text": [
      "Ultralytics 8.3.131  Python-3.12.4 torch-2.6.0+cpu CPU (12th Gen Intel Core(TM) i7-1255U)\n",
      "\u001b[34m\u001b[1mengine\\trainer: \u001b[0magnostic_nms=False, amp=True, augment=False, auto_augment=randaugment, batch=16, bgr=0.0, box=7.5, cache=False, cfg=None, classes=None, close_mosaic=10, cls=0.5, conf=None, copy_paste=0.0, copy_paste_mode=flip, cos_lr=False, cutmix=0.0, data=coco128.yaml, degrees=0.0, deterministic=True, device=cpu, dfl=1.5, dnn=False, dropout=0.0, dynamic=False, embed=None, epochs=3, erasing=0.4, exist_ok=False, fliplr=0.5, flipud=0.0, format=torchscript, fraction=1.0, freeze=None, half=False, hsv_h=0.015, hsv_s=0.7, hsv_v=0.4, imgsz=640, int8=False, iou=0.7, keras=False, kobj=1.0, line_width=None, lr0=0.01, lrf=0.01, mask_ratio=4, max_det=300, mixup=0.0, mode=train, model=yolov8n.pt, momentum=0.937, mosaic=1.0, multi_scale=False, name=train5, nbs=64, nms=False, opset=None, optimize=False, optimizer=auto, overlap_mask=True, patience=100, perspective=0.0, plots=True, pose=12.0, pretrained=True, profile=False, project=None, rect=False, resume=False, retina_masks=False, save=True, save_conf=False, save_crop=False, save_dir=h:\\dev\\mit\\runs\\detect\\train5, save_frames=False, save_json=False, save_period=-1, save_txt=False, scale=0.5, seed=0, shear=0.0, show=False, show_boxes=True, show_conf=True, show_labels=True, simplify=True, single_cls=False, source=None, split=val, stream_buffer=False, task=detect, time=None, tracker=botsort.yaml, translate=0.1, val=True, verbose=True, vid_stride=1, visualize=False, warmup_bias_lr=0.1, warmup_epochs=3.0, warmup_momentum=0.8, weight_decay=0.0005, workers=8, workspace=None\n",
      "\n",
      "                   from  n    params  module                                       arguments                     \n",
      "  0                  -1  1       464  ultralytics.nn.modules.conv.Conv             [3, 16, 3, 2]                 \n",
      "  1                  -1  1      4672  ultralytics.nn.modules.conv.Conv             [16, 32, 3, 2]                \n",
      "  2                  -1  1      7360  ultralytics.nn.modules.block.C2f             [32, 32, 1, True]             \n",
      "  3                  -1  1     18560  ultralytics.nn.modules.conv.Conv             [32, 64, 3, 2]                \n",
      "  4                  -1  2     49664  ultralytics.nn.modules.block.C2f             [64, 64, 2, True]             \n",
      "  5                  -1  1     73984  ultralytics.nn.modules.conv.Conv             [64, 128, 3, 2]               \n",
      "  6                  -1  2    197632  ultralytics.nn.modules.block.C2f             [128, 128, 2, True]           \n",
      "  7                  -1  1    295424  ultralytics.nn.modules.conv.Conv             [128, 256, 3, 2]              \n",
      "  8                  -1  1    460288  ultralytics.nn.modules.block.C2f             [256, 256, 1, True]           \n",
      "  9                  -1  1    164608  ultralytics.nn.modules.block.SPPF            [256, 256, 5]                 \n",
      " 10                  -1  1         0  torch.nn.modules.upsampling.Upsample         [None, 2, 'nearest']          \n",
      " 11             [-1, 6]  1         0  ultralytics.nn.modules.conv.Concat           [1]                           \n",
      " 12                  -1  1    148224  ultralytics.nn.modules.block.C2f             [384, 128, 1]                 \n",
      " 13                  -1  1         0  torch.nn.modules.upsampling.Upsample         [None, 2, 'nearest']          \n",
      " 14             [-1, 4]  1         0  ultralytics.nn.modules.conv.Concat           [1]                           \n",
      " 15                  -1  1     37248  ultralytics.nn.modules.block.C2f             [192, 64, 1]                  \n",
      " 16                  -1  1     36992  ultralytics.nn.modules.conv.Conv             [64, 64, 3, 2]                \n",
      " 17            [-1, 12]  1         0  ultralytics.nn.modules.conv.Concat           [1]                           \n",
      " 18                  -1  1    123648  ultralytics.nn.modules.block.C2f             [192, 128, 1]                 \n",
      " 19                  -1  1    147712  ultralytics.nn.modules.conv.Conv             [128, 128, 3, 2]              \n",
      " 20             [-1, 9]  1         0  ultralytics.nn.modules.conv.Concat           [1]                           \n",
      " 21                  -1  1    493056  ultralytics.nn.modules.block.C2f             [384, 256, 1]                 \n",
      " 22        [15, 18, 21]  1    897664  ultralytics.nn.modules.head.Detect           [80, [64, 128, 256]]          \n",
      "Model summary: 129 layers, 3,157,200 parameters, 3,157,184 gradients, 8.9 GFLOPs\n",
      "\n",
      "Transferred 355/355 items from pretrained weights\n",
      "WARNING Comet installed but not initialized correctly, not logging this run. Comet.ml requires an API key. Please provide as the first argument to Experiment(api_key) or as an environment variable named COMET_API_KEY \n",
      "Freezing layer 'model.22.dfl.conv.weight'\n",
      "\u001b[34m\u001b[1mtrain: \u001b[0mFast image access  (ping: 0.00.0 ms, read: 927.6414.6 MB/s, size: 56.4 KB)\n",
      "\u001b[34m\u001b[1mval: \u001b[0mFast image access  (ping: 0.00.0 ms, read: 850.8280.1 MB/s, size: 53.4 KB)\n",
      "Plotting labels to h:\\dev\\mit\\runs\\detect\\train5\\labels.jpg... \n",
      "\u001b[34m\u001b[1moptimizer:\u001b[0m 'optimizer=auto' found, ignoring 'lr0=0.01' and 'momentum=0.937' and determining best 'optimizer', 'lr0' and 'momentum' automatically... \n",
      "\u001b[34m\u001b[1moptimizer:\u001b[0m AdamW(lr=0.000119, momentum=0.9) with parameter groups 57 weight(decay=0.0), 64 weight(decay=0.0005), 63 bias(decay=0.0)\n",
      "Image sizes 640 train, 640 val\n",
      "Using 0 dataloader workers\n",
      "Logging results to \u001b[1mh:\\dev\\mit\\runs\\detect\\train5\u001b[0m\n",
      "Starting training for 3 epochs...\n",
      "\n",
      "      Epoch    GPU_mem   box_loss   cls_loss   dfl_loss  Instances       Size\n",
      "                   all        128        929      0.663      0.529      0.615      0.454\n",
      "\n",
      "      Epoch    GPU_mem   box_loss   cls_loss   dfl_loss  Instances       Size\n",
      "                   all        128        929      0.681      0.532      0.624      0.464\n",
      "\n",
      "      Epoch    GPU_mem   box_loss   cls_loss   dfl_loss  Instances       Size\n",
      "                   all        128        929      0.693      0.539      0.631       0.47\n",
      "\n",
      "3 epochs completed in 0.061 hours.\n",
      "Optimizer stripped from h:\\dev\\mit\\runs\\detect\\train5\\weights\\last.pt, 6.5MB\n",
      "Optimizer stripped from h:\\dev\\mit\\runs\\detect\\train5\\weights\\best.pt, 6.5MB\n",
      "\n",
      "Validating h:\\dev\\mit\\runs\\detect\\train5\\weights\\best.pt...\n",
      "Ultralytics 8.3.131  Python-3.12.4 torch-2.6.0+cpu CPU (12th Gen Intel Core(TM) i7-1255U)\n",
      "Model summary (fused): 72 layers, 3,151,904 parameters, 0 gradients, 8.7 GFLOPs\n",
      "                   all        128        929      0.691       0.54      0.631       0.47\n",
      "                person         61        254      0.831       0.66      0.772      0.548\n",
      "               bicycle          3          6      0.619      0.333      0.332      0.288\n",
      "                   car         12         46      0.821      0.217      0.282      0.176\n",
      "            motorcycle          4          5      0.679      0.852      0.938      0.742\n",
      "              airplane          5          6      0.777      0.833      0.913      0.727\n",
      "                   bus          5          7       0.68      0.714      0.728      0.662\n",
      "                 train          3          3      0.547      0.667      0.775      0.698\n",
      "                 truck          5         12          1      0.355      0.497      0.295\n",
      "                  boat          2          6      0.292      0.167      0.466      0.286\n",
      "         traffic light          4         14      0.723      0.191      0.201      0.138\n",
      "             stop sign          2          2      0.957          1      0.995      0.714\n",
      "                 bench          5          9      0.828      0.538      0.632      0.394\n",
      "                  bird          2         16      0.921      0.725      0.912      0.546\n",
      "                   cat          4          4      0.905          1      0.995      0.778\n",
      "                   dog          9          9      0.689      0.889      0.849      0.668\n",
      "                 horse          1          2      0.576          1      0.995      0.547\n",
      "              elephant          4         17      0.866      0.824      0.918      0.697\n",
      "                  bear          1          1      0.629          1      0.995      0.995\n",
      "                 zebra          2          4      0.864          1      0.995      0.965\n",
      "               giraffe          4          9      0.742      0.961      0.943      0.715\n",
      "              backpack          4          6      0.651      0.333      0.377      0.238\n",
      "              umbrella          4         18      0.763        0.5      0.671      0.475\n",
      "               handbag          9         19          1          0      0.235      0.138\n",
      "                   tie          6          7      0.821      0.663      0.677      0.478\n",
      "              suitcase          2          4      0.589      0.722      0.828       0.58\n",
      "               frisbee          5          5      0.623        0.8      0.732      0.633\n",
      "                  skis          1          1      0.748          1      0.995      0.438\n",
      "             snowboard          2          7      0.759      0.714       0.76      0.494\n",
      "           sports ball          6          6      0.599      0.333      0.477      0.276\n",
      "                  kite          2         10      0.798        0.4      0.538      0.183\n",
      "          baseball bat          4          4      0.563       0.25      0.347      0.198\n",
      "        baseball glove          4          7        0.7      0.429       0.43      0.295\n",
      "            skateboard          3          5      0.807        0.6      0.599      0.446\n",
      "         tennis racket          5          7      0.766      0.474       0.53      0.359\n",
      "                bottle          6         18      0.513      0.353      0.389      0.235\n",
      "            wine glass          5         16      0.776      0.433      0.598      0.352\n",
      "                   cup         10         36      0.584       0.25      0.417      0.299\n",
      "                  fork          6          6      0.604      0.167      0.228      0.195\n",
      "                 knife          7         16      0.562      0.625      0.604      0.355\n",
      "                 spoon          5         22        0.6      0.206      0.354      0.202\n",
      "                  bowl          9         28      0.722       0.75      0.683      0.541\n",
      "                banana          1          1          0          0      0.166     0.0442\n",
      "              sandwich          2          2      0.492        0.5      0.497      0.497\n",
      "                orange          1          4          1      0.427      0.995      0.666\n",
      "              broccoli          4         11      0.462      0.182      0.269      0.214\n",
      "                carrot          3         24      0.714      0.623      0.709       0.47\n",
      "               hot dog          1          2      0.627      0.882      0.828      0.796\n",
      "                 pizza          5          5      0.862          1      0.995      0.853\n",
      "                 donut          2         14       0.65          1      0.909      0.826\n",
      "                  cake          4          4      0.655          1      0.995       0.88\n",
      "                 chair          9         35      0.521      0.486      0.469       0.26\n",
      "                 couch          5          6      0.638      0.595       0.77      0.598\n",
      "          potted plant          9         14      0.888      0.643       0.73      0.496\n",
      "                   bed          3          3      0.841      0.667       0.83       0.66\n",
      "          dining table         10         13      0.537      0.615      0.527      0.413\n",
      "                toilet          2          2      0.638        0.5      0.745      0.721\n",
      "                    tv          2          2      0.459        0.5      0.745      0.696\n",
      "                laptop          2          3          1          0      0.665      0.567\n",
      "                 mouse          2          2          1          0     0.0392    0.00392\n",
      "                remote          5          8      0.858        0.5      0.576      0.496\n",
      "            cell phone          5          8          0          0     0.0527     0.0338\n",
      "             microwave          3          3      0.614      0.667      0.806      0.671\n",
      "                  oven          5          5      0.466        0.4      0.342      0.272\n",
      "                  sink          4          6      0.373      0.167      0.173      0.124\n",
      "          refrigerator          5          5      0.676        0.4      0.649      0.505\n",
      "                  book          6         29      0.636      0.122      0.398      0.199\n",
      "                 clock          8          9      0.829      0.778      0.892      0.722\n",
      "                  vase          2          2      0.343          1      0.828      0.745\n",
      "              scissors          1          1          1          0      0.199     0.0597\n",
      "            teddy bear          6         21          1       0.37      0.637      0.408\n",
      "            toothbrush          2          5      0.813        0.4      0.731       0.47\n",
      "Speed: 2.6ms preprocess, 91.5ms inference, 0.0ms loss, 1.7ms postprocess per image\n",
      "Results saved to \u001b[1mh:\\dev\\mit\\runs\\detect\\train5\u001b[0m\n",
      " Learn more at https://docs.ultralytics.com/modes/train\n"
     ]
    },
    {
     "name": "stderr",
     "output_type": "stream",
     "text": [
      "COMET ERROR: Failed to create Comet experiment, reason: ValueError('Comet.ml requires an API key. Please provide as the first argument to Experiment(api_key) or as an environment variable named COMET_API_KEY ')\n",
      "\n",
      "\u001b[34m\u001b[1mtrain: \u001b[0mScanning H:\\dev\\datasets\\coco128\\labels\\train2017.cache... 126 images, 2 backgrounds, 0 corrupt: 100%|██████████| 128/128 [00:00<?, ?it/s]\n",
      "\u001b[34m\u001b[1mtrain: \u001b[0mScanning H:\\dev\\datasets\\coco128\\labels\\train2017.cache... 126 images, 2 backgrounds, 0 corrupt: 100%|██████████| 128/128 [00:00<?, ?it/s]\n",
      "\n",
      "\u001b[34m\u001b[1mval: \u001b[0mScanning H:\\dev\\datasets\\coco128\\labels\\train2017.cache... 126 images, 2 backgrounds, 0 corrupt: 100%|██████████| 128/128 [00:00<?, ?it/s]\n",
      "\u001b[34m\u001b[1mval: \u001b[0mScanning H:\\dev\\datasets\\coco128\\labels\\train2017.cache... 126 images, 2 backgrounds, 0 corrupt: 100%|██████████| 128/128 [00:00<?, ?it/s]\n",
      "\n",
      "  0%|          | 0/8 [00:00<?, ?it/s]\n",
      "        1/3         0G      1.031      1.608      1.179        157        640:   0%|          | 0/8 [00:05<?, ?it/s]\n",
      "        1/3         0G      1.031      1.608      1.179        157        640:  12%|█▎        | 1/8 [00:05<00:41,  5.98s/it]\n",
      "        1/3         0G      1.087      1.592      1.207        248        640:  12%|█▎        | 1/8 [00:12<00:41,  5.98s/it]\n",
      "        1/3         0G      1.087      1.592      1.207        248        640:  25%|██▌       | 2/8 [00:12<00:37,  6.26s/it]\n",
      "        1/3         0G      1.094      1.473       1.22        203        640:  25%|██▌       | 2/8 [00:18<00:37,  6.26s/it]\n",
      "        1/3         0G      1.094      1.473       1.22        203        640:  38%|███▊      | 3/8 [00:18<00:30,  6.17s/it]\n",
      "        1/3         0G      1.106      1.432      1.212        260        640:  38%|███▊      | 3/8 [00:24<00:30,  6.17s/it]\n",
      "        1/3         0G      1.106      1.432      1.212        260        640:  50%|█████     | 4/8 [00:24<00:24,  6.25s/it]\n",
      "        1/3         0G      1.096      1.382      1.214        186        640:  50%|█████     | 4/8 [00:30<00:24,  6.25s/it]\n",
      "        1/3         0G      1.096      1.382      1.214        186        640:  62%|██████▎   | 5/8 [00:30<00:18,  6.16s/it]\n",
      "        1/3         0G      1.096      1.387      1.215        200        640:  62%|██████▎   | 5/8 [00:36<00:18,  6.16s/it]\n",
      "        1/3         0G      1.096      1.387      1.215        200        640:  75%|███████▌  | 6/8 [00:36<00:12,  6.14s/it]\n",
      "        1/3         0G      1.129      1.392      1.228        225        640:  75%|███████▌  | 6/8 [00:43<00:12,  6.14s/it]\n",
      "        1/3         0G      1.129      1.392      1.228        225        640:  88%|████████▊ | 7/8 [00:43<00:06,  6.18s/it]\n",
      "        1/3         0G      1.141      1.411       1.23        220        640:  88%|████████▊ | 7/8 [00:49<00:06,  6.18s/it]\n",
      "        1/3         0G      1.141      1.411       1.23        220        640: 100%|██████████| 8/8 [00:49<00:00,  6.36s/it]\n",
      "        1/3         0G      1.141      1.411       1.23        220        640: 100%|██████████| 8/8 [00:49<00:00,  6.25s/it]\n",
      "\n",
      "                 Class     Images  Instances      Box(P          R      mAP50  mAP50-95):   0%|          | 0/4 [00:00<?, ?it/s]\n",
      "                 Class     Images  Instances      Box(P          R      mAP50  mAP50-95):  25%|██▌       | 1/4 [00:03<00:11,  3.72s/it]\n",
      "                 Class     Images  Instances      Box(P          R      mAP50  mAP50-95):  50%|█████     | 2/4 [00:07<00:07,  3.81s/it]\n",
      "                 Class     Images  Instances      Box(P          R      mAP50  mAP50-95):  75%|███████▌  | 3/4 [00:12<00:04,  4.35s/it]\n",
      "                 Class     Images  Instances      Box(P          R      mAP50  mAP50-95): 100%|██████████| 4/4 [00:17<00:00,  4.40s/it]\n",
      "                 Class     Images  Instances      Box(P          R      mAP50  mAP50-95): 100%|██████████| 4/4 [00:17<00:00,  4.27s/it]\n",
      "\n",
      "  0%|          | 0/8 [00:00<?, ?it/s]\n",
      "        2/3         0G      1.127      1.134      1.215        223        640:   0%|          | 0/8 [00:06<?, ?it/s]\n",
      "        2/3         0G      1.127      1.134      1.215        223        640:  12%|█▎        | 1/8 [00:06<00:44,  6.29s/it]\n",
      "        2/3         0G      1.156       1.23      1.236        219        640:  12%|█▎        | 1/8 [00:12<00:44,  6.29s/it]\n",
      "        2/3         0G      1.156       1.23      1.236        219        640:  25%|██▌       | 2/8 [00:12<00:37,  6.30s/it]\n",
      "        2/3         0G       1.18       1.29      1.247        179        640:  25%|██▌       | 2/8 [00:18<00:37,  6.30s/it]\n",
      "        2/3         0G       1.18       1.29      1.247        179        640:  38%|███▊      | 3/8 [00:18<00:31,  6.33s/it]\n",
      "        2/3         0G      1.155      1.267      1.225        180        640:  38%|███▊      | 3/8 [00:25<00:31,  6.33s/it]\n",
      "        2/3         0G      1.155      1.267      1.225        180        640:  50%|█████     | 4/8 [00:25<00:25,  6.42s/it]\n",
      "        2/3         0G      1.189      1.302      1.243        240        640:  50%|█████     | 4/8 [00:32<00:25,  6.42s/it]\n",
      "        2/3         0G      1.189      1.302      1.243        240        640:  62%|██████▎   | 5/8 [00:32<00:20,  6.68s/it]\n",
      "        2/3         0G       1.19      1.317      1.246        185        640:  62%|██████▎   | 5/8 [00:38<00:20,  6.68s/it]\n",
      "        2/3         0G       1.19      1.317      1.246        185        640:  75%|███████▌  | 6/8 [00:38<00:13,  6.55s/it]\n",
      "        2/3         0G      1.205      1.312      1.256        168        640:  75%|███████▌  | 6/8 [00:45<00:13,  6.55s/it]\n",
      "        2/3         0G      1.205      1.312      1.256        168        640:  88%|████████▊ | 7/8 [00:45<00:06,  6.45s/it]\n",
      "        2/3         0G      1.188      1.324      1.248        166        640:  88%|████████▊ | 7/8 [00:51<00:06,  6.45s/it]\n",
      "        2/3         0G      1.188      1.324      1.248        166        640: 100%|██████████| 8/8 [00:51<00:00,  6.42s/it]\n",
      "        2/3         0G      1.188      1.324      1.248        166        640: 100%|██████████| 8/8 [00:51<00:00,  6.45s/it]\n",
      "\n",
      "                 Class     Images  Instances      Box(P          R      mAP50  mAP50-95):   0%|          | 0/4 [00:00<?, ?it/s]\n",
      "                 Class     Images  Instances      Box(P          R      mAP50  mAP50-95):  25%|██▌       | 1/4 [00:03<00:10,  3.58s/it]\n",
      "                 Class     Images  Instances      Box(P          R      mAP50  mAP50-95):  50%|█████     | 2/4 [00:08<00:08,  4.40s/it]\n",
      "                 Class     Images  Instances      Box(P          R      mAP50  mAP50-95):  75%|███████▌  | 3/4 [00:14<00:05,  5.30s/it]\n",
      "                 Class     Images  Instances      Box(P          R      mAP50  mAP50-95): 100%|██████████| 4/4 [00:19<00:00,  4.96s/it]\n",
      "                 Class     Images  Instances      Box(P          R      mAP50  mAP50-95): 100%|██████████| 4/4 [00:19<00:00,  4.84s/it]\n",
      "\n",
      "  0%|          | 0/8 [00:00<?, ?it/s]\n",
      "        3/3         0G        1.2      1.377      1.215        253        640:   0%|          | 0/8 [00:06<?, ?it/s]\n",
      "        3/3         0G        1.2      1.377      1.215        253        640:  12%|█▎        | 1/8 [00:06<00:43,  6.17s/it]\n",
      "        3/3         0G      1.155       1.33      1.215        204        640:  12%|█▎        | 1/8 [00:12<00:43,  6.17s/it]\n",
      "        3/3         0G      1.155       1.33      1.215        204        640:  25%|██▌       | 2/8 [00:12<00:38,  6.34s/it]\n",
      "        3/3         0G       1.19      1.415      1.232        241        640:  25%|██▌       | 2/8 [00:19<00:38,  6.34s/it]\n",
      "        3/3         0G       1.19      1.415      1.232        241        640:  38%|███▊      | 3/8 [00:19<00:31,  6.40s/it]\n",
      "        3/3         0G      1.209       1.43      1.236        307        640:  38%|███▊      | 3/8 [00:26<00:31,  6.40s/it]\n",
      "        3/3         0G      1.209       1.43      1.236        307        640:  50%|█████     | 4/8 [00:26<00:27,  6.97s/it]\n",
      "        3/3         0G      1.209      1.428      1.243        203        640:  50%|█████     | 4/8 [00:34<00:27,  6.97s/it]\n",
      "        3/3         0G      1.209      1.428      1.243        203        640:  62%|██████▎   | 5/8 [00:34<00:21,  7.06s/it]\n",
      "        3/3         0G      1.206      1.419      1.243        183        640:  62%|██████▎   | 5/8 [00:40<00:21,  7.06s/it]\n",
      "        3/3         0G      1.206      1.419      1.243        183        640:  75%|███████▌  | 6/8 [00:40<00:13,  6.71s/it]\n",
      "        3/3         0G      1.215      1.416      1.243        207        640:  75%|███████▌  | 6/8 [00:46<00:13,  6.71s/it]\n",
      "        3/3         0G      1.215      1.416      1.243        207        640:  88%|████████▊ | 7/8 [00:46<00:06,  6.59s/it]\n",
      "        3/3         0G      1.219      1.396      1.243        190        640:  88%|████████▊ | 7/8 [00:52<00:06,  6.59s/it]\n",
      "        3/3         0G      1.219      1.396      1.243        190        640: 100%|██████████| 8/8 [00:52<00:00,  6.45s/it]\n",
      "        3/3         0G      1.219      1.396      1.243        190        640: 100%|██████████| 8/8 [00:52<00:00,  6.59s/it]\n",
      "\n",
      "                 Class     Images  Instances      Box(P          R      mAP50  mAP50-95):   0%|          | 0/4 [00:00<?, ?it/s]\n",
      "                 Class     Images  Instances      Box(P          R      mAP50  mAP50-95):  25%|██▌       | 1/4 [00:03<00:11,  3.80s/it]\n",
      "                 Class     Images  Instances      Box(P          R      mAP50  mAP50-95):  50%|█████     | 2/4 [00:11<00:11,  5.82s/it]\n",
      "                 Class     Images  Instances      Box(P          R      mAP50  mAP50-95):  75%|███████▌  | 3/4 [00:16<00:05,  5.54s/it]\n",
      "                 Class     Images  Instances      Box(P          R      mAP50  mAP50-95): 100%|██████████| 4/4 [00:20<00:00,  5.12s/it]\n",
      "                 Class     Images  Instances      Box(P          R      mAP50  mAP50-95): 100%|██████████| 4/4 [00:20<00:00,  5.18s/it]\n",
      "\n",
      "                 Class     Images  Instances      Box(P          R      mAP50  mAP50-95):   0%|          | 0/4 [00:00<?, ?it/s]\n",
      "                 Class     Images  Instances      Box(P          R      mAP50  mAP50-95):  25%|██▌       | 1/4 [00:02<00:07,  2.43s/it]\n",
      "                 Class     Images  Instances      Box(P          R      mAP50  mAP50-95):  50%|█████     | 2/4 [00:05<00:05,  2.76s/it]\n",
      "                 Class     Images  Instances      Box(P          R      mAP50  mAP50-95):  75%|███████▌  | 3/4 [00:09<00:03,  3.28s/it]\n",
      "                 Class     Images  Instances      Box(P          R      mAP50  mAP50-95): 100%|██████████| 4/4 [00:13<00:00,  3.49s/it]\n",
      "                 Class     Images  Instances      Box(P          R      mAP50  mAP50-95): 100%|██████████| 4/4 [00:13<00:00,  3.29s/it]\n"
     ]
    }
   ],
   "source": [
    "# Train YOLOv8n on COCO128 for 3 epochs\n",
    "!yolo task=detect mode=train model=yolov8n.pt data=coco128.yaml epochs=3 imgsz=640"
   ]
  },
  {
   "cell_type": "code",
   "execution_count": 9,
   "id": "9d56874c",
   "metadata": {},
   "outputs": [],
   "source": [
    "# !pip install onnx onnxruntime"
   ]
  },
  {
   "cell_type": "code",
   "execution_count": 7,
   "id": "bfdafbd0",
   "metadata": {},
   "outputs": [
    {
     "name": "stdout",
     "output_type": "stream",
     "text": [
      "Ultralytics 8.3.131  Python-3.12.4 torch-2.6.0+cpu CPU (12th Gen Intel Core(TM) i7-1255U)\n",
      "\u001b[34m\u001b[1mengine\\trainer: \u001b[0magnostic_nms=False, amp=True, augment=False, auto_augment=randaugment, batch=16, bgr=0.0, box=7.5, cache=False, cfg=None, classes=None, close_mosaic=10, cls=0.5, conf=None, copy_paste=0.0, copy_paste_mode=flip, cos_lr=False, cutmix=0.0, data=coco128.yaml, degrees=0.0, deterministic=True, device=cpu, dfl=1.5, dnn=False, dropout=0.0, dynamic=False, embed=None, epochs=3, erasing=0.4, exist_ok=False, fliplr=0.5, flipud=0.0, format=torchscript, fraction=1.0, freeze=None, half=False, hsv_h=0.015, hsv_s=0.7, hsv_v=0.4, imgsz=640, int8=False, iou=0.7, keras=False, kobj=1.0, line_width=None, lr0=0.01, lrf=0.01, mask_ratio=4, max_det=300, mixup=0.0, mode=train, model=yolov8n.pt, momentum=0.937, mosaic=1.0, multi_scale=False, name=train2, nbs=64, nms=False, opset=None, optimize=False, optimizer=auto, overlap_mask=True, patience=100, perspective=0.0, plots=True, pose=12.0, pretrained=True, profile=False, project=None, rect=False, resume=False, retina_masks=False, save=True, save_conf=False, save_crop=False, save_dir=h:\\dev\\mit\\runs\\detect\\train2, save_frames=False, save_json=False, save_period=-1, save_txt=False, scale=0.5, seed=0, shear=0.0, show=False, show_boxes=True, show_conf=True, show_labels=True, simplify=True, single_cls=False, source=None, split=val, stream_buffer=False, task=detect, time=None, tracker=botsort.yaml, translate=0.1, val=True, verbose=True, vid_stride=1, visualize=False, warmup_bias_lr=0.1, warmup_epochs=3.0, warmup_momentum=0.8, weight_decay=0.0005, workers=8, workspace=None\n",
      "\n",
      "                   from  n    params  module                                       arguments                     \n",
      "  0                  -1  1       464  ultralytics.nn.modules.conv.Conv             [3, 16, 3, 2]                 \n",
      "  1                  -1  1      4672  ultralytics.nn.modules.conv.Conv             [16, 32, 3, 2]                \n",
      "  2                  -1  1      7360  ultralytics.nn.modules.block.C2f             [32, 32, 1, True]             \n",
      "  3                  -1  1     18560  ultralytics.nn.modules.conv.Conv             [32, 64, 3, 2]                \n",
      "  4                  -1  2     49664  ultralytics.nn.modules.block.C2f             [64, 64, 2, True]             \n",
      "  5                  -1  1     73984  ultralytics.nn.modules.conv.Conv             [64, 128, 3, 2]               \n",
      "  6                  -1  2    197632  ultralytics.nn.modules.block.C2f             [128, 128, 2, True]           \n",
      "  7                  -1  1    295424  ultralytics.nn.modules.conv.Conv             [128, 256, 3, 2]              \n",
      "  8                  -1  1    460288  ultralytics.nn.modules.block.C2f             [256, 256, 1, True]           \n",
      "  9                  -1  1    164608  ultralytics.nn.modules.block.SPPF            [256, 256, 5]                 \n",
      " 10                  -1  1         0  torch.nn.modules.upsampling.Upsample         [None, 2, 'nearest']          \n",
      " 11             [-1, 6]  1         0  ultralytics.nn.modules.conv.Concat           [1]                           \n",
      " 12                  -1  1    148224  ultralytics.nn.modules.block.C2f             [384, 128, 1]                 \n",
      " 13                  -1  1         0  torch.nn.modules.upsampling.Upsample         [None, 2, 'nearest']          \n",
      " 14             [-1, 4]  1         0  ultralytics.nn.modules.conv.Concat           [1]                           \n",
      " 15                  -1  1     37248  ultralytics.nn.modules.block.C2f             [192, 64, 1]                  \n",
      " 16                  -1  1     36992  ultralytics.nn.modules.conv.Conv             [64, 64, 3, 2]                \n",
      " 17            [-1, 12]  1         0  ultralytics.nn.modules.conv.Concat           [1]                           \n",
      " 18                  -1  1    123648  ultralytics.nn.modules.block.C2f             [192, 128, 1]                 \n",
      " 19                  -1  1    147712  ultralytics.nn.modules.conv.Conv             [128, 128, 3, 2]              \n",
      " 20             [-1, 9]  1         0  ultralytics.nn.modules.conv.Concat           [1]                           \n",
      " 21                  -1  1    493056  ultralytics.nn.modules.block.C2f             [384, 256, 1]                 \n",
      " 22        [15, 18, 21]  1    897664  ultralytics.nn.modules.head.Detect           [80, [64, 128, 256]]          \n",
      "Model summary: 129 layers, 3,157,200 parameters, 3,157,184 gradients, 8.9 GFLOPs\n",
      "\n",
      "Transferred 355/355 items from pretrained weights\n"
     ]
    },
    {
     "name": "stderr",
     "output_type": "stream",
     "text": [
      "\u001b[1;38;5;196mCOMET ERROR:\u001b[0m Failed to create Comet experiment, reason: ValueError('Comet.ml requires an API key. Please provide as the first argument to Experiment(api_key) or as an environment variable named COMET_API_KEY ')\n"
     ]
    },
    {
     "name": "stdout",
     "output_type": "stream",
     "text": [
      "WARNING Comet installed but not initialized correctly, not logging this run. Comet.ml requires an API key. Please provide as the first argument to Experiment(api_key) or as an environment variable named COMET_API_KEY \n",
      "Freezing layer 'model.22.dfl.conv.weight'\n",
      "\u001b[34m\u001b[1mtrain: \u001b[0mFast image access  (ping: 0.00.0 ms, read: 724.1382.1 MB/s, size: 56.4 KB)\n"
     ]
    },
    {
     "name": "stderr",
     "output_type": "stream",
     "text": [
      "\u001b[34m\u001b[1mtrain: \u001b[0mScanning H:\\dev\\datasets\\coco128\\labels\\train2017.cache... 126 images, 2 backgrounds, 0 corrupt: 100%|██████████| 128/128 [00:00<?, ?it/s]"
     ]
    },
    {
     "name": "stdout",
     "output_type": "stream",
     "text": [
      "\u001b[34m\u001b[1mval: \u001b[0mFast image access  (ping: 0.00.0 ms, read: 538.7137.2 MB/s, size: 53.4 KB)\n"
     ]
    },
    {
     "name": "stderr",
     "output_type": "stream",
     "text": [
      "\n",
      "\u001b[34m\u001b[1mval: \u001b[0mScanning H:\\dev\\datasets\\coco128\\labels\\train2017.cache... 126 images, 2 backgrounds, 0 corrupt: 100%|██████████| 128/128 [00:00<?, ?it/s]\n"
     ]
    },
    {
     "name": "stdout",
     "output_type": "stream",
     "text": [
      "Plotting labels to h:\\dev\\mit\\runs\\detect\\train2\\labels.jpg... \n",
      "\u001b[34m\u001b[1moptimizer:\u001b[0m 'optimizer=auto' found, ignoring 'lr0=0.01' and 'momentum=0.937' and determining best 'optimizer', 'lr0' and 'momentum' automatically... \n",
      "\u001b[34m\u001b[1moptimizer:\u001b[0m AdamW(lr=0.000119, momentum=0.9) with parameter groups 57 weight(decay=0.0), 64 weight(decay=0.0005), 63 bias(decay=0.0)\n",
      "Image sizes 640 train, 640 val\n",
      "Using 0 dataloader workers\n",
      "Logging results to \u001b[1mh:\\dev\\mit\\runs\\detect\\train2\u001b[0m\n",
      "Starting training for 3 epochs...\n",
      "\n",
      "      Epoch    GPU_mem   box_loss   cls_loss   dfl_loss  Instances       Size\n"
     ]
    },
    {
     "name": "stderr",
     "output_type": "stream",
     "text": [
      "        1/3         0G      1.141      1.411       1.23        220        640: 100%|██████████| 8/8 [00:49<00:00,  6.17s/it]\n",
      "                 Class     Images  Instances      Box(P          R      mAP50  mAP50-95): 100%|██████████| 4/4 [00:17<00:00,  4.32s/it]"
     ]
    },
    {
     "name": "stdout",
     "output_type": "stream",
     "text": [
      "                   all        128        929      0.663      0.529      0.615      0.454\n"
     ]
    },
    {
     "name": "stderr",
     "output_type": "stream",
     "text": [
      "\n"
     ]
    },
    {
     "name": "stdout",
     "output_type": "stream",
     "text": [
      "\n",
      "      Epoch    GPU_mem   box_loss   cls_loss   dfl_loss  Instances       Size\n"
     ]
    },
    {
     "name": "stderr",
     "output_type": "stream",
     "text": [
      "        2/3         0G      1.188      1.324      1.248        166        640: 100%|██████████| 8/8 [00:52<00:00,  6.53s/it]\n",
      "                 Class     Images  Instances      Box(P          R      mAP50  mAP50-95): 100%|██████████| 4/4 [00:21<00:00,  5.46s/it]"
     ]
    },
    {
     "name": "stdout",
     "output_type": "stream",
     "text": [
      "                   all        128        929      0.681      0.532      0.624      0.464\n"
     ]
    },
    {
     "name": "stderr",
     "output_type": "stream",
     "text": [
      "\n"
     ]
    },
    {
     "name": "stdout",
     "output_type": "stream",
     "text": [
      "\n",
      "      Epoch    GPU_mem   box_loss   cls_loss   dfl_loss  Instances       Size\n"
     ]
    },
    {
     "name": "stderr",
     "output_type": "stream",
     "text": [
      "        3/3         0G      1.219      1.396      1.243        190        640: 100%|██████████| 8/8 [00:56<00:00,  7.09s/it]\n",
      "                 Class     Images  Instances      Box(P          R      mAP50  mAP50-95): 100%|██████████| 4/4 [00:16<00:00,  4.14s/it]"
     ]
    },
    {
     "name": "stdout",
     "output_type": "stream",
     "text": [
      "                   all        128        929      0.693      0.539      0.631       0.47\n"
     ]
    },
    {
     "name": "stderr",
     "output_type": "stream",
     "text": [
      "\n"
     ]
    },
    {
     "name": "stdout",
     "output_type": "stream",
     "text": [
      "\n",
      "3 epochs completed in 0.061 hours.\n",
      "Optimizer stripped from h:\\dev\\mit\\runs\\detect\\train2\\weights\\last.pt, 6.5MB\n",
      "Optimizer stripped from h:\\dev\\mit\\runs\\detect\\train2\\weights\\best.pt, 6.5MB\n",
      "\n",
      "Validating h:\\dev\\mit\\runs\\detect\\train2\\weights\\best.pt...\n",
      "Ultralytics 8.3.131  Python-3.12.4 torch-2.6.0+cpu CPU (12th Gen Intel Core(TM) i7-1255U)\n",
      "Model summary (fused): 72 layers, 3,151,904 parameters, 0 gradients, 8.7 GFLOPs\n"
     ]
    },
    {
     "name": "stderr",
     "output_type": "stream",
     "text": [
      "                 Class     Images  Instances      Box(P          R      mAP50  mAP50-95): 100%|██████████| 4/4 [00:12<00:00,  3.06s/it]\n"
     ]
    },
    {
     "name": "stdout",
     "output_type": "stream",
     "text": [
      "                   all        128        929      0.691       0.54      0.631       0.47\n",
      "                person         61        254      0.831       0.66      0.772      0.548\n",
      "               bicycle          3          6      0.619      0.333      0.332      0.288\n",
      "                   car         12         46      0.821      0.217      0.282      0.176\n",
      "            motorcycle          4          5      0.679      0.852      0.938      0.742\n",
      "              airplane          5          6      0.777      0.833      0.913      0.727\n",
      "                   bus          5          7       0.68      0.714      0.728      0.662\n",
      "                 train          3          3      0.547      0.667      0.775      0.698\n",
      "                 truck          5         12          1      0.355      0.497      0.295\n",
      "                  boat          2          6      0.292      0.167      0.466      0.286\n",
      "         traffic light          4         14      0.723      0.191      0.201      0.138\n",
      "             stop sign          2          2      0.957          1      0.995      0.714\n",
      "                 bench          5          9      0.828      0.538      0.632      0.394\n",
      "                  bird          2         16      0.921      0.725      0.912      0.546\n",
      "                   cat          4          4      0.905          1      0.995      0.778\n",
      "                   dog          9          9      0.689      0.889      0.849      0.668\n",
      "                 horse          1          2      0.576          1      0.995      0.547\n",
      "              elephant          4         17      0.866      0.824      0.918      0.697\n",
      "                  bear          1          1      0.629          1      0.995      0.995\n",
      "                 zebra          2          4      0.864          1      0.995      0.965\n",
      "               giraffe          4          9      0.742      0.961      0.943      0.715\n",
      "              backpack          4          6      0.651      0.333      0.377      0.238\n",
      "              umbrella          4         18      0.763        0.5      0.671      0.475\n",
      "               handbag          9         19          1          0      0.235      0.138\n",
      "                   tie          6          7      0.821      0.663      0.677      0.478\n",
      "              suitcase          2          4      0.589      0.722      0.828       0.58\n",
      "               frisbee          5          5      0.623        0.8      0.732      0.633\n",
      "                  skis          1          1      0.748          1      0.995      0.438\n",
      "             snowboard          2          7      0.759      0.714       0.76      0.494\n",
      "           sports ball          6          6      0.599      0.333      0.477      0.276\n",
      "                  kite          2         10      0.798        0.4      0.538      0.183\n",
      "          baseball bat          4          4      0.563       0.25      0.347      0.198\n",
      "        baseball glove          4          7        0.7      0.429       0.43      0.295\n",
      "            skateboard          3          5      0.807        0.6      0.599      0.446\n",
      "         tennis racket          5          7      0.766      0.474       0.53      0.359\n",
      "                bottle          6         18      0.513      0.353      0.389      0.235\n",
      "            wine glass          5         16      0.776      0.433      0.598      0.352\n",
      "                   cup         10         36      0.584       0.25      0.417      0.299\n",
      "                  fork          6          6      0.604      0.167      0.228      0.195\n",
      "                 knife          7         16      0.562      0.625      0.604      0.355\n",
      "                 spoon          5         22        0.6      0.206      0.354      0.202\n",
      "                  bowl          9         28      0.722       0.75      0.683      0.541\n",
      "                banana          1          1          0          0      0.166     0.0442\n",
      "              sandwich          2          2      0.492        0.5      0.497      0.497\n",
      "                orange          1          4          1      0.427      0.995      0.666\n",
      "              broccoli          4         11      0.462      0.182      0.269      0.214\n",
      "                carrot          3         24      0.714      0.623      0.709       0.47\n",
      "               hot dog          1          2      0.627      0.882      0.828      0.796\n",
      "                 pizza          5          5      0.862          1      0.995      0.853\n",
      "                 donut          2         14       0.65          1      0.909      0.826\n",
      "                  cake          4          4      0.655          1      0.995       0.88\n",
      "                 chair          9         35      0.521      0.486      0.469       0.26\n",
      "                 couch          5          6      0.638      0.595       0.77      0.598\n",
      "          potted plant          9         14      0.888      0.643       0.73      0.496\n",
      "                   bed          3          3      0.841      0.667       0.83       0.66\n",
      "          dining table         10         13      0.537      0.615      0.527      0.413\n",
      "                toilet          2          2      0.638        0.5      0.745      0.721\n",
      "                    tv          2          2      0.459        0.5      0.745      0.696\n",
      "                laptop          2          3          1          0      0.665      0.567\n",
      "                 mouse          2          2          1          0     0.0392    0.00392\n",
      "                remote          5          8      0.858        0.5      0.576      0.496\n",
      "            cell phone          5          8          0          0     0.0527     0.0338\n",
      "             microwave          3          3      0.614      0.667      0.806      0.671\n",
      "                  oven          5          5      0.466        0.4      0.342      0.272\n",
      "                  sink          4          6      0.373      0.167      0.173      0.124\n",
      "          refrigerator          5          5      0.676        0.4      0.649      0.505\n",
      "                  book          6         29      0.636      0.122      0.398      0.199\n",
      "                 clock          8          9      0.829      0.778      0.892      0.722\n",
      "                  vase          2          2      0.343          1      0.828      0.745\n",
      "              scissors          1          1          1          0      0.199     0.0597\n",
      "            teddy bear          6         21          1       0.37      0.637      0.408\n",
      "            toothbrush          2          5      0.813        0.4      0.731       0.47\n",
      "Speed: 2.4ms preprocess, 84.6ms inference, 0.0ms loss, 1.7ms postprocess per image\n",
      "Results saved to \u001b[1mh:\\dev\\mit\\runs\\detect\\train2\u001b[0m\n",
      "Ultralytics 8.3.131  Python-3.12.4 torch-2.6.0+cpu CPU (12th Gen Intel Core(TM) i7-1255U)\n",
      "Model summary (fused): 72 layers, 3,151,904 parameters, 0 gradients, 8.7 GFLOPs\n",
      "\u001b[34m\u001b[1mval: \u001b[0mFast image access  (ping: 0.00.0 ms, read: 473.9190.7 MB/s, size: 48.5 KB)\n"
     ]
    },
    {
     "name": "stderr",
     "output_type": "stream",
     "text": [
      "\u001b[34m\u001b[1mval: \u001b[0mScanning H:\\dev\\datasets\\coco128\\labels\\train2017.cache... 126 images, 2 backgrounds, 0 corrupt: 100%|██████████| 128/128 [00:00<?, ?it/s]\n",
      "                 Class     Images  Instances      Box(P          R      mAP50  mAP50-95): 100%|██████████| 8/8 [00:12<00:00,  1.51s/it]\n"
     ]
    },
    {
     "name": "stdout",
     "output_type": "stream",
     "text": [
      "                   all        128        929      0.661      0.562      0.633       0.47\n",
      "                person         61        254      0.808      0.678      0.773      0.547\n",
      "               bicycle          3          6      0.496      0.333      0.327      0.284\n",
      "                   car         12         46      0.776      0.217      0.279      0.175\n",
      "            motorcycle          4          5      0.689      0.892      0.938      0.742\n",
      "              airplane          5          6      0.748      0.833      0.913      0.727\n",
      "                   bus          5          7      0.654      0.714      0.728      0.662\n",
      "                 train          3          3      0.532      0.667      0.775      0.698\n",
      "                 truck          5         12          1      0.396      0.497      0.295\n",
      "                  boat          2          6      0.232      0.167      0.355       0.19\n",
      "         traffic light          4         14      0.742      0.207      0.201      0.138\n",
      "             stop sign          2          2      0.899          1      0.995      0.714\n",
      "                 bench          5          9      0.841      0.594      0.632      0.395\n",
      "                  bird          2         16      0.912       0.75      0.905      0.543\n",
      "                   cat          4          4      0.865          1      0.995      0.786\n",
      "                   dog          9          9      0.657      0.889      0.849      0.668\n",
      "                 horse          1          2      0.549          1      0.995      0.547\n",
      "              elephant          4         17      0.831      0.824      0.918      0.697\n",
      "                  bear          1          1       0.61          1      0.995      0.995\n",
      "                 zebra          2          4      0.856          1      0.995      0.965\n",
      "               giraffe          4          9      0.733          1      0.943      0.728\n",
      "              backpack          4          6      0.619      0.333      0.377      0.231\n",
      "              umbrella          4         18      0.703        0.5      0.671      0.475\n",
      "               handbag          9         19      0.663      0.105      0.222      0.129\n",
      "                   tie          6          7      0.829      0.695      0.677      0.478\n",
      "              suitcase          2          4      0.655          1      0.828       0.58\n",
      "               frisbee          5          5      0.596        0.8      0.733      0.633\n",
      "                  skis          1          1       0.65          1      0.995      0.497\n",
      "             snowboard          2          7      0.731      0.714      0.758      0.492\n",
      "           sports ball          6          6      0.662      0.333      0.521      0.299\n",
      "                  kite          2         10       0.82      0.459      0.579      0.199\n",
      "          baseball bat          4          4      0.329       0.25      0.348      0.198\n",
      "        baseball glove          4          7      0.676      0.429      0.429      0.316\n",
      "            skateboard          3          5      0.833        0.6      0.599      0.426\n",
      "         tennis racket          5          7      0.739       0.41      0.504      0.337\n",
      "                bottle          6         18      0.537      0.386      0.394      0.238\n",
      "            wine glass          5         16      0.626      0.524      0.598      0.348\n",
      "                   cup         10         36      0.564      0.251      0.407      0.293\n",
      "                  fork          6          6      0.581      0.167      0.218      0.187\n",
      "                 knife          7         16      0.488      0.625        0.6      0.354\n",
      "                 spoon          5         22      0.617      0.221      0.359      0.191\n",
      "                  bowl          9         28      0.642       0.75      0.668      0.531\n",
      "                banana          1          1          0          0      0.166     0.0442\n",
      "              sandwich          2          2      0.385      0.655      0.497      0.497\n",
      "                orange          1          4          1      0.477      0.995      0.666\n",
      "              broccoli          4         11      0.328      0.182       0.27      0.228\n",
      "                carrot          3         24      0.723      0.667      0.709       0.47\n",
      "               hot dog          1          2      0.639      0.917      0.828      0.796\n",
      "                 pizza          5          5      0.841          1      0.995      0.843\n",
      "                 donut          2         14      0.642          1      0.933      0.845\n",
      "                  cake          4          4      0.626          1      0.995       0.88\n",
      "                 chair          9         35      0.478      0.514      0.462      0.254\n",
      "                 couch          5          6      0.767        0.5      0.795      0.597\n",
      "          potted plant          9         14      0.675      0.571      0.698      0.492\n",
      "                   bed          3          3          1      0.921      0.995      0.691\n",
      "          dining table         10         13      0.479      0.615       0.51      0.403\n",
      "                toilet          2          2      0.618        0.5      0.745      0.721\n",
      "                    tv          2          2      0.566      0.699      0.828      0.762\n",
      "                laptop          2          3          1          0      0.613      0.491\n",
      "                 mouse          2          2          1          0     0.0355    0.00355\n",
      "                remote          5          8      0.852        0.5      0.613      0.518\n",
      "            cell phone          5          8          0          0     0.0546     0.0379\n",
      "             microwave          3          3      0.515      0.667       0.83      0.683\n",
      "                  oven          5          5      0.435        0.4      0.342      0.272\n",
      "                  sink          4          6      0.361      0.167      0.172      0.124\n",
      "          refrigerator          5          5      0.646        0.4      0.638      0.491\n",
      "                  book          6         29      0.658      0.133      0.381      0.206\n",
      "                 clock          8          9       0.78      0.778      0.895      0.723\n",
      "                  vase          2          2      0.382          1      0.828      0.745\n",
      "              scissors          1          1          1          0      0.249     0.0746\n",
      "            teddy bear          6         21      0.812      0.333      0.607      0.406\n",
      "            toothbrush          2          5      0.723        0.6       0.75      0.472\n",
      "Speed: 1.4ms preprocess, 83.5ms inference, 0.0ms loss, 2.0ms postprocess per image\n",
      "Results saved to \u001b[1mh:\\dev\\mit\\runs\\detect\\train22\u001b[0m\n",
      "\n",
      "Downloading https://ultralytics.com/images/bus.jpg to 'bus.jpg'...\n"
     ]
    },
    {
     "name": "stderr",
     "output_type": "stream",
     "text": [
      "100%|██████████| 134k/134k [00:00<00:00, 3.33MB/s]"
     ]
    },
    {
     "name": "stdout",
     "output_type": "stream",
     "text": [
      "image 1/1 h:\\dev\\mit\\yolo\\bus.jpg: 640x480 4 persons, 1 bus, 90.7ms\n"
     ]
    },
    {
     "name": "stderr",
     "output_type": "stream",
     "text": [
      "\n"
     ]
    },
    {
     "name": "stdout",
     "output_type": "stream",
     "text": [
      "Speed: 5.2ms preprocess, 90.7ms inference, 5.3ms postprocess per image at shape (1, 3, 640, 480)\n",
      "Ultralytics 8.3.131  Python-3.12.4 torch-2.6.0+cpu CPU (12th Gen Intel Core(TM) i7-1255U)\n",
      "\n",
      "\u001b[34m\u001b[1mPyTorch:\u001b[0m starting from 'h:\\dev\\mit\\runs\\detect\\train2\\weights\\best.pt' with input shape (1, 3, 640, 640) BCHW and output shape(s) (1, 84, 8400) (6.2 MB)\n",
      "\u001b[31m\u001b[1mrequirements:\u001b[0m Ultralytics requirements ['onnx>=1.12.0', 'onnxslim>=0.1.46', 'onnxruntime'] not found, attempting AutoUpdate...\n",
      "Collecting onnx>=1.12.0\n",
      "  Downloading onnx-1.17.0-cp312-cp312-win_amd64.whl.metadata (16 kB)\n",
      "Collecting onnxslim>=0.1.46\n",
      "  Downloading onnxslim-0.1.52-py3-none-any.whl.metadata (5.0 kB)\n",
      "Collecting onnxruntime\n",
      "  Downloading onnxruntime-1.21.1-cp312-cp312-win_amd64.whl.metadata (4.9 kB)\n",
      "Requirement already satisfied: numpy>=1.20 in h:\\dev\\mit\\env\\lib\\site-packages (from onnx>=1.12.0) (2.1.3)\n",
      "Requirement already satisfied: protobuf>=3.20.2 in h:\\dev\\mit\\env\\lib\\site-packages (from onnx>=1.12.0) (5.29.4)\n",
      "Requirement already satisfied: sympy in h:\\dev\\mit\\env\\lib\\site-packages (from onnxslim>=0.1.46) (1.13.1)\n",
      "Requirement already satisfied: packaging in h:\\dev\\mit\\env\\lib\\site-packages (from onnxslim>=0.1.46) (25.0)\n",
      "Collecting coloredlogs (from onnxruntime)\n",
      "  Downloading coloredlogs-15.0.1-py2.py3-none-any.whl.metadata (12 kB)\n",
      "Requirement already satisfied: flatbuffers in h:\\dev\\mit\\env\\lib\\site-packages (from onnxruntime) (25.2.10)\n",
      "Collecting humanfriendly>=9.1 (from coloredlogs->onnxruntime)\n",
      "  Downloading humanfriendly-10.0-py2.py3-none-any.whl.metadata (9.2 kB)\n",
      "Requirement already satisfied: mpmath<1.4,>=1.1.0 in h:\\dev\\mit\\env\\lib\\site-packages (from sympy->onnxslim>=0.1.46) (1.3.0)\n",
      "Collecting pyreadline3 (from humanfriendly>=9.1->coloredlogs->onnxruntime)\n",
      "  Downloading pyreadline3-3.5.4-py3-none-any.whl.metadata (4.7 kB)\n",
      "Downloading onnx-1.17.0-cp312-cp312-win_amd64.whl (14.5 MB)\n",
      "   ---------------------------------------- 14.5/14.5 MB 10.5 MB/s eta 0:00:00\n",
      "Downloading onnxslim-0.1.52-py3-none-any.whl (145 kB)\n",
      "Downloading onnxruntime-1.21.1-cp312-cp312-win_amd64.whl (12.3 MB)\n",
      "   ---------------------------------------- 12.3/12.3 MB 11.9 MB/s eta 0:00:00\n",
      "Downloading coloredlogs-15.0.1-py2.py3-none-any.whl (46 kB)\n",
      "Downloading humanfriendly-10.0-py2.py3-none-any.whl (86 kB)\n",
      "Downloading pyreadline3-3.5.4-py3-none-any.whl (83 kB)\n",
      "Installing collected packages: pyreadline3, onnx, onnxslim, humanfriendly, coloredlogs, onnxruntime\n",
      "Successfully installed coloredlogs humanfriendly onnx onnxruntime onnxslim pyreadline3\n",
      "\n",
      "\u001b[31m\u001b[1mrequirements:\u001b[0m AutoUpdate success  125.5s, installed 3 packages: ['onnx>=1.12.0', 'onnxslim>=0.1.46', 'onnxruntime']\n",
      "WARNING \u001b[31m\u001b[1mrequirements:\u001b[0m \u001b[1mRestart runtime or rerun command for updates to take effect\u001b[0m\n",
      "\n",
      "ERROR \u001b[34m\u001b[1mONNX:\u001b[0m export failure 125.5s: No module named 'onnx'\n"
     ]
    },
    {
     "ename": "ModuleNotFoundError",
     "evalue": "No module named 'onnx'",
     "output_type": "error",
     "traceback": [
      "\u001b[31m---------------------------------------------------------------------------\u001b[39m",
      "\u001b[31mModuleNotFoundError\u001b[39m                       Traceback (most recent call last)",
      "\u001b[36mCell\u001b[39m\u001b[36m \u001b[39m\u001b[32mIn[7]\u001b[39m\u001b[32m, line 11\u001b[39m\n\u001b[32m      9\u001b[39m results = model.val()  \u001b[38;5;66;03m# evaluate model performance on the validation set\u001b[39;00m\n\u001b[32m     10\u001b[39m results = model(\u001b[33m'\u001b[39m\u001b[33mhttps://ultralytics.com/images/bus.jpg\u001b[39m\u001b[33m'\u001b[39m)  \u001b[38;5;66;03m# predict on an image\u001b[39;00m\n\u001b[32m---> \u001b[39m\u001b[32m11\u001b[39m success = \u001b[43mmodel\u001b[49m\u001b[43m.\u001b[49m\u001b[43mexport\u001b[49m\u001b[43m(\u001b[49m\u001b[38;5;28;43mformat\u001b[39;49m\u001b[43m=\u001b[49m\u001b[33;43m'\u001b[39;49m\u001b[33;43monnx\u001b[39;49m\u001b[33;43m'\u001b[39;49m\u001b[43m)\u001b[49m  \u001b[38;5;66;03m# export the model to ONNX format\u001b[39;00m\n",
      "\u001b[36mFile \u001b[39m\u001b[32mh:\\dev\\mit\\env\\Lib\\site-packages\\ultralytics\\engine\\model.py:730\u001b[39m, in \u001b[36mModel.export\u001b[39m\u001b[34m(self, **kwargs)\u001b[39m\n\u001b[32m    722\u001b[39m custom = {\n\u001b[32m    723\u001b[39m     \u001b[33m\"\u001b[39m\u001b[33mimgsz\u001b[39m\u001b[33m\"\u001b[39m: \u001b[38;5;28mself\u001b[39m.model.args[\u001b[33m\"\u001b[39m\u001b[33mimgsz\u001b[39m\u001b[33m\"\u001b[39m],\n\u001b[32m    724\u001b[39m     \u001b[33m\"\u001b[39m\u001b[33mbatch\u001b[39m\u001b[33m\"\u001b[39m: \u001b[32m1\u001b[39m,\n\u001b[32m   (...)\u001b[39m\u001b[32m    727\u001b[39m     \u001b[33m\"\u001b[39m\u001b[33mverbose\u001b[39m\u001b[33m\"\u001b[39m: \u001b[38;5;28;01mFalse\u001b[39;00m,\n\u001b[32m    728\u001b[39m }  \u001b[38;5;66;03m# method defaults\u001b[39;00m\n\u001b[32m    729\u001b[39m args = {**\u001b[38;5;28mself\u001b[39m.overrides, **custom, **kwargs, \u001b[33m\"\u001b[39m\u001b[33mmode\u001b[39m\u001b[33m\"\u001b[39m: \u001b[33m\"\u001b[39m\u001b[33mexport\u001b[39m\u001b[33m\"\u001b[39m}  \u001b[38;5;66;03m# highest priority args on the right\u001b[39;00m\n\u001b[32m--> \u001b[39m\u001b[32m730\u001b[39m \u001b[38;5;28;01mreturn\u001b[39;00m \u001b[43mExporter\u001b[49m\u001b[43m(\u001b[49m\u001b[43moverrides\u001b[49m\u001b[43m=\u001b[49m\u001b[43margs\u001b[49m\u001b[43m,\u001b[49m\u001b[43m \u001b[49m\u001b[43m_callbacks\u001b[49m\u001b[43m=\u001b[49m\u001b[38;5;28;43mself\u001b[39;49m\u001b[43m.\u001b[49m\u001b[43mcallbacks\u001b[49m\u001b[43m)\u001b[49m\u001b[43m(\u001b[49m\u001b[43mmodel\u001b[49m\u001b[43m=\u001b[49m\u001b[38;5;28;43mself\u001b[39;49m\u001b[43m.\u001b[49m\u001b[43mmodel\u001b[49m\u001b[43m)\u001b[49m\n",
      "\u001b[36mFile \u001b[39m\u001b[32mh:\\dev\\mit\\env\\Lib\\site-packages\\ultralytics\\engine\\exporter.py:453\u001b[39m, in \u001b[36mExporter.__call__\u001b[39m\u001b[34m(self, model)\u001b[39m\n\u001b[32m    451\u001b[39m     f[\u001b[32m1\u001b[39m], _ = \u001b[38;5;28mself\u001b[39m.export_engine(dla=dla)\n\u001b[32m    452\u001b[39m \u001b[38;5;28;01mif\u001b[39;00m onnx:  \u001b[38;5;66;03m# ONNX\u001b[39;00m\n\u001b[32m--> \u001b[39m\u001b[32m453\u001b[39m     f[\u001b[32m2\u001b[39m], _ = \u001b[38;5;28;43mself\u001b[39;49m\u001b[43m.\u001b[49m\u001b[43mexport_onnx\u001b[49m\u001b[43m(\u001b[49m\u001b[43m)\u001b[49m\n\u001b[32m    454\u001b[39m \u001b[38;5;28;01mif\u001b[39;00m xml:  \u001b[38;5;66;03m# OpenVINO\u001b[39;00m\n\u001b[32m    455\u001b[39m     f[\u001b[32m3\u001b[39m], _ = \u001b[38;5;28mself\u001b[39m.export_openvino()\n",
      "\u001b[36mFile \u001b[39m\u001b[32mh:\\dev\\mit\\env\\Lib\\site-packages\\ultralytics\\engine\\exporter.py:196\u001b[39m, in \u001b[36mtry_export.<locals>.outer_func\u001b[39m\u001b[34m(*args, **kwargs)\u001b[39m\n\u001b[32m    194\u001b[39m \u001b[38;5;28;01mexcept\u001b[39;00m \u001b[38;5;167;01mException\u001b[39;00m \u001b[38;5;28;01mas\u001b[39;00m e:\n\u001b[32m    195\u001b[39m     LOGGER.error(\u001b[33mf\u001b[39m\u001b[33m\"\u001b[39m\u001b[38;5;132;01m{\u001b[39;00mprefix\u001b[38;5;132;01m}\u001b[39;00m\u001b[33m export failure \u001b[39m\u001b[38;5;132;01m{\u001b[39;00mdt.t\u001b[38;5;132;01m:\u001b[39;00m\u001b[33m.1f\u001b[39m\u001b[38;5;132;01m}\u001b[39;00m\u001b[33ms: \u001b[39m\u001b[38;5;132;01m{\u001b[39;00me\u001b[38;5;132;01m}\u001b[39;00m\u001b[33m\"\u001b[39m)\n\u001b[32m--> \u001b[39m\u001b[32m196\u001b[39m     \u001b[38;5;28;01mraise\u001b[39;00m e\n",
      "\u001b[36mFile \u001b[39m\u001b[32mh:\\dev\\mit\\env\\Lib\\site-packages\\ultralytics\\engine\\exporter.py:191\u001b[39m, in \u001b[36mtry_export.<locals>.outer_func\u001b[39m\u001b[34m(*args, **kwargs)\u001b[39m\n\u001b[32m    189\u001b[39m \u001b[38;5;28;01mtry\u001b[39;00m:\n\u001b[32m    190\u001b[39m     \u001b[38;5;28;01mwith\u001b[39;00m Profile() \u001b[38;5;28;01mas\u001b[39;00m dt:\n\u001b[32m--> \u001b[39m\u001b[32m191\u001b[39m         f, model = \u001b[43minner_func\u001b[49m\u001b[43m(\u001b[49m\u001b[43m*\u001b[49m\u001b[43margs\u001b[49m\u001b[43m,\u001b[49m\u001b[43m \u001b[49m\u001b[43m*\u001b[49m\u001b[43m*\u001b[49m\u001b[43mkwargs\u001b[49m\u001b[43m)\u001b[49m\n\u001b[32m    192\u001b[39m     LOGGER.info(\u001b[33mf\u001b[39m\u001b[33m\"\u001b[39m\u001b[38;5;132;01m{\u001b[39;00mprefix\u001b[38;5;132;01m}\u001b[39;00m\u001b[33m export success ✅ \u001b[39m\u001b[38;5;132;01m{\u001b[39;00mdt.t\u001b[38;5;132;01m:\u001b[39;00m\u001b[33m.1f\u001b[39m\u001b[38;5;132;01m}\u001b[39;00m\u001b[33ms, saved as \u001b[39m\u001b[33m'\u001b[39m\u001b[38;5;132;01m{\u001b[39;00mf\u001b[38;5;132;01m}\u001b[39;00m\u001b[33m'\u001b[39m\u001b[33m (\u001b[39m\u001b[38;5;132;01m{\u001b[39;00mfile_size(f)\u001b[38;5;132;01m:\u001b[39;00m\u001b[33m.1f\u001b[39m\u001b[38;5;132;01m}\u001b[39;00m\u001b[33m MB)\u001b[39m\u001b[33m\"\u001b[39m)\n\u001b[32m    193\u001b[39m     \u001b[38;5;28;01mreturn\u001b[39;00m f, model\n",
      "\u001b[36mFile \u001b[39m\u001b[32mh:\\dev\\mit\\env\\Lib\\site-packages\\ultralytics\\engine\\exporter.py:554\u001b[39m, in \u001b[36mExporter.export_onnx\u001b[39m\u001b[34m(self, prefix)\u001b[39m\n\u001b[32m    552\u001b[39m     requirements += [\u001b[33m\"\u001b[39m\u001b[33monnxslim>=0.1.46\u001b[39m\u001b[33m\"\u001b[39m, \u001b[33m\"\u001b[39m\u001b[33monnxruntime\u001b[39m\u001b[33m\"\u001b[39m + (\u001b[33m\"\u001b[39m\u001b[33m-gpu\u001b[39m\u001b[33m\"\u001b[39m \u001b[38;5;28;01mif\u001b[39;00m torch.cuda.is_available() \u001b[38;5;28;01melse\u001b[39;00m \u001b[33m\"\u001b[39m\u001b[33m\"\u001b[39m)]\n\u001b[32m    553\u001b[39m check_requirements(requirements)\n\u001b[32m--> \u001b[39m\u001b[32m554\u001b[39m \u001b[38;5;28;01mimport\u001b[39;00m\u001b[38;5;250m \u001b[39m\u001b[34;01monnx\u001b[39;00m  \u001b[38;5;66;03m# noqa\u001b[39;00m\n\u001b[32m    556\u001b[39m opset_version = \u001b[38;5;28mself\u001b[39m.args.opset \u001b[38;5;129;01mor\u001b[39;00m get_latest_opset()\n\u001b[32m    557\u001b[39m LOGGER.info(\u001b[33mf\u001b[39m\u001b[33m\"\u001b[39m\u001b[38;5;130;01m\\n\u001b[39;00m\u001b[38;5;132;01m{\u001b[39;00mprefix\u001b[38;5;132;01m}\u001b[39;00m\u001b[33m starting export with onnx \u001b[39m\u001b[38;5;132;01m{\u001b[39;00monnx.__version__\u001b[38;5;132;01m}\u001b[39;00m\u001b[33m opset \u001b[39m\u001b[38;5;132;01m{\u001b[39;00mopset_version\u001b[38;5;132;01m}\u001b[39;00m\u001b[33m...\u001b[39m\u001b[33m\"\u001b[39m)\n",
      "\u001b[31mModuleNotFoundError\u001b[39m: No module named 'onnx'"
     ]
    }
   ],
   "source": [
    "from ultralytics import YOLO\n",
    "\n",
    "# Load a model\n",
    "model = YOLO('yolov8n.yaml')  # build a new model from scratch\n",
    "model = YOLO('yolov8n.pt')  # load a pretrained model (recommended for training)\n",
    "\n",
    "# Use the model\n",
    "results = model.train(data='coco128.yaml', epochs=3)  # train the model\n",
    "results = model.val()  # evaluate model performance on the validation set\n",
    "results = model('https://ultralytics.com/images/bus.jpg')  # predict on an image\n",
    "success = model.export(format='onnx')  # export the model to ONNX format"
   ]
  },
  {
   "cell_type": "code",
   "execution_count": null,
   "id": "6ac6ad83",
   "metadata": {},
   "outputs": [],
   "source": []
  },
  {
   "cell_type": "code",
   "execution_count": null,
   "id": "1b354df2",
   "metadata": {},
   "outputs": [],
   "source": []
  },
  {
   "cell_type": "code",
   "execution_count": null,
   "id": "5d2e2d52",
   "metadata": {},
   "outputs": [],
   "source": []
  }
 ],
 "metadata": {
  "kernelspec": {
   "display_name": "env",
   "language": "python",
   "name": "python3"
  },
  "language_info": {
   "codemirror_mode": {
    "name": "ipython",
    "version": 3
   },
   "file_extension": ".py",
   "mimetype": "text/x-python",
   "name": "python",
   "nbconvert_exporter": "python",
   "pygments_lexer": "ipython3",
   "version": "3.12.4"
  }
 },
 "nbformat": 4,
 "nbformat_minor": 5
}
