{
 "cells": [
  {
   "cell_type": "code",
   "execution_count": 6,
   "id": "4d6eac83",
   "metadata": {},
   "outputs": [
    {
     "name": "stdout",
     "output_type": "stream",
     "text": [
      "Ultralytics 8.3.131  Python-3.12.4 torch-2.6.0+cpu CPU (12th Gen Intel Core(TM) i7-1255U)\n",
      "Setup complete  (12 CPUs, 15.7 GB RAM, 14.8/116.3 GB disk)\n"
     ]
    }
   ],
   "source": [
    "\n",
    "# Pip install method (recommended)\n",
    "# %pip install ultralytics\n",
    "import ultralytics\n",
    "ultralytics.checks()"
   ]
  },
  {
   "cell_type": "code",
   "execution_count": 3,
   "id": "fccf77c8",
   "metadata": {},
   "outputs": [
    {
     "name": "stdout",
     "output_type": "stream",
     "text": [
      "Ultralytics 8.3.131  Python-3.12.4 torch-2.6.0+cpu CPU (12th Gen Intel Core(TM) i7-1255U)\n",
      "YOLOv8n summary (fused): 72 layers, 3,151,904 parameters, 0 gradients, 8.7 GFLOPs\n",
      "\n",
      "Found https://ultralytics.com/images/zidane.jpg locally at zidane.jpg\n",
      "image 1/1 h:\\dev\\mit\\yolo\\zidane.jpg: 384x640 2 persons, 1 tie, 84.9ms\n",
      "Speed: 2.2ms preprocess, 84.9ms inference, 1.5ms postprocess per image at shape (1, 3, 384, 640)\n",
      "Results saved to \u001b[1mh:\\dev\\mit\\runs\\detect\\predict2\u001b[0m\n",
      " Learn more at https://docs.ultralytics.com/modes/predict\n"
     ]
    }
   ],
   "source": [
    "# Run inference on an image with YOLOv8n\n",
    "!yolo task=detect mode=predict model=yolov8n.pt conf=0.25 source='https://ultralytics.com/images/zidane.jpg'"
   ]
  },
  {
   "cell_type": "code",
   "execution_count": 4,
   "id": "04d2d111",
   "metadata": {},
   "outputs": [
    {
     "name": "stderr",
     "output_type": "stream",
     "text": [
      "100%|██████████| 780M/780M [01:12<00:00, 11.3MB/s] \n",
      "'unzip' �́A�����R�}���h�܂��͊O���R�}���h�A\n",
      "����\\�ȃv���O�����܂��̓o�b�` �t�@�C���Ƃ��ĔF������Ă��܂���B\n"
     ]
    }
   ],
   "source": [
    "# Download COCO val\n",
    "import torch\n",
    "torch.hub.download_url_to_file('https://ultralytics.com/assets/coco2017val.zip', 'tmp.zip')  # download (780M - 5000 images)\n",
    "!unzip -q tmp.zip -d ../datasets && rm tmp.zip  # unzip"
   ]
  },
  {
   "cell_type": "code",
   "execution_count": 5,
   "id": "bbd72613",
   "metadata": {},
   "outputs": [
    {
     "name": "stdout",
     "output_type": "stream",
     "text": [
      "Ultralytics 8.3.131  Python-3.12.4 torch-2.6.0+cpu CPU (12th Gen Intel Core(TM) i7-1255U)\n",
      "YOLOv8n summary (fused): 72 layers, 3,151,904 parameters, 0 gradients, 8.7 GFLOPs\n",
      "\n",
      "WARNING Dataset 'coco128.yaml' images not found, missing path 'H:\\dev\\datasets\\coco128\\images\\train2017'\n",
      "Downloading https://ultralytics.com/assets/coco128.zip to 'H:\\dev\\datasets\\coco128.zip'...\n",
      "Dataset download success  (5.3s), saved to \u001b[1mH:\\dev\\datasets\u001b[0m\n",
      "\n",
      "Downloading https://ultralytics.com/assets/Arial.ttf to 'C:\\Users\\konno\\AppData\\Roaming\\Ultralytics\\Arial.ttf'...\n",
      "\u001b[34m\u001b[1mval: \u001b[0mFast image access  (ping: 0.10.0 ms, read: 6.83.8 MB/s, size: 37.5 KB)\n",
      "\u001b[34m\u001b[1mval: \u001b[0mNew cache created: H:\\dev\\datasets\\coco128\\labels\\train2017.cache\n",
      "                   all        128        929      0.639      0.536      0.607      0.448\n",
      "                person         61        254      0.793      0.677      0.764      0.538\n",
      "               bicycle          3          6      0.514      0.333      0.315      0.264\n",
      "                   car         12         46      0.813      0.217      0.272      0.167\n",
      "            motorcycle          4          5      0.687      0.887      0.898      0.718\n",
      "              airplane          5          6       0.82      0.833      0.927      0.675\n",
      "                   bus          5          7      0.491      0.714      0.728      0.694\n",
      "                 train          3          3      0.534      0.667      0.706      0.604\n",
      "                 truck          5         12          1      0.332      0.473      0.297\n",
      "                  boat          2          6      0.226      0.167      0.316      0.134\n",
      "         traffic light          4         14      0.734        0.2      0.202      0.139\n",
      "             stop sign          2          2          1      0.992      0.995      0.701\n",
      "                 bench          5          9      0.839      0.582       0.62      0.365\n",
      "                  bird          2         16      0.921      0.728      0.864       0.51\n",
      "                   cat          4          4      0.875          1      0.995      0.791\n",
      "                   dog          9          9      0.603      0.889      0.785      0.585\n",
      "                 horse          1          2      0.597          1      0.995      0.518\n",
      "              elephant          4         17      0.849      0.765        0.9      0.679\n",
      "                  bear          1          1      0.593          1      0.995      0.995\n",
      "                 zebra          2          4      0.848          1      0.995      0.965\n",
      "               giraffe          4          9       0.72          1      0.951      0.722\n",
      "              backpack          4          6      0.589      0.333      0.376      0.233\n",
      "              umbrella          4         18      0.804        0.5      0.647      0.422\n",
      "               handbag          9         19      0.424     0.0526      0.165     0.0889\n",
      "                   tie          6          7      0.804      0.714      0.674      0.476\n",
      "              suitcase          2          4      0.635      0.883      0.745      0.521\n",
      "               frisbee          5          5      0.675        0.8      0.759       0.68\n",
      "                  skis          1          1      0.567          1      0.995      0.497\n",
      "             snowboard          2          7      0.742      0.714      0.747        0.5\n",
      "           sports ball          6          6      0.716      0.432      0.528      0.314\n",
      "                  kite          2         10      0.727        0.4      0.545       0.18\n",
      "          baseball bat          4          4      0.555       0.25      0.353      0.199\n",
      "        baseball glove          4          7      0.651      0.429      0.429      0.273\n",
      "            skateboard          3          5      0.846        0.6        0.6       0.41\n",
      "         tennis racket          5          7      0.726      0.387      0.487      0.315\n",
      "                bottle          6         18      0.448      0.389      0.377      0.206\n",
      "            wine glass          5         16      0.743      0.362      0.584      0.333\n",
      "                   cup         10         36       0.58      0.278      0.404      0.289\n",
      "                  fork          6          6      0.527      0.167      0.246      0.184\n",
      "                 knife          7         16      0.564        0.5      0.613      0.371\n",
      "                 spoon          5         22      0.597      0.182      0.328       0.19\n",
      "                  bowl          9         28      0.648      0.643      0.618      0.498\n",
      "                banana          1          1          0          0      0.166     0.0438\n",
      "              sandwich          2          2      0.249        0.5      0.332      0.332\n",
      "                orange          1          4          1       0.31      0.995      0.623\n",
      "              broccoli          4         11      0.374      0.182      0.249      0.203\n",
      "                carrot          3         24      0.648      0.458      0.572      0.362\n",
      "               hot dog          1          2      0.351      0.553      0.745      0.721\n",
      "                 pizza          5          5      0.644          1      0.995      0.843\n",
      "                 donut          2         14      0.657          1       0.94      0.864\n",
      "                  cake          4          4      0.646          1      0.995       0.88\n",
      "                 chair          9         35      0.506      0.514      0.443      0.239\n",
      "                 couch          5          6      0.463        0.5      0.726      0.568\n",
      "          potted plant          9         14      0.606      0.643      0.705      0.487\n",
      "                   bed          3          3      0.698      0.667      0.775      0.623\n",
      "          dining table         10         13      0.432      0.615      0.506      0.377\n",
      "                toilet          2          2      0.615        0.5      0.695      0.676\n",
      "                    tv          2          2      0.373       0.62      0.745      0.696\n",
      "                laptop          2          3          1          0      0.451      0.361\n",
      "                 mouse          2          2          1          0     0.0525    0.00525\n",
      "                remote          5          8      0.843        0.5      0.605      0.533\n",
      "            cell phone          5          8          0          0     0.0546     0.0369\n",
      "             microwave          3          3      0.443      0.667      0.806      0.718\n",
      "                  oven          5          5      0.412        0.4      0.338      0.269\n",
      "                  sink          4          6       0.35      0.167      0.182      0.129\n",
      "          refrigerator          5          5      0.585        0.4      0.587      0.441\n",
      "                  book          6         29      0.629      0.103      0.353      0.187\n",
      "                 clock          8          9      0.788       0.83      0.875       0.74\n",
      "                  vase          2          2      0.376          1      0.828      0.795\n",
      "              scissors          1          1          1          0      0.249     0.0746\n",
      "            teddy bear          6         21      0.877      0.333      0.591      0.394\n",
      "            toothbrush          2          5      0.743        0.6      0.638      0.374\n",
      "Speed: 1.3ms preprocess, 66.6ms inference, 0.0ms loss, 1.7ms postprocess per image\n",
      "Results saved to \u001b[1mh:\\dev\\mit\\runs\\detect\\val\u001b[0m\n",
      " Learn more at https://docs.ultralytics.com/modes/val\n"
     ]
    },
    {
     "name": "stderr",
     "output_type": "stream",
     "text": [
      "\n",
      "  0%|          | 0.00/6.66M [00:00<?, ?B/s]\n",
      "  6%|▌         | 384k/6.66M [00:00<00:01, 3.86MB/s]\n",
      " 11%|█▏        | 768k/6.66M [00:00<00:01, 3.56MB/s]\n",
      " 21%|██        | 1.38M/6.66M [00:00<00:01, 4.84MB/s]\n",
      " 32%|███▏      | 2.12M/6.66M [00:00<00:00, 5.58MB/s]\n",
      " 43%|████▎     | 2.88M/6.66M [00:00<00:00, 5.51MB/s]\n",
      " 60%|██████    | 4.00M/6.66M [00:00<00:00, 6.86MB/s]\n",
      " 77%|███████▋  | 5.12M/6.66M [00:00<00:00, 7.82MB/s]\n",
      " 94%|█████████▍| 6.25M/6.66M [00:00<00:00, 8.45MB/s]\n",
      "100%|██████████| 6.66M/6.66M [00:00<00:00, 7.05MB/s]\n",
      "\n",
      "Unzipping H:\\dev\\datasets\\coco128.zip to H:\\dev\\datasets\\coco128...:   0%|          | 0/263 [00:00<?, ?file/s]\n",
      "Unzipping H:\\dev\\datasets\\coco128.zip to H:\\dev\\datasets\\coco128...:   1%|          | 3/263 [00:00<00:09, 28.08file/s]\n",
      "Unzipping H:\\dev\\datasets\\coco128.zip to H:\\dev\\datasets\\coco128...:   6%|▋         | 17/263 [00:00<00:02, 91.92file/s]\n",
      "Unzipping H:\\dev\\datasets\\coco128.zip to H:\\dev\\datasets\\coco128...:  13%|█▎        | 33/263 [00:00<00:01, 120.93file/s]\n",
      "Unzipping H:\\dev\\datasets\\coco128.zip to H:\\dev\\datasets\\coco128...:  19%|█▉        | 50/263 [00:00<00:01, 129.26file/s]\n",
      "Unzipping H:\\dev\\datasets\\coco128.zip to H:\\dev\\datasets\\coco128...:  27%|██▋       | 70/263 [00:00<00:01, 140.43file/s]\n",
      "Unzipping H:\\dev\\datasets\\coco128.zip to H:\\dev\\datasets\\coco128...:  34%|███▍      | 90/263 [00:00<00:01, 157.59file/s]\n",
      "Unzipping H:\\dev\\datasets\\coco128.zip to H:\\dev\\datasets\\coco128...:  40%|████      | 106/263 [00:00<00:01, 150.95file/s]\n",
      "Unzipping H:\\dev\\datasets\\coco128.zip to H:\\dev\\datasets\\coco128...:  46%|████▋     | 122/263 [00:00<00:00, 150.62file/s]\n",
      "Unzipping H:\\dev\\datasets\\coco128.zip to H:\\dev\\datasets\\coco128...:  52%|█████▏    | 138/263 [00:01<00:00, 145.65file/s]\n",
      "Unzipping H:\\dev\\datasets\\coco128.zip to H:\\dev\\datasets\\coco128...:  62%|██████▏   | 162/263 [00:01<00:00, 171.51file/s]\n",
      "Unzipping H:\\dev\\datasets\\coco128.zip to H:\\dev\\datasets\\coco128...:  71%|███████   | 186/263 [00:01<00:00, 189.54file/s]\n",
      "Unzipping H:\\dev\\datasets\\coco128.zip to H:\\dev\\datasets\\coco128...:  80%|███████▉  | 210/263 [00:01<00:00, 202.74file/s]\n",
      "Unzipping H:\\dev\\datasets\\coco128.zip to H:\\dev\\datasets\\coco128...:  89%|████████▊ | 233/263 [00:01<00:00, 208.68file/s]\n",
      "Unzipping H:\\dev\\datasets\\coco128.zip to H:\\dev\\datasets\\coco128...:  97%|█████████▋| 255/263 [00:01<00:00, 209.64file/s]\n",
      "Unzipping H:\\dev\\datasets\\coco128.zip to H:\\dev\\datasets\\coco128...: 100%|██████████| 263/263 [00:01<00:00, 169.42file/s]\n",
      "\n",
      "  0%|          | 0.00/755k [00:00<?, ?B/s]\n",
      "100%|██████████| 755k/755k [00:00<00:00, 8.36MB/s]\n",
      "\n",
      "\u001b[34m\u001b[1mval: \u001b[0mScanning H:\\dev\\datasets\\coco128\\labels\\train2017...:   0%|          | 0/128 [00:00<?, ?it/s]\n",
      "\u001b[34m\u001b[1mval: \u001b[0mScanning H:\\dev\\datasets\\coco128\\labels\\train2017... 1 images, 0 backgrounds, 0 corrupt:   1%|          | 1/128 [00:00<00:24,  5.24it/s]\n",
      "\u001b[34m\u001b[1mval: \u001b[0mScanning H:\\dev\\datasets\\coco128\\labels\\train2017... 24 images, 0 backgrounds, 0 corrupt:  19%|█▉        | 24/128 [00:00<00:01, 98.48it/s]\n",
      "\u001b[34m\u001b[1mval: \u001b[0mScanning H:\\dev\\datasets\\coco128\\labels\\train2017... 56 images, 1 backgrounds, 0 corrupt:  45%|████▍     | 57/128 [00:00<00:00, 183.07it/s]\n",
      "\u001b[34m\u001b[1mval: \u001b[0mScanning H:\\dev\\datasets\\coco128\\labels\\train2017... 87 images, 1 backgrounds, 0 corrupt:  69%|██████▉   | 88/128 [00:00<00:00, 220.49it/s]\n",
      "\u001b[34m\u001b[1mval: \u001b[0mScanning H:\\dev\\datasets\\coco128\\labels\\train2017... 114 images, 2 backgrounds, 0 corrupt:  91%|█████████ | 116/128 [00:00<00:00, 223.60it/s]\n",
      "\u001b[34m\u001b[1mval: \u001b[0mScanning H:\\dev\\datasets\\coco128\\labels\\train2017... 126 images, 2 backgrounds, 0 corrupt: 100%|██████████| 128/128 [00:00<00:00, 196.80it/s]\n",
      "\n",
      "                 Class     Images  Instances      Box(P          R      mAP50  mAP50-95):   0%|          | 0/8 [00:00<?, ?it/s]\n",
      "                 Class     Images  Instances      Box(P          R      mAP50  mAP50-95):  12%|█▎        | 1/8 [00:01<00:07,  1.13s/it]\n",
      "                 Class     Images  Instances      Box(P          R      mAP50  mAP50-95):  25%|██▌       | 2/8 [00:02<00:06,  1.12s/it]\n",
      "                 Class     Images  Instances      Box(P          R      mAP50  mAP50-95):  38%|███▊      | 3/8 [00:03<00:05,  1.18s/it]\n",
      "                 Class     Images  Instances      Box(P          R      mAP50  mAP50-95):  50%|█████     | 4/8 [00:04<00:04,  1.23s/it]\n",
      "                 Class     Images  Instances      Box(P          R      mAP50  mAP50-95):  62%|██████▎   | 5/8 [00:05<00:03,  1.19s/it]\n",
      "                 Class     Images  Instances      Box(P          R      mAP50  mAP50-95):  75%|███████▌  | 6/8 [00:07<00:02,  1.30s/it]\n",
      "                 Class     Images  Instances      Box(P          R      mAP50  mAP50-95):  88%|████████▊ | 7/8 [00:08<00:01,  1.30s/it]\n",
      "                 Class     Images  Instances      Box(P          R      mAP50  mAP50-95): 100%|██████████| 8/8 [00:09<00:00,  1.24s/it]\n",
      "                 Class     Images  Instances      Box(P          R      mAP50  mAP50-95): 100%|██████████| 8/8 [00:09<00:00,  1.23s/it]\n"
     ]
    }
   ],
   "source": [
    "# Validate YOLOv8n on COCO128 val\n",
    "!yolo task=detect mode=val model=yolov8n.pt data=coco128.yaml"
   ]
  },
  {
   "cell_type": "code",
   "execution_count": 3,
   "id": "25d25b68",
   "metadata": {},
   "outputs": [
    {
     "name": "stderr",
     "output_type": "stream",
     "text": [
      "\u001b[1;38;5;214mCOMET WARNING:\u001b[0m To get all data logged automatically, import comet_ml before the following modules: torch.\n",
      "\u001b[1;38;5;214mCOMET WARNING:\u001b[0m As you are running in a Jupyter environment, you will need to call `experiment.end()` when finished to ensure all metrics and code are logged before exiting.\n",
      "\u001b[1;38;5;39mCOMET INFO:\u001b[0m Experiment is live on comet.com https://www.comet.com/kxk254/general/0ef70190e1e047699bd9ebe156b6c8a7\n",
      "\n"
     ]
    }
   ],
   "source": [
    "from comet_ml import Experiment\n",
    "experiment = Experiment(api_key=\"zKfBRErLnMKDmo32pYIJFQdhg\")"
   ]
  },
  {
   "cell_type": "code",
   "execution_count": 5,
   "id": "f3c24e07",
   "metadata": {},
   "outputs": [
    {
     "name": "stdout",
     "output_type": "stream",
     "text": [
      "Ultralytics 8.3.131  Python-3.12.4 torch-2.6.0+cpu CPU (12th Gen Intel Core(TM) i7-1255U)\n",
      "\u001b[34m\u001b[1mengine\\trainer: \u001b[0magnostic_nms=False, amp=True, augment=False, auto_augment=randaugment, batch=16, bgr=0.0, box=7.5, cache=False, cfg=None, classes=None, close_mosaic=10, cls=0.5, conf=None, copy_paste=0.0, copy_paste_mode=flip, cos_lr=False, cutmix=0.0, data=coco128.yaml, degrees=0.0, deterministic=True, device=cpu, dfl=1.5, dnn=False, dropout=0.0, dynamic=False, embed=None, epochs=3, erasing=0.4, exist_ok=False, fliplr=0.5, flipud=0.0, format=torchscript, fraction=1.0, freeze=None, half=False, hsv_h=0.015, hsv_s=0.7, hsv_v=0.4, imgsz=640, int8=False, iou=0.7, keras=False, kobj=1.0, line_width=None, lr0=0.01, lrf=0.01, mask_ratio=4, max_det=300, mixup=0.0, mode=train, model=yolov8n.pt, momentum=0.937, mosaic=1.0, multi_scale=False, name=train5, nbs=64, nms=False, opset=None, optimize=False, optimizer=auto, overlap_mask=True, patience=100, perspective=0.0, plots=True, pose=12.0, pretrained=True, profile=False, project=None, rect=False, resume=False, retina_masks=False, save=True, save_conf=False, save_crop=False, save_dir=h:\\dev\\mit\\runs\\detect\\train5, save_frames=False, save_json=False, save_period=-1, save_txt=False, scale=0.5, seed=0, shear=0.0, show=False, show_boxes=True, show_conf=True, show_labels=True, simplify=True, single_cls=False, source=None, split=val, stream_buffer=False, task=detect, time=None, tracker=botsort.yaml, translate=0.1, val=True, verbose=True, vid_stride=1, visualize=False, warmup_bias_lr=0.1, warmup_epochs=3.0, warmup_momentum=0.8, weight_decay=0.0005, workers=8, workspace=None\n",
      "\n",
      "                   from  n    params  module                                       arguments                     \n",
      "  0                  -1  1       464  ultralytics.nn.modules.conv.Conv             [3, 16, 3, 2]                 \n",
      "  1                  -1  1      4672  ultralytics.nn.modules.conv.Conv             [16, 32, 3, 2]                \n",
      "  2                  -1  1      7360  ultralytics.nn.modules.block.C2f             [32, 32, 1, True]             \n",
      "  3                  -1  1     18560  ultralytics.nn.modules.conv.Conv             [32, 64, 3, 2]                \n",
      "  4                  -1  2     49664  ultralytics.nn.modules.block.C2f             [64, 64, 2, True]             \n",
      "  5                  -1  1     73984  ultralytics.nn.modules.conv.Conv             [64, 128, 3, 2]               \n",
      "  6                  -1  2    197632  ultralytics.nn.modules.block.C2f             [128, 128, 2, True]           \n",
      "  7                  -1  1    295424  ultralytics.nn.modules.conv.Conv             [128, 256, 3, 2]              \n",
      "  8                  -1  1    460288  ultralytics.nn.modules.block.C2f             [256, 256, 1, True]           \n",
      "  9                  -1  1    164608  ultralytics.nn.modules.block.SPPF            [256, 256, 5]                 \n",
      " 10                  -1  1         0  torch.nn.modules.upsampling.Upsample         [None, 2, 'nearest']          \n",
      " 11             [-1, 6]  1         0  ultralytics.nn.modules.conv.Concat           [1]                           \n",
      " 12                  -1  1    148224  ultralytics.nn.modules.block.C2f             [384, 128, 1]                 \n",
      " 13                  -1  1         0  torch.nn.modules.upsampling.Upsample         [None, 2, 'nearest']          \n",
      " 14             [-1, 4]  1         0  ultralytics.nn.modules.conv.Concat           [1]                           \n",
      " 15                  -1  1     37248  ultralytics.nn.modules.block.C2f             [192, 64, 1]                  \n",
      " 16                  -1  1     36992  ultralytics.nn.modules.conv.Conv             [64, 64, 3, 2]                \n",
      " 17            [-1, 12]  1         0  ultralytics.nn.modules.conv.Concat           [1]                           \n",
      " 18                  -1  1    123648  ultralytics.nn.modules.block.C2f             [192, 128, 1]                 \n",
      " 19                  -1  1    147712  ultralytics.nn.modules.conv.Conv             [128, 128, 3, 2]              \n",
      " 20             [-1, 9]  1         0  ultralytics.nn.modules.conv.Concat           [1]                           \n",
      " 21                  -1  1    493056  ultralytics.nn.modules.block.C2f             [384, 256, 1]                 \n",
      " 22        [15, 18, 21]  1    897664  ultralytics.nn.modules.head.Detect           [80, [64, 128, 256]]          \n",
      "Model summary: 129 layers, 3,157,200 parameters, 3,157,184 gradients, 8.9 GFLOPs\n",
      "\n",
      "Transferred 355/355 items from pretrained weights\n",
      "WARNING Comet installed but not initialized correctly, not logging this run. Comet.ml requires an API key. Please provide as the first argument to Experiment(api_key) or as an environment variable named COMET_API_KEY \n",
      "Freezing layer 'model.22.dfl.conv.weight'\n",
      "\u001b[34m\u001b[1mtrain: \u001b[0mFast image access  (ping: 0.00.0 ms, read: 927.6414.6 MB/s, size: 56.4 KB)\n",
      "\u001b[34m\u001b[1mval: \u001b[0mFast image access  (ping: 0.00.0 ms, read: 850.8280.1 MB/s, size: 53.4 KB)\n",
      "Plotting labels to h:\\dev\\mit\\runs\\detect\\train5\\labels.jpg... \n",
      "\u001b[34m\u001b[1moptimizer:\u001b[0m 'optimizer=auto' found, ignoring 'lr0=0.01' and 'momentum=0.937' and determining best 'optimizer', 'lr0' and 'momentum' automatically... \n",
      "\u001b[34m\u001b[1moptimizer:\u001b[0m AdamW(lr=0.000119, momentum=0.9) with parameter groups 57 weight(decay=0.0), 64 weight(decay=0.0005), 63 bias(decay=0.0)\n",
      "Image sizes 640 train, 640 val\n",
      "Using 0 dataloader workers\n",
      "Logging results to \u001b[1mh:\\dev\\mit\\runs\\detect\\train5\u001b[0m\n",
      "Starting training for 3 epochs...\n",
      "\n",
      "      Epoch    GPU_mem   box_loss   cls_loss   dfl_loss  Instances       Size\n",
      "                   all        128        929      0.663      0.529      0.615      0.454\n",
      "\n",
      "      Epoch    GPU_mem   box_loss   cls_loss   dfl_loss  Instances       Size\n",
      "                   all        128        929      0.681      0.532      0.624      0.464\n",
      "\n",
      "      Epoch    GPU_mem   box_loss   cls_loss   dfl_loss  Instances       Size\n",
      "                   all        128        929      0.693      0.539      0.631       0.47\n",
      "\n",
      "3 epochs completed in 0.061 hours.\n",
      "Optimizer stripped from h:\\dev\\mit\\runs\\detect\\train5\\weights\\last.pt, 6.5MB\n",
      "Optimizer stripped from h:\\dev\\mit\\runs\\detect\\train5\\weights\\best.pt, 6.5MB\n",
      "\n",
      "Validating h:\\dev\\mit\\runs\\detect\\train5\\weights\\best.pt...\n",
      "Ultralytics 8.3.131  Python-3.12.4 torch-2.6.0+cpu CPU (12th Gen Intel Core(TM) i7-1255U)\n",
      "Model summary (fused): 72 layers, 3,151,904 parameters, 0 gradients, 8.7 GFLOPs\n",
      "                   all        128        929      0.691       0.54      0.631       0.47\n",
      "                person         61        254      0.831       0.66      0.772      0.548\n",
      "               bicycle          3          6      0.619      0.333      0.332      0.288\n",
      "                   car         12         46      0.821      0.217      0.282      0.176\n",
      "            motorcycle          4          5      0.679      0.852      0.938      0.742\n",
      "              airplane          5          6      0.777      0.833      0.913      0.727\n",
      "                   bus          5          7       0.68      0.714      0.728      0.662\n",
      "                 train          3          3      0.547      0.667      0.775      0.698\n",
      "                 truck          5         12          1      0.355      0.497      0.295\n",
      "                  boat          2          6      0.292      0.167      0.466      0.286\n",
      "         traffic light          4         14      0.723      0.191      0.201      0.138\n",
      "             stop sign          2          2      0.957          1      0.995      0.714\n",
      "                 bench          5          9      0.828      0.538      0.632      0.394\n",
      "                  bird          2         16      0.921      0.725      0.912      0.546\n",
      "                   cat          4          4      0.905          1      0.995      0.778\n",
      "                   dog          9          9      0.689      0.889      0.849      0.668\n",
      "                 horse          1          2      0.576          1      0.995      0.547\n",
      "              elephant          4         17      0.866      0.824      0.918      0.697\n",
      "                  bear          1          1      0.629          1      0.995      0.995\n",
      "                 zebra          2          4      0.864          1      0.995      0.965\n",
      "               giraffe          4          9      0.742      0.961      0.943      0.715\n",
      "              backpack          4          6      0.651      0.333      0.377      0.238\n",
      "              umbrella          4         18      0.763        0.5      0.671      0.475\n",
      "               handbag          9         19          1          0      0.235      0.138\n",
      "                   tie          6          7      0.821      0.663      0.677      0.478\n",
      "              suitcase          2          4      0.589      0.722      0.828       0.58\n",
      "               frisbee          5          5      0.623        0.8      0.732      0.633\n",
      "                  skis          1          1      0.748          1      0.995      0.438\n",
      "             snowboard          2          7      0.759      0.714       0.76      0.494\n",
      "           sports ball          6          6      0.599      0.333      0.477      0.276\n",
      "                  kite          2         10      0.798        0.4      0.538      0.183\n",
      "          baseball bat          4          4      0.563       0.25      0.347      0.198\n",
      "        baseball glove          4          7        0.7      0.429       0.43      0.295\n",
      "            skateboard          3          5      0.807        0.6      0.599      0.446\n",
      "         tennis racket          5          7      0.766      0.474       0.53      0.359\n",
      "                bottle          6         18      0.513      0.353      0.389      0.235\n",
      "            wine glass          5         16      0.776      0.433      0.598      0.352\n",
      "                   cup         10         36      0.584       0.25      0.417      0.299\n",
      "                  fork          6          6      0.604      0.167      0.228      0.195\n",
      "                 knife          7         16      0.562      0.625      0.604      0.355\n",
      "                 spoon          5         22        0.6      0.206      0.354      0.202\n",
      "                  bowl          9         28      0.722       0.75      0.683      0.541\n",
      "                banana          1          1          0          0      0.166     0.0442\n",
      "              sandwich          2          2      0.492        0.5      0.497      0.497\n",
      "                orange          1          4          1      0.427      0.995      0.666\n",
      "              broccoli          4         11      0.462      0.182      0.269      0.214\n",
      "                carrot          3         24      0.714      0.623      0.709       0.47\n",
      "               hot dog          1          2      0.627      0.882      0.828      0.796\n",
      "                 pizza          5          5      0.862          1      0.995      0.853\n",
      "                 donut          2         14       0.65          1      0.909      0.826\n",
      "                  cake          4          4      0.655          1      0.995       0.88\n",
      "                 chair          9         35      0.521      0.486      0.469       0.26\n",
      "                 couch          5          6      0.638      0.595       0.77      0.598\n",
      "          potted plant          9         14      0.888      0.643       0.73      0.496\n",
      "                   bed          3          3      0.841      0.667       0.83       0.66\n",
      "          dining table         10         13      0.537      0.615      0.527      0.413\n",
      "                toilet          2          2      0.638        0.5      0.745      0.721\n",
      "                    tv          2          2      0.459        0.5      0.745      0.696\n",
      "                laptop          2          3          1          0      0.665      0.567\n",
      "                 mouse          2          2          1          0     0.0392    0.00392\n",
      "                remote          5          8      0.858        0.5      0.576      0.496\n",
      "            cell phone          5          8          0          0     0.0527     0.0338\n",
      "             microwave          3          3      0.614      0.667      0.806      0.671\n",
      "                  oven          5          5      0.466        0.4      0.342      0.272\n",
      "                  sink          4          6      0.373      0.167      0.173      0.124\n",
      "          refrigerator          5          5      0.676        0.4      0.649      0.505\n",
      "                  book          6         29      0.636      0.122      0.398      0.199\n",
      "                 clock          8          9      0.829      0.778      0.892      0.722\n",
      "                  vase          2          2      0.343          1      0.828      0.745\n",
      "              scissors          1          1          1          0      0.199     0.0597\n",
      "            teddy bear          6         21          1       0.37      0.637      0.408\n",
      "            toothbrush          2          5      0.813        0.4      0.731       0.47\n",
      "Speed: 2.6ms preprocess, 91.5ms inference, 0.0ms loss, 1.7ms postprocess per image\n",
      "Results saved to \u001b[1mh:\\dev\\mit\\runs\\detect\\train5\u001b[0m\n",
      " Learn more at https://docs.ultralytics.com/modes/train\n"
     ]
    },
    {
     "name": "stderr",
     "output_type": "stream",
     "text": [
      "COMET ERROR: Failed to create Comet experiment, reason: ValueError('Comet.ml requires an API key. Please provide as the first argument to Experiment(api_key) or as an environment variable named COMET_API_KEY ')\n",
      "\n",
      "\u001b[34m\u001b[1mtrain: \u001b[0mScanning H:\\dev\\datasets\\coco128\\labels\\train2017.cache... 126 images, 2 backgrounds, 0 corrupt: 100%|██████████| 128/128 [00:00<?, ?it/s]\n",
      "\u001b[34m\u001b[1mtrain: \u001b[0mScanning H:\\dev\\datasets\\coco128\\labels\\train2017.cache... 126 images, 2 backgrounds, 0 corrupt: 100%|██████████| 128/128 [00:00<?, ?it/s]\n",
      "\n",
      "\u001b[34m\u001b[1mval: \u001b[0mScanning H:\\dev\\datasets\\coco128\\labels\\train2017.cache... 126 images, 2 backgrounds, 0 corrupt: 100%|██████████| 128/128 [00:00<?, ?it/s]\n",
      "\u001b[34m\u001b[1mval: \u001b[0mScanning H:\\dev\\datasets\\coco128\\labels\\train2017.cache... 126 images, 2 backgrounds, 0 corrupt: 100%|██████████| 128/128 [00:00<?, ?it/s]\n",
      "\n",
      "  0%|          | 0/8 [00:00<?, ?it/s]\n",
      "        1/3         0G      1.031      1.608      1.179        157        640:   0%|          | 0/8 [00:05<?, ?it/s]\n",
      "        1/3         0G      1.031      1.608      1.179        157        640:  12%|█▎        | 1/8 [00:05<00:41,  5.98s/it]\n",
      "        1/3         0G      1.087      1.592      1.207        248        640:  12%|█▎        | 1/8 [00:12<00:41,  5.98s/it]\n",
      "        1/3         0G      1.087      1.592      1.207        248        640:  25%|██▌       | 2/8 [00:12<00:37,  6.26s/it]\n",
      "        1/3         0G      1.094      1.473       1.22        203        640:  25%|██▌       | 2/8 [00:18<00:37,  6.26s/it]\n",
      "        1/3         0G      1.094      1.473       1.22        203        640:  38%|███▊      | 3/8 [00:18<00:30,  6.17s/it]\n",
      "        1/3         0G      1.106      1.432      1.212        260        640:  38%|███▊      | 3/8 [00:24<00:30,  6.17s/it]\n",
      "        1/3         0G      1.106      1.432      1.212        260        640:  50%|█████     | 4/8 [00:24<00:24,  6.25s/it]\n",
      "        1/3         0G      1.096      1.382      1.214        186        640:  50%|█████     | 4/8 [00:30<00:24,  6.25s/it]\n",
      "        1/3         0G      1.096      1.382      1.214        186        640:  62%|██████▎   | 5/8 [00:30<00:18,  6.16s/it]\n",
      "        1/3         0G      1.096      1.387      1.215        200        640:  62%|██████▎   | 5/8 [00:36<00:18,  6.16s/it]\n",
      "        1/3         0G      1.096      1.387      1.215        200        640:  75%|███████▌  | 6/8 [00:36<00:12,  6.14s/it]\n",
      "        1/3         0G      1.129      1.392      1.228        225        640:  75%|███████▌  | 6/8 [00:43<00:12,  6.14s/it]\n",
      "        1/3         0G      1.129      1.392      1.228        225        640:  88%|████████▊ | 7/8 [00:43<00:06,  6.18s/it]\n",
      "        1/3         0G      1.141      1.411       1.23        220        640:  88%|████████▊ | 7/8 [00:49<00:06,  6.18s/it]\n",
      "        1/3         0G      1.141      1.411       1.23        220        640: 100%|██████████| 8/8 [00:49<00:00,  6.36s/it]\n",
      "        1/3         0G      1.141      1.411       1.23        220        640: 100%|██████████| 8/8 [00:49<00:00,  6.25s/it]\n",
      "\n",
      "                 Class     Images  Instances      Box(P          R      mAP50  mAP50-95):   0%|          | 0/4 [00:00<?, ?it/s]\n",
      "                 Class     Images  Instances      Box(P          R      mAP50  mAP50-95):  25%|██▌       | 1/4 [00:03<00:11,  3.72s/it]\n",
      "                 Class     Images  Instances      Box(P          R      mAP50  mAP50-95):  50%|█████     | 2/4 [00:07<00:07,  3.81s/it]\n",
      "                 Class     Images  Instances      Box(P          R      mAP50  mAP50-95):  75%|███████▌  | 3/4 [00:12<00:04,  4.35s/it]\n",
      "                 Class     Images  Instances      Box(P          R      mAP50  mAP50-95): 100%|██████████| 4/4 [00:17<00:00,  4.40s/it]\n",
      "                 Class     Images  Instances      Box(P          R      mAP50  mAP50-95): 100%|██████████| 4/4 [00:17<00:00,  4.27s/it]\n",
      "\n",
      "  0%|          | 0/8 [00:00<?, ?it/s]\n",
      "        2/3         0G      1.127      1.134      1.215        223        640:   0%|          | 0/8 [00:06<?, ?it/s]\n",
      "        2/3         0G      1.127      1.134      1.215        223        640:  12%|█▎        | 1/8 [00:06<00:44,  6.29s/it]\n",
      "        2/3         0G      1.156       1.23      1.236        219        640:  12%|█▎        | 1/8 [00:12<00:44,  6.29s/it]\n",
      "        2/3         0G      1.156       1.23      1.236        219        640:  25%|██▌       | 2/8 [00:12<00:37,  6.30s/it]\n",
      "        2/3         0G       1.18       1.29      1.247        179        640:  25%|██▌       | 2/8 [00:18<00:37,  6.30s/it]\n",
      "        2/3         0G       1.18       1.29      1.247        179        640:  38%|███▊      | 3/8 [00:18<00:31,  6.33s/it]\n",
      "        2/3         0G      1.155      1.267      1.225        180        640:  38%|███▊      | 3/8 [00:25<00:31,  6.33s/it]\n",
      "        2/3         0G      1.155      1.267      1.225        180        640:  50%|█████     | 4/8 [00:25<00:25,  6.42s/it]\n",
      "        2/3         0G      1.189      1.302      1.243        240        640:  50%|█████     | 4/8 [00:32<00:25,  6.42s/it]\n",
      "        2/3         0G      1.189      1.302      1.243        240        640:  62%|██████▎   | 5/8 [00:32<00:20,  6.68s/it]\n",
      "        2/3         0G       1.19      1.317      1.246        185        640:  62%|██████▎   | 5/8 [00:38<00:20,  6.68s/it]\n",
      "        2/3         0G       1.19      1.317      1.246        185        640:  75%|███████▌  | 6/8 [00:38<00:13,  6.55s/it]\n",
      "        2/3         0G      1.205      1.312      1.256        168        640:  75%|███████▌  | 6/8 [00:45<00:13,  6.55s/it]\n",
      "        2/3         0G      1.205      1.312      1.256        168        640:  88%|████████▊ | 7/8 [00:45<00:06,  6.45s/it]\n",
      "        2/3         0G      1.188      1.324      1.248        166        640:  88%|████████▊ | 7/8 [00:51<00:06,  6.45s/it]\n",
      "        2/3         0G      1.188      1.324      1.248        166        640: 100%|██████████| 8/8 [00:51<00:00,  6.42s/it]\n",
      "        2/3         0G      1.188      1.324      1.248        166        640: 100%|██████████| 8/8 [00:51<00:00,  6.45s/it]\n",
      "\n",
      "                 Class     Images  Instances      Box(P          R      mAP50  mAP50-95):   0%|          | 0/4 [00:00<?, ?it/s]\n",
      "                 Class     Images  Instances      Box(P          R      mAP50  mAP50-95):  25%|██▌       | 1/4 [00:03<00:10,  3.58s/it]\n",
      "                 Class     Images  Instances      Box(P          R      mAP50  mAP50-95):  50%|█████     | 2/4 [00:08<00:08,  4.40s/it]\n",
      "                 Class     Images  Instances      Box(P          R      mAP50  mAP50-95):  75%|███████▌  | 3/4 [00:14<00:05,  5.30s/it]\n",
      "                 Class     Images  Instances      Box(P          R      mAP50  mAP50-95): 100%|██████████| 4/4 [00:19<00:00,  4.96s/it]\n",
      "                 Class     Images  Instances      Box(P          R      mAP50  mAP50-95): 100%|██████████| 4/4 [00:19<00:00,  4.84s/it]\n",
      "\n",
      "  0%|          | 0/8 [00:00<?, ?it/s]\n",
      "        3/3         0G        1.2      1.377      1.215        253        640:   0%|          | 0/8 [00:06<?, ?it/s]\n",
      "        3/3         0G        1.2      1.377      1.215        253        640:  12%|█▎        | 1/8 [00:06<00:43,  6.17s/it]\n",
      "        3/3         0G      1.155       1.33      1.215        204        640:  12%|█▎        | 1/8 [00:12<00:43,  6.17s/it]\n",
      "        3/3         0G      1.155       1.33      1.215        204        640:  25%|██▌       | 2/8 [00:12<00:38,  6.34s/it]\n",
      "        3/3         0G       1.19      1.415      1.232        241        640:  25%|██▌       | 2/8 [00:19<00:38,  6.34s/it]\n",
      "        3/3         0G       1.19      1.415      1.232        241        640:  38%|███▊      | 3/8 [00:19<00:31,  6.40s/it]\n",
      "        3/3         0G      1.209       1.43      1.236        307        640:  38%|███▊      | 3/8 [00:26<00:31,  6.40s/it]\n",
      "        3/3         0G      1.209       1.43      1.236        307        640:  50%|█████     | 4/8 [00:26<00:27,  6.97s/it]\n",
      "        3/3         0G      1.209      1.428      1.243        203        640:  50%|█████     | 4/8 [00:34<00:27,  6.97s/it]\n",
      "        3/3         0G      1.209      1.428      1.243        203        640:  62%|██████▎   | 5/8 [00:34<00:21,  7.06s/it]\n",
      "        3/3         0G      1.206      1.419      1.243        183        640:  62%|██████▎   | 5/8 [00:40<00:21,  7.06s/it]\n",
      "        3/3         0G      1.206      1.419      1.243        183        640:  75%|███████▌  | 6/8 [00:40<00:13,  6.71s/it]\n",
      "        3/3         0G      1.215      1.416      1.243        207        640:  75%|███████▌  | 6/8 [00:46<00:13,  6.71s/it]\n",
      "        3/3         0G      1.215      1.416      1.243        207        640:  88%|████████▊ | 7/8 [00:46<00:06,  6.59s/it]\n",
      "        3/3         0G      1.219      1.396      1.243        190        640:  88%|████████▊ | 7/8 [00:52<00:06,  6.59s/it]\n",
      "        3/3         0G      1.219      1.396      1.243        190        640: 100%|██████████| 8/8 [00:52<00:00,  6.45s/it]\n",
      "        3/3         0G      1.219      1.396      1.243        190        640: 100%|██████████| 8/8 [00:52<00:00,  6.59s/it]\n",
      "\n",
      "                 Class     Images  Instances      Box(P          R      mAP50  mAP50-95):   0%|          | 0/4 [00:00<?, ?it/s]\n",
      "                 Class     Images  Instances      Box(P          R      mAP50  mAP50-95):  25%|██▌       | 1/4 [00:03<00:11,  3.80s/it]\n",
      "                 Class     Images  Instances      Box(P          R      mAP50  mAP50-95):  50%|█████     | 2/4 [00:11<00:11,  5.82s/it]\n",
      "                 Class     Images  Instances      Box(P          R      mAP50  mAP50-95):  75%|███████▌  | 3/4 [00:16<00:05,  5.54s/it]\n",
      "                 Class     Images  Instances      Box(P          R      mAP50  mAP50-95): 100%|██████████| 4/4 [00:20<00:00,  5.12s/it]\n",
      "                 Class     Images  Instances      Box(P          R      mAP50  mAP50-95): 100%|██████████| 4/4 [00:20<00:00,  5.18s/it]\n",
      "\n",
      "                 Class     Images  Instances      Box(P          R      mAP50  mAP50-95):   0%|          | 0/4 [00:00<?, ?it/s]\n",
      "                 Class     Images  Instances      Box(P          R      mAP50  mAP50-95):  25%|██▌       | 1/4 [00:02<00:07,  2.43s/it]\n",
      "                 Class     Images  Instances      Box(P          R      mAP50  mAP50-95):  50%|█████     | 2/4 [00:05<00:05,  2.76s/it]\n",
      "                 Class     Images  Instances      Box(P          R      mAP50  mAP50-95):  75%|███████▌  | 3/4 [00:09<00:03,  3.28s/it]\n",
      "                 Class     Images  Instances      Box(P          R      mAP50  mAP50-95): 100%|██████████| 4/4 [00:13<00:00,  3.49s/it]\n",
      "                 Class     Images  Instances      Box(P          R      mAP50  mAP50-95): 100%|██████████| 4/4 [00:13<00:00,  3.29s/it]\n"
     ]
    }
   ],
   "source": [
    "# Train YOLOv8n on COCO128 for 3 epochs\n",
    "!yolo task=detect mode=train model=yolov8n.pt data=coco128.yaml epochs=3 imgsz=640"
   ]
  },
  {
   "cell_type": "code",
   "execution_count": 9,
   "id": "9d56874c",
   "metadata": {},
   "outputs": [],
   "source": [
    "# !pip install onnx onnxruntime"
   ]
  },
  {
   "cell_type": "code",
   "execution_count": 7,
   "id": "bfdafbd0",
   "metadata": {},
   "outputs": [
    {
     "name": "stdout",
     "output_type": "stream",
     "text": [
      "Ultralytics 8.3.131  Python-3.12.4 torch-2.6.0+cpu CPU (12th Gen Intel Core(TM) i7-1255U)\n",
      "\u001b[34m\u001b[1mengine\\trainer: \u001b[0magnostic_nms=False, amp=True, augment=False, auto_augment=randaugment, batch=16, bgr=0.0, box=7.5, cache=False, cfg=None, classes=None, close_mosaic=10, cls=0.5, conf=None, copy_paste=0.0, copy_paste_mode=flip, cos_lr=False, cutmix=0.0, data=coco128.yaml, degrees=0.0, deterministic=True, device=cpu, dfl=1.5, dnn=False, dropout=0.0, dynamic=False, embed=None, epochs=3, erasing=0.4, exist_ok=False, fliplr=0.5, flipud=0.0, format=torchscript, fraction=1.0, freeze=None, half=False, hsv_h=0.015, hsv_s=0.7, hsv_v=0.4, imgsz=640, int8=False, iou=0.7, keras=False, kobj=1.0, line_width=None, lr0=0.01, lrf=0.01, mask_ratio=4, max_det=300, mixup=0.0, mode=train, model=yolov8n.pt, momentum=0.937, mosaic=1.0, multi_scale=False, name=train, nbs=64, nms=False, opset=None, optimize=False, optimizer=auto, overlap_mask=True, patience=100, perspective=0.0, plots=True, pose=12.0, pretrained=True, profile=False, project=None, rect=False, resume=False, retina_masks=False, save=True, save_conf=False, save_crop=False, save_dir=h:\\dev\\mit\\runs\\detect\\train, save_frames=False, save_json=False, save_period=-1, save_txt=False, scale=0.5, seed=0, shear=0.0, show=False, show_boxes=True, show_conf=True, show_labels=True, simplify=True, single_cls=False, source=None, split=val, stream_buffer=False, task=detect, time=None, tracker=botsort.yaml, translate=0.1, val=True, verbose=True, vid_stride=1, visualize=False, warmup_bias_lr=0.1, warmup_epochs=3.0, warmup_momentum=0.8, weight_decay=0.0005, workers=8, workspace=None\n",
      "\n",
      "                   from  n    params  module                                       arguments                     \n",
      "  0                  -1  1       464  ultralytics.nn.modules.conv.Conv             [3, 16, 3, 2]                 \n",
      "  1                  -1  1      4672  ultralytics.nn.modules.conv.Conv             [16, 32, 3, 2]                \n",
      "  2                  -1  1      7360  ultralytics.nn.modules.block.C2f             [32, 32, 1, True]             \n",
      "  3                  -1  1     18560  ultralytics.nn.modules.conv.Conv             [32, 64, 3, 2]                \n",
      "  4                  -1  2     49664  ultralytics.nn.modules.block.C2f             [64, 64, 2, True]             \n",
      "  5                  -1  1     73984  ultralytics.nn.modules.conv.Conv             [64, 128, 3, 2]               \n",
      "  6                  -1  2    197632  ultralytics.nn.modules.block.C2f             [128, 128, 2, True]           \n",
      "  7                  -1  1    295424  ultralytics.nn.modules.conv.Conv             [128, 256, 3, 2]              \n",
      "  8                  -1  1    460288  ultralytics.nn.modules.block.C2f             [256, 256, 1, True]           \n",
      "  9                  -1  1    164608  ultralytics.nn.modules.block.SPPF            [256, 256, 5]                 \n",
      " 10                  -1  1         0  torch.nn.modules.upsampling.Upsample         [None, 2, 'nearest']          \n",
      " 11             [-1, 6]  1         0  ultralytics.nn.modules.conv.Concat           [1]                           \n",
      " 12                  -1  1    148224  ultralytics.nn.modules.block.C2f             [384, 128, 1]                 \n",
      " 13                  -1  1         0  torch.nn.modules.upsampling.Upsample         [None, 2, 'nearest']          \n",
      " 14             [-1, 4]  1         0  ultralytics.nn.modules.conv.Concat           [1]                           \n",
      " 15                  -1  1     37248  ultralytics.nn.modules.block.C2f             [192, 64, 1]                  \n",
      " 16                  -1  1     36992  ultralytics.nn.modules.conv.Conv             [64, 64, 3, 2]                \n",
      " 17            [-1, 12]  1         0  ultralytics.nn.modules.conv.Concat           [1]                           \n",
      " 18                  -1  1    123648  ultralytics.nn.modules.block.C2f             [192, 128, 1]                 \n",
      " 19                  -1  1    147712  ultralytics.nn.modules.conv.Conv             [128, 128, 3, 2]              \n",
      " 20             [-1, 9]  1         0  ultralytics.nn.modules.conv.Concat           [1]                           \n",
      " 21                  -1  1    493056  ultralytics.nn.modules.block.C2f             [384, 256, 1]                 \n",
      " 22        [15, 18, 21]  1    897664  ultralytics.nn.modules.head.Detect           [80, [64, 128, 256]]          \n",
      "Model summary: 129 layers, 3,157,200 parameters, 3,157,184 gradients, 8.9 GFLOPs\n",
      "\n",
      "Transferred 355/355 items from pretrained weights\n"
     ]
    },
    {
     "name": "stderr",
     "output_type": "stream",
     "text": [
      "\u001b[1;38;5;39mCOMET INFO:\u001b[0m An experiment with the same configuration options is already running and will be reused.\n"
     ]
    },
    {
     "name": "stdout",
     "output_type": "stream",
     "text": [
      "Freezing layer 'model.22.dfl.conv.weight'\n",
      "\u001b[34m\u001b[1mtrain: \u001b[0mFast image access  (ping: 0.00.0 ms, read: 628.1283.3 MB/s, size: 50.9 KB)\n"
     ]
    },
    {
     "name": "stderr",
     "output_type": "stream",
     "text": [
      "\u001b[34m\u001b[1mtrain: \u001b[0mScanning H:\\dev\\datasets\\coco128\\labels\\train2017.cache... 126 images, 2 backgrounds, 0 corrupt: 100%|██████████| 128/128 [00:00<?, ?it/s]"
     ]
    },
    {
     "name": "stdout",
     "output_type": "stream",
     "text": [
      "\u001b[34m\u001b[1mval: \u001b[0mFast image access  (ping: 0.10.0 ms, read: 438.4284.9 MB/s, size: 52.5 KB)\n"
     ]
    },
    {
     "name": "stderr",
     "output_type": "stream",
     "text": [
      "\n",
      "\u001b[34m\u001b[1mval: \u001b[0mScanning H:\\dev\\datasets\\coco128\\labels\\train2017.cache... 126 images, 2 backgrounds, 0 corrupt: 100%|██████████| 128/128 [00:00<?, ?it/s]\n"
     ]
    },
    {
     "name": "stdout",
     "output_type": "stream",
     "text": [
      "Plotting labels to h:\\dev\\mit\\runs\\detect\\train\\labels.jpg... \n",
      "\u001b[34m\u001b[1moptimizer:\u001b[0m 'optimizer=auto' found, ignoring 'lr0=0.01' and 'momentum=0.937' and determining best 'optimizer', 'lr0' and 'momentum' automatically... \n",
      "\u001b[34m\u001b[1moptimizer:\u001b[0m AdamW(lr=0.000119, momentum=0.9) with parameter groups 57 weight(decay=0.0), 64 weight(decay=0.0005), 63 bias(decay=0.0)\n",
      "Image sizes 640 train, 640 val\n",
      "Using 0 dataloader workers\n",
      "Logging results to \u001b[1mh:\\dev\\mit\\runs\\detect\\train\u001b[0m\n",
      "Starting training for 3 epochs...\n",
      "\n",
      "      Epoch    GPU_mem   box_loss   cls_loss   dfl_loss  Instances       Size\n"
     ]
    },
    {
     "name": "stderr",
     "output_type": "stream",
     "text": [
      "        1/3         0G      1.178      1.565      1.237        285        640: 100%|██████████| 8/8 [00:48<00:00,  6.08s/it]\n",
      "                 Class     Images  Instances      Box(P          R      mAP50  mAP50-95): 100%|██████████| 4/4 [00:16<00:00,  4.03s/it]"
     ]
    },
    {
     "name": "stdout",
     "output_type": "stream",
     "text": [
      "                   all        128        929       0.66       0.52      0.612      0.454\n"
     ]
    },
    {
     "name": "stderr",
     "output_type": "stream",
     "text": [
      "\n"
     ]
    },
    {
     "name": "stdout",
     "output_type": "stream",
     "text": [
      "\n",
      "      Epoch    GPU_mem   box_loss   cls_loss   dfl_loss  Instances       Size\n"
     ]
    },
    {
     "name": "stderr",
     "output_type": "stream",
     "text": [
      "        2/3         0G      1.189      1.383       1.26        256        640: 100%|██████████| 8/8 [00:48<00:00,  6.05s/it]\n",
      "                 Class     Images  Instances      Box(P          R      mAP50  mAP50-95): 100%|██████████| 4/4 [00:16<00:00,  4.17s/it]"
     ]
    },
    {
     "name": "stdout",
     "output_type": "stream",
     "text": [
      "                   all        128        929      0.666      0.535      0.623      0.463\n"
     ]
    },
    {
     "name": "stderr",
     "output_type": "stream",
     "text": [
      "\n"
     ]
    },
    {
     "name": "stdout",
     "output_type": "stream",
     "text": [
      "\n",
      "      Epoch    GPU_mem   box_loss   cls_loss   dfl_loss  Instances       Size\n"
     ]
    },
    {
     "name": "stderr",
     "output_type": "stream",
     "text": [
      "        3/3         0G       1.25      1.444      1.271        204        640: 100%|██████████| 8/8 [00:49<00:00,  6.23s/it]\n",
      "                 Class     Images  Instances      Box(P          R      mAP50  mAP50-95): 100%|██████████| 4/4 [00:19<00:00,  4.95s/it]"
     ]
    },
    {
     "name": "stdout",
     "output_type": "stream",
     "text": [
      "                   all        128        929      0.671       0.54      0.627      0.469\n"
     ]
    },
    {
     "name": "stderr",
     "output_type": "stream",
     "text": [
      "\n"
     ]
    },
    {
     "name": "stdout",
     "output_type": "stream",
     "text": [
      "\n",
      "3 epochs completed in 0.057 hours.\n",
      "Optimizer stripped from h:\\dev\\mit\\runs\\detect\\train\\weights\\last.pt, 6.5MB\n",
      "Optimizer stripped from h:\\dev\\mit\\runs\\detect\\train\\weights\\best.pt, 6.5MB\n",
      "\n",
      "Validating h:\\dev\\mit\\runs\\detect\\train\\weights\\best.pt...\n",
      "Ultralytics 8.3.131  Python-3.12.4 torch-2.6.0+cpu CPU (12th Gen Intel Core(TM) i7-1255U)\n",
      "Model summary (fused): 72 layers, 3,151,904 parameters, 0 gradients, 8.7 GFLOPs\n"
     ]
    },
    {
     "name": "stderr",
     "output_type": "stream",
     "text": [
      "                 Class     Images  Instances      Box(P          R      mAP50  mAP50-95): 100%|██████████| 4/4 [00:12<00:00,  3.09s/it]\n"
     ]
    },
    {
     "name": "stdout",
     "output_type": "stream",
     "text": [
      "                   all        128        929       0.67      0.541      0.628       0.47\n",
      "                person         61        254      0.822      0.673      0.774      0.544\n",
      "               bicycle          3          6      0.515      0.333      0.339       0.29\n",
      "                   car         12         46      0.745      0.217      0.289      0.188\n",
      "            motorcycle          4          5      0.677      0.843      0.938      0.742\n",
      "              airplane          5          6      0.841      0.889      0.948      0.716\n",
      "                   bus          5          7      0.663      0.714      0.731      0.663\n",
      "                 train          3          3      0.543      0.667      0.755      0.621\n",
      "                 truck          5         12          1      0.405      0.507      0.302\n",
      "                  boat          2          6      0.454      0.288      0.399      0.284\n",
      "         traffic light          4         14      0.728      0.196      0.201      0.138\n",
      "             stop sign          2          2      0.877          1      0.995      0.718\n",
      "                 bench          5          9      0.823      0.522      0.631      0.385\n",
      "                  bird          2         16      0.921      0.733      0.904      0.573\n",
      "                   cat          4          4       0.97          1      0.995      0.818\n",
      "                   dog          9          9      0.644      0.889      0.852      0.606\n",
      "                 horse          1          2      0.632          1      0.995      0.497\n",
      "              elephant          4         17      0.871      0.795      0.915      0.668\n",
      "                  bear          1          1      0.624          1      0.995      0.995\n",
      "                 zebra          2          4      0.859          1      0.995      0.965\n",
      "               giraffe          4          9       0.81          1      0.951      0.752\n",
      "              backpack          4          6      0.641      0.333      0.395      0.251\n",
      "              umbrella          4         18      0.781        0.5      0.659      0.433\n",
      "               handbag          9         19      0.461     0.0485      0.197      0.107\n",
      "                   tie          6          7      0.828       0.69      0.675      0.494\n",
      "              suitcase          2          4      0.632      0.872      0.828      0.592\n",
      "               frisbee          5          5      0.618        0.8      0.759      0.679\n",
      "                  skis          1          1      0.495          1      0.995      0.517\n",
      "             snowboard          2          7      0.805      0.714      0.688      0.477\n",
      "           sports ball          6          6      0.706      0.413      0.514      0.296\n",
      "                  kite          2         10      0.736        0.4      0.547      0.199\n",
      "          baseball bat          4          4      0.627       0.25      0.353      0.199\n",
      "        baseball glove          4          7      0.673      0.429       0.43      0.295\n",
      "            skateboard          3          5      0.801        0.6      0.599      0.438\n",
      "         tennis racket          5          7      0.665      0.568       0.49      0.347\n",
      "                bottle          6         18      0.535      0.384      0.367      0.207\n",
      "            wine glass          5         16      0.624      0.562      0.577      0.353\n",
      "                   cup         10         36      0.563      0.278      0.421      0.299\n",
      "                  fork          6          6      0.579      0.167      0.237      0.187\n",
      "                 knife          7         16      0.558        0.5      0.592      0.355\n",
      "                 spoon          5         22      0.693      0.182      0.338      0.191\n",
      "                  bowl          9         28      0.698      0.679      0.672      0.519\n",
      "                banana          1          1          0          0      0.166     0.0446\n",
      "              sandwich          2          2          0          0      0.497      0.497\n",
      "                orange          1          4          1       0.36      0.995      0.669\n",
      "              broccoli          4         11      0.357      0.182      0.256       0.21\n",
      "                carrot          3         24      0.731      0.567      0.661      0.432\n",
      "               hot dog          1          2      0.656          1      0.828      0.795\n",
      "                 pizza          5          5      0.851          1      0.995      0.853\n",
      "                 donut          2         14      0.642          1      0.909      0.814\n",
      "                  cake          4          4      0.801          1      0.995       0.88\n",
      "                 chair          9         35      0.525      0.486      0.449      0.253\n",
      "                 couch          5          6       0.73       0.46      0.693      0.522\n",
      "          potted plant          9         14      0.806      0.643      0.742      0.501\n",
      "                   bed          3          3      0.774      0.667      0.863      0.699\n",
      "          dining table         10         13      0.539      0.615      0.529      0.415\n",
      "                toilet          2          2      0.634        0.5      0.828      0.796\n",
      "                    tv          2          2      0.358        0.5      0.695      0.656\n",
      "                laptop          2          3          1          0      0.631      0.554\n",
      "                 mouse          2          2          1          0     0.0473    0.00473\n",
      "                remote          5          8      0.834        0.5      0.562       0.48\n",
      "            cell phone          5          8          0          0     0.0526     0.0345\n",
      "             microwave          3          3       0.52      0.667       0.83      0.717\n",
      "                  oven          5          5      0.503        0.4      0.341      0.272\n",
      "                  sink          4          6      0.382      0.167      0.192      0.132\n",
      "          refrigerator          5          5      0.709        0.4      0.644        0.5\n",
      "                  book          6         29      0.654      0.131      0.416        0.2\n",
      "                 clock          8          9      0.787      0.822      0.892      0.737\n",
      "                  vase          2          2      0.328          1      0.828      0.795\n",
      "              scissors          1          1          1          0      0.199     0.0628\n",
      "            teddy bear          6         21      0.967      0.381      0.672      0.431\n",
      "            toothbrush          2          5      0.743        0.4      0.762      0.504\n",
      "Speed: 2.2ms preprocess, 84.9ms inference, 0.0ms loss, 1.8ms postprocess per image\n",
      "Results saved to \u001b[1mh:\\dev\\mit\\runs\\detect\\train\u001b[0m\n"
     ]
    },
    {
     "name": "stderr",
     "output_type": "stream",
     "text": [
      "\u001b[1;38;5;39mCOMET INFO:\u001b[0m ---------------------------------------------------------------------------------------\n",
      "\u001b[1;38;5;39mCOMET INFO:\u001b[0m Comet.ml Experiment Summary\n",
      "\u001b[1;38;5;39mCOMET INFO:\u001b[0m ---------------------------------------------------------------------------------------\n",
      "\u001b[1;38;5;39mCOMET INFO:\u001b[0m   Data:\n",
      "\u001b[1;38;5;39mCOMET INFO:\u001b[0m     display_summary_level : 1\n",
      "\u001b[1;38;5;39mCOMET INFO:\u001b[0m     name                  : difficult_chamfer_2566\n",
      "\u001b[1;38;5;39mCOMET INFO:\u001b[0m     url                   : https://www.comet.com/kxk254/general/0ef70190e1e047699bd9ebe156b6c8a7\n",
      "\u001b[1;38;5;39mCOMET INFO:\u001b[0m   Metrics [count] (min, max):\n",
      "\u001b[1;38;5;39mCOMET INFO:\u001b[0m     lr/pg0 [4]               : (8.33e-06, 1.1959500000000001e-05)\n",
      "\u001b[1;38;5;39mCOMET INFO:\u001b[0m     lr/pg1 [4]               : (8.33e-06, 1.1959500000000001e-05)\n",
      "\u001b[1;38;5;39mCOMET INFO:\u001b[0m     lr/pg2 [4]               : (8.33e-06, 1.1959500000000001e-05)\n",
      "\u001b[1;38;5;39mCOMET INFO:\u001b[0m     metrics/mAP50(B) [4]     : (0.61231, 0.6283998173945073)\n",
      "\u001b[1;38;5;39mCOMET INFO:\u001b[0m     metrics/mAP50-95(B) [4]  : (0.45421, 0.46990187200663985)\n",
      "\u001b[1;38;5;39mCOMET INFO:\u001b[0m     metrics/precision(B) [4] : (0.6605, 0.67068)\n",
      "\u001b[1;38;5;39mCOMET INFO:\u001b[0m     metrics/recall(B) [4]    : (0.51962, 0.5405712097277664)\n",
      "\u001b[1;38;5;39mCOMET INFO:\u001b[0m     model/GFLOPs             : 8.858\n",
      "\u001b[1;38;5;39mCOMET INFO:\u001b[0m     model/parameters         : 3157200\n",
      "\u001b[1;38;5;39mCOMET INFO:\u001b[0m     model/speed_PyTorch(ms)  : 94.432\n",
      "\u001b[1;38;5;39mCOMET INFO:\u001b[0m     train/box_loss [3]       : (1.17765, 1.25035)\n",
      "\u001b[1;38;5;39mCOMET INFO:\u001b[0m     train/cls_loss [3]       : (1.38304, 1.56511)\n",
      "\u001b[1;38;5;39mCOMET INFO:\u001b[0m     train/dfl_loss [3]       : (1.23683, 1.27078)\n",
      "\u001b[1;38;5;39mCOMET INFO:\u001b[0m     val/box_loss [3]         : (1.06835, 1.07794)\n",
      "\u001b[1;38;5;39mCOMET INFO:\u001b[0m     val/cls_loss [3]         : (1.08746, 1.12361)\n",
      "\u001b[1;38;5;39mCOMET INFO:\u001b[0m     val/dfl_loss [3]         : (1.12136, 1.12671)\n",
      "\u001b[1;38;5;39mCOMET INFO:\u001b[0m   Others:\n",
      "\u001b[1;38;5;39mCOMET INFO:\u001b[0m     Created from                 : ultralytics\n",
      "\u001b[1;38;5;39mCOMET INFO:\u001b[0m     eval_batch_logging_interval  : 1\n",
      "\u001b[1;38;5;39mCOMET INFO:\u001b[0m     log_confusion_matrix_on_eval : False\n",
      "\u001b[1;38;5;39mCOMET INFO:\u001b[0m     log_image_predictions        : True\n",
      "\u001b[1;38;5;39mCOMET INFO:\u001b[0m     max_image_predictions        : 100\n",
      "\u001b[1;38;5;39mCOMET INFO:\u001b[0m   Parameters:\n",
      "\u001b[1;38;5;39mCOMET INFO:\u001b[0m     agnostic_nms    : False\n",
      "\u001b[1;38;5;39mCOMET INFO:\u001b[0m     amp             : True\n",
      "\u001b[1;38;5;39mCOMET INFO:\u001b[0m     augment         : False\n",
      "\u001b[1;38;5;39mCOMET INFO:\u001b[0m     auto_augment    : randaugment\n",
      "\u001b[1;38;5;39mCOMET INFO:\u001b[0m     batch           : 16\n",
      "\u001b[1;38;5;39mCOMET INFO:\u001b[0m     bgr             : 0.0\n",
      "\u001b[1;38;5;39mCOMET INFO:\u001b[0m     box             : 7.5\n",
      "\u001b[1;38;5;39mCOMET INFO:\u001b[0m     cache           : False\n",
      "\u001b[1;38;5;39mCOMET INFO:\u001b[0m     cfg             : None\n",
      "\u001b[1;38;5;39mCOMET INFO:\u001b[0m     classes         : None\n",
      "\u001b[1;38;5;39mCOMET INFO:\u001b[0m     close_mosaic    : 10\n",
      "\u001b[1;38;5;39mCOMET INFO:\u001b[0m     cls             : 0.5\n",
      "\u001b[1;38;5;39mCOMET INFO:\u001b[0m     conf            : None\n",
      "\u001b[1;38;5;39mCOMET INFO:\u001b[0m     copy_paste      : 0.0\n",
      "\u001b[1;38;5;39mCOMET INFO:\u001b[0m     copy_paste_mode : flip\n",
      "\u001b[1;38;5;39mCOMET INFO:\u001b[0m     cos_lr          : False\n",
      "\u001b[1;38;5;39mCOMET INFO:\u001b[0m     cutmix          : 0.0\n",
      "\u001b[1;38;5;39mCOMET INFO:\u001b[0m     data            : H:\\dev\\mit\\env\\Lib\\site-packages\\ultralytics\\cfg\\datasets\\coco128.yaml\n",
      "\u001b[1;38;5;39mCOMET INFO:\u001b[0m     degrees         : 0.0\n",
      "\u001b[1;38;5;39mCOMET INFO:\u001b[0m     deterministic   : True\n",
      "\u001b[1;38;5;39mCOMET INFO:\u001b[0m     device          : cpu\n",
      "\u001b[1;38;5;39mCOMET INFO:\u001b[0m     dfl             : 1.5\n",
      "\u001b[1;38;5;39mCOMET INFO:\u001b[0m     dnn             : False\n",
      "\u001b[1;38;5;39mCOMET INFO:\u001b[0m     dropout         : 0.0\n",
      "\u001b[1;38;5;39mCOMET INFO:\u001b[0m     dynamic         : False\n",
      "\u001b[1;38;5;39mCOMET INFO:\u001b[0m     embed           : None\n",
      "\u001b[1;38;5;39mCOMET INFO:\u001b[0m     epochs          : 3\n",
      "\u001b[1;38;5;39mCOMET INFO:\u001b[0m     erasing         : 0.4\n",
      "\u001b[1;38;5;39mCOMET INFO:\u001b[0m     exist_ok        : False\n",
      "\u001b[1;38;5;39mCOMET INFO:\u001b[0m     fliplr          : 0.5\n",
      "\u001b[1;38;5;39mCOMET INFO:\u001b[0m     flipud          : 0.0\n",
      "\u001b[1;38;5;39mCOMET INFO:\u001b[0m     format          : torchscript\n",
      "\u001b[1;38;5;39mCOMET INFO:\u001b[0m     fraction        : 1.0\n",
      "\u001b[1;38;5;39mCOMET INFO:\u001b[0m     freeze          : None\n",
      "\u001b[1;38;5;39mCOMET INFO:\u001b[0m     half            : False\n",
      "\u001b[1;38;5;39mCOMET INFO:\u001b[0m     hsv_h           : 0.015\n",
      "\u001b[1;38;5;39mCOMET INFO:\u001b[0m     hsv_s           : 0.7\n",
      "\u001b[1;38;5;39mCOMET INFO:\u001b[0m     hsv_v           : 0.4\n",
      "\u001b[1;38;5;39mCOMET INFO:\u001b[0m     imgsz           : 640\n",
      "\u001b[1;38;5;39mCOMET INFO:\u001b[0m     int8            : False\n",
      "\u001b[1;38;5;39mCOMET INFO:\u001b[0m     iou             : 0.7\n",
      "\u001b[1;38;5;39mCOMET INFO:\u001b[0m     keras           : False\n",
      "\u001b[1;38;5;39mCOMET INFO:\u001b[0m     kobj            : 1.0\n",
      "\u001b[1;38;5;39mCOMET INFO:\u001b[0m     line_width      : None\n",
      "\u001b[1;38;5;39mCOMET INFO:\u001b[0m     lr0             : 0.01\n",
      "\u001b[1;38;5;39mCOMET INFO:\u001b[0m     lrf             : 0.01\n",
      "\u001b[1;38;5;39mCOMET INFO:\u001b[0m     mask_ratio      : 4\n",
      "\u001b[1;38;5;39mCOMET INFO:\u001b[0m     max_det         : 300\n",
      "\u001b[1;38;5;39mCOMET INFO:\u001b[0m     mixup           : 0.0\n",
      "\u001b[1;38;5;39mCOMET INFO:\u001b[0m     mode            : train\n",
      "\u001b[1;38;5;39mCOMET INFO:\u001b[0m     model           : yolov8n.pt\n",
      "\u001b[1;38;5;39mCOMET INFO:\u001b[0m     momentum        : 0.937\n",
      "\u001b[1;38;5;39mCOMET INFO:\u001b[0m     mosaic          : 1.0\n",
      "\u001b[1;38;5;39mCOMET INFO:\u001b[0m     multi_scale     : False\n",
      "\u001b[1;38;5;39mCOMET INFO:\u001b[0m     name            : train\n",
      "\u001b[1;38;5;39mCOMET INFO:\u001b[0m     nbs             : 64\n",
      "\u001b[1;38;5;39mCOMET INFO:\u001b[0m     nms             : False\n",
      "\u001b[1;38;5;39mCOMET INFO:\u001b[0m     opset           : None\n",
      "\u001b[1;38;5;39mCOMET INFO:\u001b[0m     optimize        : False\n",
      "\u001b[1;38;5;39mCOMET INFO:\u001b[0m     optimizer       : auto\n",
      "\u001b[1;38;5;39mCOMET INFO:\u001b[0m     overlap_mask    : True\n",
      "\u001b[1;38;5;39mCOMET INFO:\u001b[0m     patience        : 100\n",
      "\u001b[1;38;5;39mCOMET INFO:\u001b[0m     perspective     : 0.0\n",
      "\u001b[1;38;5;39mCOMET INFO:\u001b[0m     plots           : True\n",
      "\u001b[1;38;5;39mCOMET INFO:\u001b[0m     pose            : 12.0\n",
      "\u001b[1;38;5;39mCOMET INFO:\u001b[0m     pretrained      : True\n",
      "\u001b[1;38;5;39mCOMET INFO:\u001b[0m     profile         : False\n",
      "\u001b[1;38;5;39mCOMET INFO:\u001b[0m     project         : None\n",
      "\u001b[1;38;5;39mCOMET INFO:\u001b[0m     rect            : False\n",
      "\u001b[1;38;5;39mCOMET INFO:\u001b[0m     resume          : False\n",
      "\u001b[1;38;5;39mCOMET INFO:\u001b[0m     retina_masks    : False\n",
      "\u001b[1;38;5;39mCOMET INFO:\u001b[0m     save            : True\n",
      "\u001b[1;38;5;39mCOMET INFO:\u001b[0m     save_conf       : False\n",
      "\u001b[1;38;5;39mCOMET INFO:\u001b[0m     save_crop       : False\n",
      "\u001b[1;38;5;39mCOMET INFO:\u001b[0m     save_dir        : h:\\dev\\mit\\runs\\detect\\train\n",
      "\u001b[1;38;5;39mCOMET INFO:\u001b[0m     save_frames     : False\n",
      "\u001b[1;38;5;39mCOMET INFO:\u001b[0m     save_json       : False\n",
      "\u001b[1;38;5;39mCOMET INFO:\u001b[0m     save_period     : -1\n",
      "\u001b[1;38;5;39mCOMET INFO:\u001b[0m     save_txt        : False\n",
      "\u001b[1;38;5;39mCOMET INFO:\u001b[0m     scale           : 0.5\n",
      "\u001b[1;38;5;39mCOMET INFO:\u001b[0m     seed            : 0\n",
      "\u001b[1;38;5;39mCOMET INFO:\u001b[0m     shear           : 0.0\n",
      "\u001b[1;38;5;39mCOMET INFO:\u001b[0m     show            : False\n",
      "\u001b[1;38;5;39mCOMET INFO:\u001b[0m     show_boxes      : True\n",
      "\u001b[1;38;5;39mCOMET INFO:\u001b[0m     show_conf       : True\n",
      "\u001b[1;38;5;39mCOMET INFO:\u001b[0m     show_labels     : True\n",
      "\u001b[1;38;5;39mCOMET INFO:\u001b[0m     simplify        : True\n",
      "\u001b[1;38;5;39mCOMET INFO:\u001b[0m     single_cls      : False\n",
      "\u001b[1;38;5;39mCOMET INFO:\u001b[0m     source          : None\n",
      "\u001b[1;38;5;39mCOMET INFO:\u001b[0m     split           : val\n",
      "\u001b[1;38;5;39mCOMET INFO:\u001b[0m     stream_buffer   : False\n",
      "\u001b[1;38;5;39mCOMET INFO:\u001b[0m     task            : detect\n",
      "\u001b[1;38;5;39mCOMET INFO:\u001b[0m     time            : None\n",
      "\u001b[1;38;5;39mCOMET INFO:\u001b[0m     tracker         : botsort.yaml\n",
      "\u001b[1;38;5;39mCOMET INFO:\u001b[0m     translate       : 0.1\n",
      "\u001b[1;38;5;39mCOMET INFO:\u001b[0m     val             : True\n",
      "\u001b[1;38;5;39mCOMET INFO:\u001b[0m     verbose         : True\n",
      "\u001b[1;38;5;39mCOMET INFO:\u001b[0m     vid_stride      : 1\n",
      "\u001b[1;38;5;39mCOMET INFO:\u001b[0m     visualize       : False\n",
      "\u001b[1;38;5;39mCOMET INFO:\u001b[0m     warmup_bias_lr  : 0.1\n",
      "\u001b[1;38;5;39mCOMET INFO:\u001b[0m     warmup_epochs   : 3.0\n",
      "\u001b[1;38;5;39mCOMET INFO:\u001b[0m     warmup_momentum : 0.8\n",
      "\u001b[1;38;5;39mCOMET INFO:\u001b[0m     weight_decay    : 0.0005\n",
      "\u001b[1;38;5;39mCOMET INFO:\u001b[0m     workers         : 0\n",
      "\u001b[1;38;5;39mCOMET INFO:\u001b[0m     workspace       : None\n",
      "\u001b[1;38;5;39mCOMET INFO:\u001b[0m   Uploads:\n",
      "\u001b[1;38;5;39mCOMET INFO:\u001b[0m     confusion-matrix         : 1\n",
      "\u001b[1;38;5;39mCOMET INFO:\u001b[0m     environment details      : 1\n",
      "\u001b[1;38;5;39mCOMET INFO:\u001b[0m     filename                 : 1\n",
      "\u001b[1;38;5;39mCOMET INFO:\u001b[0m     git metadata             : 1\n",
      "\u001b[1;38;5;39mCOMET INFO:\u001b[0m     git-patch (uncompressed) : 1 (1.23 KB)\n",
      "\u001b[1;38;5;39mCOMET INFO:\u001b[0m     images                   : 17\n",
      "\u001b[1;38;5;39mCOMET INFO:\u001b[0m     installed packages       : 1\n",
      "\u001b[1;38;5;39mCOMET INFO:\u001b[0m     model-element            : 1 (6.23 MB)\n",
      "\u001b[1;38;5;39mCOMET INFO:\u001b[0m     notebook                 : 1\n",
      "\u001b[1;38;5;39mCOMET INFO:\u001b[0m     source_code              : 1\n",
      "\u001b[1;38;5;39mCOMET INFO:\u001b[0m \n",
      "\u001b[1;38;5;214mCOMET WARNING:\u001b[0m To get all data logged automatically, import comet_ml before the following modules: torch.\n",
      "\u001b[1;38;5;39mCOMET INFO:\u001b[0m Please wait for assets to finish uploading (timeout is 10800 seconds)\n",
      "\u001b[1;38;5;39mCOMET INFO:\u001b[0m Still uploading 13 file(s), remaining 6.08 MB/13.55 MB\n",
      "\u001b[1;38;5;39mCOMET INFO:\u001b[0m Still uploading 1 asset(s), remaining 1.53 MB/6.23 MB, Throughput 310.41 KB/s, ETA ~6s\n"
     ]
    },
    {
     "name": "stdout",
     "output_type": "stream",
     "text": [
      "Ultralytics 8.3.131  Python-3.12.4 torch-2.6.0+cpu CPU (12th Gen Intel Core(TM) i7-1255U)\n",
      "Model summary (fused): 72 layers, 3,151,904 parameters, 0 gradients, 8.7 GFLOPs\n",
      "\u001b[34m\u001b[1mval: \u001b[0mFast image access  (ping: 0.00.0 ms, read: 618.3343.5 MB/s, size: 42.2 KB)\n"
     ]
    },
    {
     "name": "stderr",
     "output_type": "stream",
     "text": [
      "\u001b[34m\u001b[1mval: \u001b[0mScanning H:\\dev\\datasets\\coco128\\labels\\train2017.cache... 126 images, 2 backgrounds, 0 corrupt: 100%|██████████| 128/128 [00:00<?, ?it/s]\n",
      "                 Class     Images  Instances      Box(P          R      mAP50  mAP50-95): 100%|██████████| 8/8 [00:09<00:00,  1.19s/it]\n"
     ]
    },
    {
     "name": "stdout",
     "output_type": "stream",
     "text": [
      "                   all        128        929      0.671      0.546      0.631      0.469\n",
      "                person         61        254      0.819      0.669      0.775      0.542\n",
      "               bicycle          3          6      0.522      0.333       0.33      0.285\n",
      "                   car         12         46      0.753      0.217      0.289      0.187\n",
      "            motorcycle          4          5      0.676       0.84      0.938      0.742\n",
      "              airplane          5          6      0.841      0.887      0.948      0.716\n",
      "                   bus          5          7      0.657      0.714      0.731      0.662\n",
      "                 train          3          3      0.544      0.667      0.755      0.621\n",
      "                 truck          5         12          1      0.398      0.515      0.308\n",
      "                  boat          2          6      0.324      0.249      0.355      0.184\n",
      "         traffic light          4         14      0.727      0.195      0.201      0.138\n",
      "             stop sign          2          2       0.88          1      0.995      0.721\n",
      "                 bench          5          9      0.822      0.519      0.631      0.385\n",
      "                  bird          2         16      0.921      0.731      0.897      0.569\n",
      "                   cat          4          4      0.898          1      0.995      0.834\n",
      "                   dog          9          9      0.673      0.889      0.852      0.607\n",
      "                 horse          1          2      0.636          1      0.995      0.497\n",
      "              elephant          4         17       0.87      0.792      0.915      0.668\n",
      "                  bear          1          1      0.625          1      0.995      0.995\n",
      "                 zebra          2          4      0.859          1      0.995      0.965\n",
      "               giraffe          4          9      0.744          1      0.943      0.719\n",
      "              backpack          4          6      0.643      0.333      0.396      0.243\n",
      "              umbrella          4         18      0.793        0.5      0.659      0.433\n",
      "               handbag          9         19      0.436     0.0459      0.177     0.0979\n",
      "                   tie          6          7      0.827      0.687      0.675      0.494\n",
      "              suitcase          2          4       0.63      0.862      0.828      0.592\n",
      "               frisbee          5          5       0.62        0.8      0.759      0.679\n",
      "                  skis          1          1      0.497          1      0.995      0.497\n",
      "             snowboard          2          7      0.807      0.714      0.687      0.475\n",
      "           sports ball          6          6      0.678      0.356      0.545      0.313\n",
      "                  kite          2         10      0.818      0.455      0.582        0.2\n",
      "          baseball bat          4          4      0.641       0.25      0.353      0.199\n",
      "        baseball glove          4          7      0.675      0.429       0.43      0.316\n",
      "            skateboard          3          5      0.856        0.6      0.599      0.438\n",
      "         tennis racket          5          7      0.732      0.398      0.502      0.323\n",
      "                bottle          6         18      0.533      0.381      0.367      0.207\n",
      "            wine glass          5         16      0.627      0.562      0.578      0.349\n",
      "                   cup         10         36      0.564      0.278      0.415      0.296\n",
      "                  fork          6          6      0.581      0.167      0.228       0.18\n",
      "                 knife          7         16       0.53        0.5      0.592      0.355\n",
      "                 spoon          5         22      0.696      0.182      0.347      0.183\n",
      "                  bowl          9         28      0.674      0.679      0.667      0.516\n",
      "                banana          1          1          0          0      0.166     0.0446\n",
      "              sandwich          2          2      0.244      0.366      0.497      0.497\n",
      "                orange          1          4          1      0.358      0.995      0.669\n",
      "              broccoli          4         11      0.362      0.182      0.256      0.224\n",
      "                carrot          3         24      0.729      0.562      0.661      0.432\n",
      "               hot dog          1          2      0.659          1      0.828      0.795\n",
      "                 pizza          5          5      0.852          1      0.995      0.853\n",
      "                 donut          2         14       0.65          1      0.921      0.826\n",
      "                  cake          4          4       0.73          1      0.995       0.88\n",
      "                 chair          9         35      0.536      0.495      0.445       0.25\n",
      "                 couch          5          6      0.651        0.5      0.775      0.581\n",
      "          potted plant          9         14      0.687      0.643       0.71      0.495\n",
      "                   bed          3          3      0.854          1      0.995      0.731\n",
      "          dining table         10         13      0.547      0.538      0.509      0.402\n",
      "                toilet          2          2      0.635        0.5      0.828      0.796\n",
      "                    tv          2          2      0.419        0.5      0.745      0.696\n",
      "                laptop          2          3          1          0      0.598       0.48\n",
      "                 mouse          2          2          1          0     0.0678    0.00678\n",
      "                remote          5          8      0.852        0.5      0.597      0.504\n",
      "            cell phone          5          8          0          0     0.0602     0.0413\n",
      "             microwave          3          3      0.526      0.667       0.83      0.717\n",
      "                  oven          5          5      0.503        0.4      0.341      0.272\n",
      "                  sink          4          6      0.383      0.167      0.192      0.132\n",
      "          refrigerator          5          5       0.71        0.4      0.615      0.478\n",
      "                  book          6         29       0.64      0.124      0.381      0.203\n",
      "                 clock          8          9      0.786      0.821      0.894      0.738\n",
      "                  vase          2          2      0.391          1      0.828      0.795\n",
      "              scissors          1          1          1          0      0.249     0.0777\n",
      "            teddy bear          6         21          1      0.372      0.651      0.438\n",
      "            toothbrush          2          5      0.651        0.4      0.753      0.484\n",
      "Speed: 1.4ms preprocess, 64.4ms inference, 0.0ms loss, 1.7ms postprocess per image\n",
      "Results saved to \u001b[1mh:\\dev\\mit\\runs\\detect\\train2\u001b[0m\n",
      "\n",
      "Found https://ultralytics.com/images/bus.jpg locally at bus.jpg\n",
      "image 1/1 h:\\dev\\mit\\yolo\\bus.jpg: 640x480 4 persons, 1 bus, 1 stop sign, 85.2ms\n",
      "Speed: 3.4ms preprocess, 85.2ms inference, 5.0ms postprocess per image at shape (1, 3, 640, 480)\n",
      "Ultralytics 8.3.131  Python-3.12.4 torch-2.6.0+cpu CPU (12th Gen Intel Core(TM) i7-1255U)\n",
      "\n",
      "\u001b[34m\u001b[1mPyTorch:\u001b[0m starting from 'h:\\dev\\mit\\runs\\detect\\train\\weights\\best.pt' with input shape (1, 3, 640, 640) BCHW and output shape(s) (1, 84, 8400) (6.2 MB)\n",
      "\n",
      "\u001b[34m\u001b[1mTorchScript:\u001b[0m starting export with torch 2.6.0+cpu...\n",
      "\u001b[34m\u001b[1mTorchScript:\u001b[0m export success  2.7s, saved as 'h:\\dev\\mit\\runs\\detect\\train\\weights\\best.torchscript' (12.4 MB)\n",
      "\n",
      "Export complete (2.9s)\n",
      "Results saved to \u001b[1mH:\\dev\\mit\\runs\\detect\\train\\weights\u001b[0m\n",
      "Predict:         yolo predict task=detect model=h:\\dev\\mit\\runs\\detect\\train\\weights\\best.torchscript imgsz=640  \n",
      "Validate:        yolo val task=detect model=h:\\dev\\mit\\runs\\detect\\train\\weights\\best.torchscript imgsz=640 data=H:\\dev\\mit\\env\\Lib\\site-packages\\ultralytics\\cfg\\datasets\\coco128.yaml  \n",
      "Visualize:       https://netron.app\n"
     ]
    }
   ],
   "source": [
    "from ultralytics import YOLO\n",
    "\n",
    "# Load a model\n",
    "model = YOLO('yolov8n.yaml')  # build a new model from scratch\n",
    "model = YOLO('yolov8n.pt')  # load a pretrained model (recommended for training)\n",
    "\n",
    "# Use the model\n",
    "results = model.train(data='coco128.yaml', epochs=3)  # train the model\n",
    "results = model.val()  # evaluate model performance on the validation set\n",
    "results = model('https://ultralytics.com/images/bus.jpg')  # predict on an image\n",
    "success = model.export(format='torchscript')  # export the model to ONNX format"
   ]
  },
  {
   "cell_type": "markdown",
   "id": "366dcaf4",
   "metadata": {},
   "source": [
    "1. Detection\n",
    "YOLOv8 detection models have no suffix and are the default YOLOv8 models, i.e. yolov8n.pt and are pretrained on COCO. See Detection Docs for full details.\n",
    "https://docs.ultralytics.com/ja/tasks/detect/"
   ]
  },
  {
   "cell_type": "code",
   "execution_count": 8,
   "id": "6ac6ad83",
   "metadata": {},
   "outputs": [
    {
     "name": "stdout",
     "output_type": "stream",
     "text": [
      "Ultralytics 8.3.131  Python-3.12.4 torch-2.6.0+cpu CPU (12th Gen Intel Core(TM) i7-1255U)\n",
      "\u001b[34m\u001b[1mengine\\trainer: \u001b[0magnostic_nms=False, amp=True, augment=False, auto_augment=randaugment, batch=16, bgr=0.0, box=7.5, cache=False, cfg=None, classes=None, close_mosaic=10, cls=0.5, conf=None, copy_paste=0.0, copy_paste_mode=flip, cos_lr=False, cutmix=0.0, data=coco128.yaml, degrees=0.0, deterministic=True, device=cpu, dfl=1.5, dnn=False, dropout=0.0, dynamic=False, embed=None, epochs=3, erasing=0.4, exist_ok=False, fliplr=0.5, flipud=0.0, format=torchscript, fraction=1.0, freeze=None, half=False, hsv_h=0.015, hsv_s=0.7, hsv_v=0.4, imgsz=640, int8=False, iou=0.7, keras=False, kobj=1.0, line_width=None, lr0=0.01, lrf=0.01, mask_ratio=4, max_det=300, mixup=0.0, mode=train, model=yolov8n.pt, momentum=0.937, mosaic=1.0, multi_scale=False, name=train3, nbs=64, nms=False, opset=None, optimize=False, optimizer=auto, overlap_mask=True, patience=100, perspective=0.0, plots=True, pose=12.0, pretrained=True, profile=False, project=None, rect=False, resume=False, retina_masks=False, save=True, save_conf=False, save_crop=False, save_dir=h:\\dev\\mit\\runs\\detect\\train3, save_frames=False, save_json=False, save_period=-1, save_txt=False, scale=0.5, seed=0, shear=0.0, show=False, show_boxes=True, show_conf=True, show_labels=True, simplify=True, single_cls=False, source=None, split=val, stream_buffer=False, task=detect, time=None, tracker=botsort.yaml, translate=0.1, val=True, verbose=True, vid_stride=1, visualize=False, warmup_bias_lr=0.1, warmup_epochs=3.0, warmup_momentum=0.8, weight_decay=0.0005, workers=8, workspace=None\n",
      "\n",
      "                   from  n    params  module                                       arguments                     \n",
      "  0                  -1  1       464  ultralytics.nn.modules.conv.Conv             [3, 16, 3, 2]                 \n",
      "  1                  -1  1      4672  ultralytics.nn.modules.conv.Conv             [16, 32, 3, 2]                \n",
      "  2                  -1  1      7360  ultralytics.nn.modules.block.C2f             [32, 32, 1, True]             \n",
      "  3                  -1  1     18560  ultralytics.nn.modules.conv.Conv             [32, 64, 3, 2]                \n",
      "  4                  -1  2     49664  ultralytics.nn.modules.block.C2f             [64, 64, 2, True]             \n",
      "  5                  -1  1     73984  ultralytics.nn.modules.conv.Conv             [64, 128, 3, 2]               \n",
      "  6                  -1  2    197632  ultralytics.nn.modules.block.C2f             [128, 128, 2, True]           \n",
      "  7                  -1  1    295424  ultralytics.nn.modules.conv.Conv             [128, 256, 3, 2]              \n",
      "  8                  -1  1    460288  ultralytics.nn.modules.block.C2f             [256, 256, 1, True]           \n",
      "  9                  -1  1    164608  ultralytics.nn.modules.block.SPPF            [256, 256, 5]                 \n",
      " 10                  -1  1         0  torch.nn.modules.upsampling.Upsample         [None, 2, 'nearest']          \n",
      " 11             [-1, 6]  1         0  ultralytics.nn.modules.conv.Concat           [1]                           \n",
      " 12                  -1  1    148224  ultralytics.nn.modules.block.C2f             [384, 128, 1]                 \n",
      " 13                  -1  1         0  torch.nn.modules.upsampling.Upsample         [None, 2, 'nearest']          \n",
      " 14             [-1, 4]  1         0  ultralytics.nn.modules.conv.Concat           [1]                           \n",
      " 15                  -1  1     37248  ultralytics.nn.modules.block.C2f             [192, 64, 1]                  \n",
      " 16                  -1  1     36992  ultralytics.nn.modules.conv.Conv             [64, 64, 3, 2]                \n",
      " 17            [-1, 12]  1         0  ultralytics.nn.modules.conv.Concat           [1]                           \n",
      " 18                  -1  1    123648  ultralytics.nn.modules.block.C2f             [192, 128, 1]                 \n",
      " 19                  -1  1    147712  ultralytics.nn.modules.conv.Conv             [128, 128, 3, 2]              \n",
      " 20             [-1, 9]  1         0  ultralytics.nn.modules.conv.Concat           [1]                           \n",
      " 21                  -1  1    493056  ultralytics.nn.modules.block.C2f             [384, 256, 1]                 \n",
      " 22        [15, 18, 21]  1    897664  ultralytics.nn.modules.head.Detect           [80, [64, 128, 256]]          \n",
      "Model summary: 129 layers, 3,157,200 parameters, 3,157,184 gradients, 8.9 GFLOPs\n",
      "\n",
      "Transferred 355/355 items from pretrained weights\n"
     ]
    },
    {
     "name": "stderr",
     "output_type": "stream",
     "text": [
      "\u001b[1;38;5;196mCOMET ERROR:\u001b[0m Failed to create Comet experiment, reason: ValueError('Comet.ml requires an API key. Please provide as the first argument to Experiment(api_key) or as an environment variable named COMET_API_KEY ')\n"
     ]
    },
    {
     "name": "stdout",
     "output_type": "stream",
     "text": [
      "WARNING Comet installed but not initialized correctly, not logging this run. Comet.ml requires an API key. Please provide as the first argument to Experiment(api_key) or as an environment variable named COMET_API_KEY \n",
      "Freezing layer 'model.22.dfl.conv.weight'\n",
      "\u001b[34m\u001b[1mtrain: \u001b[0mFast image access  (ping: 0.00.0 ms, read: 638.3246.8 MB/s, size: 50.9 KB)\n"
     ]
    },
    {
     "name": "stderr",
     "output_type": "stream",
     "text": [
      "\u001b[34m\u001b[1mtrain: \u001b[0mScanning H:\\dev\\datasets\\coco128\\labels\\train2017.cache... 126 images, 2 backgrounds, 0 corrupt: 100%|██████████| 128/128 [00:00<?, ?it/s]"
     ]
    },
    {
     "name": "stdout",
     "output_type": "stream",
     "text": [
      "\u001b[34m\u001b[1mval: \u001b[0mFast image access  (ping: 0.00.0 ms, read: 794.3412.2 MB/s, size: 52.5 KB)\n"
     ]
    },
    {
     "name": "stderr",
     "output_type": "stream",
     "text": [
      "\n",
      "\u001b[34m\u001b[1mval: \u001b[0mScanning H:\\dev\\datasets\\coco128\\labels\\train2017.cache... 126 images, 2 backgrounds, 0 corrupt: 100%|██████████| 128/128 [00:00<?, ?it/s]"
     ]
    },
    {
     "name": "stdout",
     "output_type": "stream",
     "text": [
      "Plotting labels to h:\\dev\\mit\\runs\\detect\\train3\\labels.jpg... \n"
     ]
    },
    {
     "name": "stderr",
     "output_type": "stream",
     "text": [
      "\n"
     ]
    },
    {
     "name": "stdout",
     "output_type": "stream",
     "text": [
      "\u001b[34m\u001b[1moptimizer:\u001b[0m 'optimizer=auto' found, ignoring 'lr0=0.01' and 'momentum=0.937' and determining best 'optimizer', 'lr0' and 'momentum' automatically... \n",
      "\u001b[34m\u001b[1moptimizer:\u001b[0m AdamW(lr=0.000119, momentum=0.9) with parameter groups 57 weight(decay=0.0), 64 weight(decay=0.0005), 63 bias(decay=0.0)\n",
      "Image sizes 640 train, 640 val\n",
      "Using 0 dataloader workers\n",
      "Logging results to \u001b[1mh:\\dev\\mit\\runs\\detect\\train3\u001b[0m\n",
      "Starting training for 3 epochs...\n",
      "\n",
      "      Epoch    GPU_mem   box_loss   cls_loss   dfl_loss  Instances       Size\n"
     ]
    },
    {
     "name": "stderr",
     "output_type": "stream",
     "text": [
      "        1/3         0G      1.178      1.565      1.237        285        640: 100%|██████████| 8/8 [00:50<00:00,  6.26s/it]\n",
      "                 Class     Images  Instances      Box(P          R      mAP50  mAP50-95): 100%|██████████| 4/4 [00:16<00:00,  4.22s/it]"
     ]
    },
    {
     "name": "stdout",
     "output_type": "stream",
     "text": [
      "                   all        128        929       0.66       0.52      0.612      0.454\n"
     ]
    },
    {
     "name": "stderr",
     "output_type": "stream",
     "text": [
      "\n"
     ]
    },
    {
     "name": "stdout",
     "output_type": "stream",
     "text": [
      "\n",
      "      Epoch    GPU_mem   box_loss   cls_loss   dfl_loss  Instances       Size\n"
     ]
    },
    {
     "name": "stderr",
     "output_type": "stream",
     "text": [
      "        2/3         0G      1.189      1.383       1.26        256        640: 100%|██████████| 8/8 [00:52<00:00,  6.57s/it]\n",
      "                 Class     Images  Instances      Box(P          R      mAP50  mAP50-95): 100%|██████████| 4/4 [00:18<00:00,  4.52s/it]"
     ]
    },
    {
     "name": "stdout",
     "output_type": "stream",
     "text": [
      "                   all        128        929      0.666      0.535      0.623      0.463\n"
     ]
    },
    {
     "name": "stderr",
     "output_type": "stream",
     "text": [
      "\n"
     ]
    },
    {
     "name": "stdout",
     "output_type": "stream",
     "text": [
      "\n",
      "      Epoch    GPU_mem   box_loss   cls_loss   dfl_loss  Instances       Size\n"
     ]
    },
    {
     "name": "stderr",
     "output_type": "stream",
     "text": [
      "        3/3         0G       1.25      1.444      1.271        204        640: 100%|██████████| 8/8 [00:51<00:00,  6.45s/it]\n",
      "                 Class     Images  Instances      Box(P          R      mAP50  mAP50-95): 100%|██████████| 4/4 [00:19<00:00,  4.87s/it]"
     ]
    },
    {
     "name": "stdout",
     "output_type": "stream",
     "text": [
      "                   all        128        929      0.671       0.54      0.627      0.469\n"
     ]
    },
    {
     "name": "stderr",
     "output_type": "stream",
     "text": [
      "\n"
     ]
    },
    {
     "name": "stdout",
     "output_type": "stream",
     "text": [
      "\n",
      "3 epochs completed in 0.060 hours.\n",
      "Optimizer stripped from h:\\dev\\mit\\runs\\detect\\train3\\weights\\last.pt, 6.5MB\n",
      "Optimizer stripped from h:\\dev\\mit\\runs\\detect\\train3\\weights\\best.pt, 6.5MB\n",
      "\n",
      "Validating h:\\dev\\mit\\runs\\detect\\train3\\weights\\best.pt...\n",
      "Ultralytics 8.3.131  Python-3.12.4 torch-2.6.0+cpu CPU (12th Gen Intel Core(TM) i7-1255U)\n",
      "Model summary (fused): 72 layers, 3,151,904 parameters, 0 gradients, 8.7 GFLOPs\n"
     ]
    },
    {
     "name": "stderr",
     "output_type": "stream",
     "text": [
      "                 Class     Images  Instances      Box(P          R      mAP50  mAP50-95): 100%|██████████| 4/4 [00:12<00:00,  3.16s/it]\n"
     ]
    },
    {
     "name": "stdout",
     "output_type": "stream",
     "text": [
      "                   all        128        929       0.67      0.541      0.628       0.47\n",
      "                person         61        254      0.822      0.673      0.774      0.544\n",
      "               bicycle          3          6      0.515      0.333      0.339       0.29\n",
      "                   car         12         46      0.745      0.217      0.289      0.188\n",
      "            motorcycle          4          5      0.677      0.843      0.938      0.742\n",
      "              airplane          5          6      0.841      0.889      0.948      0.716\n",
      "                   bus          5          7      0.663      0.714      0.731      0.663\n",
      "                 train          3          3      0.543      0.667      0.755      0.621\n",
      "                 truck          5         12          1      0.405      0.507      0.302\n",
      "                  boat          2          6      0.454      0.288      0.399      0.284\n",
      "         traffic light          4         14      0.728      0.196      0.201      0.138\n",
      "             stop sign          2          2      0.877          1      0.995      0.718\n",
      "                 bench          5          9      0.823      0.522      0.631      0.385\n",
      "                  bird          2         16      0.921      0.733      0.904      0.573\n",
      "                   cat          4          4       0.97          1      0.995      0.818\n",
      "                   dog          9          9      0.644      0.889      0.852      0.606\n",
      "                 horse          1          2      0.632          1      0.995      0.497\n",
      "              elephant          4         17      0.871      0.795      0.915      0.668\n",
      "                  bear          1          1      0.624          1      0.995      0.995\n",
      "                 zebra          2          4      0.859          1      0.995      0.965\n",
      "               giraffe          4          9       0.81          1      0.951      0.752\n",
      "              backpack          4          6      0.641      0.333      0.395      0.251\n",
      "              umbrella          4         18      0.781        0.5      0.659      0.433\n",
      "               handbag          9         19      0.461     0.0485      0.197      0.107\n",
      "                   tie          6          7      0.828       0.69      0.675      0.494\n",
      "              suitcase          2          4      0.632      0.872      0.828      0.592\n",
      "               frisbee          5          5      0.618        0.8      0.759      0.679\n",
      "                  skis          1          1      0.495          1      0.995      0.517\n",
      "             snowboard          2          7      0.805      0.714      0.688      0.477\n",
      "           sports ball          6          6      0.706      0.413      0.514      0.296\n",
      "                  kite          2         10      0.736        0.4      0.547      0.199\n",
      "          baseball bat          4          4      0.627       0.25      0.353      0.199\n",
      "        baseball glove          4          7      0.673      0.429       0.43      0.295\n",
      "            skateboard          3          5      0.801        0.6      0.599      0.438\n",
      "         tennis racket          5          7      0.665      0.568       0.49      0.347\n",
      "                bottle          6         18      0.535      0.384      0.367      0.207\n",
      "            wine glass          5         16      0.624      0.562      0.577      0.353\n",
      "                   cup         10         36      0.563      0.278      0.421      0.299\n",
      "                  fork          6          6      0.579      0.167      0.237      0.187\n",
      "                 knife          7         16      0.558        0.5      0.592      0.355\n",
      "                 spoon          5         22      0.693      0.182      0.338      0.191\n",
      "                  bowl          9         28      0.698      0.679      0.672      0.519\n",
      "                banana          1          1          0          0      0.166     0.0446\n",
      "              sandwich          2          2          0          0      0.497      0.497\n",
      "                orange          1          4          1       0.36      0.995      0.669\n",
      "              broccoli          4         11      0.357      0.182      0.256       0.21\n",
      "                carrot          3         24      0.731      0.567      0.661      0.432\n",
      "               hot dog          1          2      0.656          1      0.828      0.795\n",
      "                 pizza          5          5      0.851          1      0.995      0.853\n",
      "                 donut          2         14      0.642          1      0.909      0.814\n",
      "                  cake          4          4      0.801          1      0.995       0.88\n",
      "                 chair          9         35      0.525      0.486      0.449      0.253\n",
      "                 couch          5          6       0.73       0.46      0.693      0.522\n",
      "          potted plant          9         14      0.806      0.643      0.742      0.501\n",
      "                   bed          3          3      0.774      0.667      0.863      0.699\n",
      "          dining table         10         13      0.539      0.615      0.529      0.415\n",
      "                toilet          2          2      0.634        0.5      0.828      0.796\n",
      "                    tv          2          2      0.358        0.5      0.695      0.656\n",
      "                laptop          2          3          1          0      0.631      0.554\n",
      "                 mouse          2          2          1          0     0.0473    0.00473\n",
      "                remote          5          8      0.834        0.5      0.562       0.48\n",
      "            cell phone          5          8          0          0     0.0526     0.0345\n",
      "             microwave          3          3       0.52      0.667       0.83      0.717\n",
      "                  oven          5          5      0.503        0.4      0.341      0.272\n",
      "                  sink          4          6      0.382      0.167      0.192      0.132\n",
      "          refrigerator          5          5      0.709        0.4      0.644        0.5\n",
      "                  book          6         29      0.654      0.131      0.416        0.2\n",
      "                 clock          8          9      0.787      0.822      0.892      0.737\n",
      "                  vase          2          2      0.328          1      0.828      0.795\n",
      "              scissors          1          1          1          0      0.199     0.0628\n",
      "            teddy bear          6         21      0.967      0.381      0.672      0.431\n",
      "            toothbrush          2          5      0.743        0.4      0.762      0.504\n",
      "Speed: 2.2ms preprocess, 87.6ms inference, 0.0ms loss, 2.2ms postprocess per image\n",
      "Results saved to \u001b[1mh:\\dev\\mit\\runs\\detect\\train3\u001b[0m\n",
      "\n",
      "Found https://ultralytics.com/images/bus.jpg locally at bus.jpg\n",
      "image 1/1 h:\\dev\\mit\\yolo\\bus.jpg: 640x480 4 persons, 1 bus, 1 stop sign, 171.9ms\n",
      "Speed: 4.9ms preprocess, 171.9ms inference, 2.1ms postprocess per image at shape (1, 3, 640, 480)\n"
     ]
    },
    {
     "data": {
      "text/plain": [
       "[ultralytics.engine.results.Results object with attributes:\n",
       " \n",
       " boxes: ultralytics.engine.results.Boxes object\n",
       " keypoints: None\n",
       " masks: None\n",
       " names: {0: 'person', 1: 'bicycle', 2: 'car', 3: 'motorcycle', 4: 'airplane', 5: 'bus', 6: 'train', 7: 'truck', 8: 'boat', 9: 'traffic light', 10: 'fire hydrant', 11: 'stop sign', 12: 'parking meter', 13: 'bench', 14: 'bird', 15: 'cat', 16: 'dog', 17: 'horse', 18: 'sheep', 19: 'cow', 20: 'elephant', 21: 'bear', 22: 'zebra', 23: 'giraffe', 24: 'backpack', 25: 'umbrella', 26: 'handbag', 27: 'tie', 28: 'suitcase', 29: 'frisbee', 30: 'skis', 31: 'snowboard', 32: 'sports ball', 33: 'kite', 34: 'baseball bat', 35: 'baseball glove', 36: 'skateboard', 37: 'surfboard', 38: 'tennis racket', 39: 'bottle', 40: 'wine glass', 41: 'cup', 42: 'fork', 43: 'knife', 44: 'spoon', 45: 'bowl', 46: 'banana', 47: 'apple', 48: 'sandwich', 49: 'orange', 50: 'broccoli', 51: 'carrot', 52: 'hot dog', 53: 'pizza', 54: 'donut', 55: 'cake', 56: 'chair', 57: 'couch', 58: 'potted plant', 59: 'bed', 60: 'dining table', 61: 'toilet', 62: 'tv', 63: 'laptop', 64: 'mouse', 65: 'remote', 66: 'keyboard', 67: 'cell phone', 68: 'microwave', 69: 'oven', 70: 'toaster', 71: 'sink', 72: 'refrigerator', 73: 'book', 74: 'clock', 75: 'vase', 76: 'scissors', 77: 'teddy bear', 78: 'hair drier', 79: 'toothbrush'}\n",
       " obb: None\n",
       " orig_img: array([[[119, 146, 172],\n",
       "         [121, 148, 174],\n",
       "         [122, 152, 177],\n",
       "         ...,\n",
       "         [161, 171, 188],\n",
       "         [160, 170, 187],\n",
       "         [160, 170, 187]],\n",
       " \n",
       "        [[120, 147, 173],\n",
       "         [122, 149, 175],\n",
       "         [123, 153, 178],\n",
       "         ...,\n",
       "         [161, 171, 188],\n",
       "         [160, 170, 187],\n",
       "         [160, 170, 187]],\n",
       " \n",
       "        [[123, 150, 176],\n",
       "         [124, 151, 177],\n",
       "         [125, 155, 180],\n",
       "         ...,\n",
       "         [161, 171, 188],\n",
       "         [160, 170, 187],\n",
       "         [160, 170, 187]],\n",
       " \n",
       "        ...,\n",
       " \n",
       "        [[183, 182, 186],\n",
       "         [179, 178, 182],\n",
       "         [180, 179, 183],\n",
       "         ...,\n",
       "         [121, 111, 117],\n",
       "         [113, 103, 109],\n",
       "         [115, 105, 111]],\n",
       " \n",
       "        [[165, 164, 168],\n",
       "         [173, 172, 176],\n",
       "         [187, 186, 190],\n",
       "         ...,\n",
       "         [102,  92,  98],\n",
       "         [101,  91,  97],\n",
       "         [103,  93,  99]],\n",
       " \n",
       "        [[123, 122, 126],\n",
       "         [145, 144, 148],\n",
       "         [176, 175, 179],\n",
       "         ...,\n",
       "         [ 95,  85,  91],\n",
       "         [ 96,  86,  92],\n",
       "         [ 98,  88,  94]]], dtype=uint8)\n",
       " orig_shape: (1080, 810)\n",
       " path: 'h:\\\\dev\\\\mit\\\\yolo\\\\bus.jpg'\n",
       " probs: None\n",
       " save_dir: 'h:\\\\dev\\\\mit\\\\runs\\\\detect\\\\train32'\n",
       " speed: {'preprocess': 4.878500010818243, 'inference': 171.93269997369498, 'postprocess': 2.0952000049874187}]"
      ]
     },
     "execution_count": 8,
     "metadata": {},
     "output_type": "execute_result"
    }
   ],
   "source": [
    "# Load YOLOv8n, train it on COCO128 for 3 epochs and predict an image with it\n",
    "from ultralytics import YOLO\n",
    "\n",
    "model = YOLO('yolov8n.pt')  # load a pretrained YOLOv8n detection model\n",
    "model.train(data='coco128.yaml', epochs=3)  # train the model\n",
    "model('https://ultralytics.com/images/bus.jpg')  # predict on an image"
   ]
  },
  {
   "cell_type": "markdown",
   "id": "f5cf5ce8",
   "metadata": {},
   "source": [
    "2. Segmentation\n",
    "YOLOv8 segmentation models use the -seg suffix, i.e. yolov8n-seg.pt and are pretrained on COCO. See Segmentation Docs for full details.\n",
    "https://docs.ultralytics.com/ja/tasks/segment/"
   ]
  },
  {
   "cell_type": "code",
   "execution_count": 9,
   "id": "1b354df2",
   "metadata": {},
   "outputs": [
    {
     "name": "stdout",
     "output_type": "stream",
     "text": [
      "Downloading https://github.com/ultralytics/assets/releases/download/v8.3.0/yolov8n-seg.pt to 'yolov8n-seg.pt'...\n"
     ]
    },
    {
     "name": "stderr",
     "output_type": "stream",
     "text": [
      "100%|██████████| 6.74M/6.74M [00:00<00:00, 13.4MB/s]\n"
     ]
    },
    {
     "name": "stdout",
     "output_type": "stream",
     "text": [
      "Ultralytics 8.3.131  Python-3.12.4 torch-2.6.0+cpu CPU (12th Gen Intel Core(TM) i7-1255U)\n",
      "\u001b[34m\u001b[1mengine\\trainer: \u001b[0magnostic_nms=False, amp=True, augment=False, auto_augment=randaugment, batch=16, bgr=0.0, box=7.5, cache=False, cfg=None, classes=None, close_mosaic=10, cls=0.5, conf=None, copy_paste=0.0, copy_paste_mode=flip, cos_lr=False, cutmix=0.0, data=coco128-seg.yaml, degrees=0.0, deterministic=True, device=cpu, dfl=1.5, dnn=False, dropout=0.0, dynamic=False, embed=None, epochs=3, erasing=0.4, exist_ok=False, fliplr=0.5, flipud=0.0, format=torchscript, fraction=1.0, freeze=None, half=False, hsv_h=0.015, hsv_s=0.7, hsv_v=0.4, imgsz=640, int8=False, iou=0.7, keras=False, kobj=1.0, line_width=None, lr0=0.01, lrf=0.01, mask_ratio=4, max_det=300, mixup=0.0, mode=train, model=yolov8n-seg.pt, momentum=0.937, mosaic=1.0, multi_scale=False, name=train, nbs=64, nms=False, opset=None, optimize=False, optimizer=auto, overlap_mask=True, patience=100, perspective=0.0, plots=True, pose=12.0, pretrained=True, profile=False, project=None, rect=False, resume=False, retina_masks=False, save=True, save_conf=False, save_crop=False, save_dir=h:\\dev\\mit\\runs\\segment\\train, save_frames=False, save_json=False, save_period=-1, save_txt=False, scale=0.5, seed=0, shear=0.0, show=False, show_boxes=True, show_conf=True, show_labels=True, simplify=True, single_cls=False, source=None, split=val, stream_buffer=False, task=segment, time=None, tracker=botsort.yaml, translate=0.1, val=True, verbose=True, vid_stride=1, visualize=False, warmup_bias_lr=0.1, warmup_epochs=3.0, warmup_momentum=0.8, weight_decay=0.0005, workers=8, workspace=None\n",
      "\n",
      "WARNING Dataset 'coco128-seg.yaml' images not found, missing path 'H:\\dev\\datasets\\coco128-seg\\images\\train2017'\n",
      "Downloading https://ultralytics.com/assets/coco128-seg.zip to 'H:\\dev\\datasets\\coco128-seg.zip'...\n"
     ]
    },
    {
     "name": "stderr",
     "output_type": "stream",
     "text": [
      "100%|██████████| 6.79M/6.79M [00:00<00:00, 13.1MB/s]\n",
      "Unzipping H:\\dev\\datasets\\coco128-seg.zip to H:\\dev\\datasets\\coco128-seg...: 100%|██████████| 263/263 [00:01<00:00, 169.84file/s]"
     ]
    },
    {
     "name": "stdout",
     "output_type": "stream",
     "text": [
      "Dataset download success  (3.6s), saved to \u001b[1mH:\\dev\\datasets\u001b[0m\n",
      "\n",
      "\n",
      "                   from  n    params  module                                       arguments                     \n",
      "  0                  -1  1       464  ultralytics.nn.modules.conv.Conv             [3, 16, 3, 2]                 \n",
      "  1                  -1  1      4672  ultralytics.nn.modules.conv.Conv             [16, 32, 3, 2]                \n",
      "  2                  -1  1      7360  ultralytics.nn.modules.block.C2f             [32, 32, 1, True]             \n",
      "  3                  -1  1     18560  ultralytics.nn.modules.conv.Conv             [32, 64, 3, 2]                \n",
      "  4                  -1  2     49664  ultralytics.nn.modules.block.C2f             [64, 64, 2, True]             \n",
      "  5                  -1  1     73984  ultralytics.nn.modules.conv.Conv             [64, 128, 3, 2]               \n",
      "  6                  -1  2    197632  ultralytics.nn.modules.block.C2f             [128, 128, 2, True]           \n",
      "  7                  -1  1    295424  ultralytics.nn.modules.conv.Conv             [128, 256, 3, 2]              \n",
      "  8                  -1  1    460288  ultralytics.nn.modules.block.C2f             [256, 256, 1, True]           \n"
     ]
    },
    {
     "name": "stderr",
     "output_type": "stream",
     "text": [
      "\n"
     ]
    },
    {
     "name": "stdout",
     "output_type": "stream",
     "text": [
      "  9                  -1  1    164608  ultralytics.nn.modules.block.SPPF            [256, 256, 5]                 \n",
      " 10                  -1  1         0  torch.nn.modules.upsampling.Upsample         [None, 2, 'nearest']          \n",
      " 11             [-1, 6]  1         0  ultralytics.nn.modules.conv.Concat           [1]                           \n",
      " 12                  -1  1    148224  ultralytics.nn.modules.block.C2f             [384, 128, 1]                 \n",
      " 13                  -1  1         0  torch.nn.modules.upsampling.Upsample         [None, 2, 'nearest']          \n",
      " 14             [-1, 4]  1         0  ultralytics.nn.modules.conv.Concat           [1]                           \n",
      " 15                  -1  1     37248  ultralytics.nn.modules.block.C2f             [192, 64, 1]                  \n",
      " 16                  -1  1     36992  ultralytics.nn.modules.conv.Conv             [64, 64, 3, 2]                \n",
      " 17            [-1, 12]  1         0  ultralytics.nn.modules.conv.Concat           [1]                           \n",
      " 18                  -1  1    123648  ultralytics.nn.modules.block.C2f             [192, 128, 1]                 \n",
      " 19                  -1  1    147712  ultralytics.nn.modules.conv.Conv             [128, 128, 3, 2]              \n",
      " 20             [-1, 9]  1         0  ultralytics.nn.modules.conv.Concat           [1]                           \n",
      " 21                  -1  1    493056  ultralytics.nn.modules.block.C2f             [384, 256, 1]                 \n",
      " 22        [15, 18, 21]  1   1150432  ultralytics.nn.modules.head.Segment          [80, 32, 64, [64, 128, 256]]  \n",
      "YOLOv8n-seg summary: 151 layers, 3,409,968 parameters, 3,409,952 gradients, 12.8 GFLOPs\n",
      "\n",
      "Transferred 417/417 items from pretrained weights\n"
     ]
    },
    {
     "name": "stderr",
     "output_type": "stream",
     "text": [
      "\u001b[1;38;5;196mCOMET ERROR:\u001b[0m Failed to create Comet experiment, reason: ValueError('Comet.ml requires an API key. Please provide as the first argument to Experiment(api_key) or as an environment variable named COMET_API_KEY ')\n"
     ]
    },
    {
     "name": "stdout",
     "output_type": "stream",
     "text": [
      "WARNING Comet installed but not initialized correctly, not logging this run. Comet.ml requires an API key. Please provide as the first argument to Experiment(api_key) or as an environment variable named COMET_API_KEY \n",
      "Freezing layer 'model.22.dfl.conv.weight'\n",
      "\u001b[34m\u001b[1mtrain: \u001b[0mFast image access  (ping: 0.10.0 ms, read: 3.22.4 MB/s, size: 50.9 KB)\n"
     ]
    },
    {
     "name": "stderr",
     "output_type": "stream",
     "text": [
      "\u001b[34m\u001b[1mtrain: \u001b[0mScanning H:\\dev\\datasets\\coco128-seg\\labels\\train2017... 126 images, 2 backgrounds, 0 corrupt: 100%|██████████| 128/128 [00:00<00:00, 190.72it/s]"
     ]
    },
    {
     "name": "stdout",
     "output_type": "stream",
     "text": [
      "\u001b[34m\u001b[1mtrain: \u001b[0mNew cache created: H:\\dev\\datasets\\coco128-seg\\labels\\train2017.cache\n",
      "\u001b[34m\u001b[1mval: \u001b[0mFast image access  (ping: 0.00.0 ms, read: 718.4374.2 MB/s, size: 52.5 KB)\n"
     ]
    },
    {
     "name": "stderr",
     "output_type": "stream",
     "text": [
      "\n",
      "\u001b[34m\u001b[1mval: \u001b[0mScanning H:\\dev\\datasets\\coco128-seg\\labels\\train2017.cache... 126 images, 2 backgrounds, 0 corrupt: 100%|██████████| 128/128 [00:00<?, ?it/s]"
     ]
    },
    {
     "name": "stdout",
     "output_type": "stream",
     "text": [
      "Plotting labels to h:\\dev\\mit\\runs\\segment\\train\\labels.jpg... \n"
     ]
    },
    {
     "name": "stderr",
     "output_type": "stream",
     "text": [
      "\n"
     ]
    },
    {
     "name": "stdout",
     "output_type": "stream",
     "text": [
      "\u001b[34m\u001b[1moptimizer:\u001b[0m 'optimizer=auto' found, ignoring 'lr0=0.01' and 'momentum=0.937' and determining best 'optimizer', 'lr0' and 'momentum' automatically... \n",
      "\u001b[34m\u001b[1moptimizer:\u001b[0m AdamW(lr=0.000119, momentum=0.9) with parameter groups 66 weight(decay=0.0), 77 weight(decay=0.0005), 76 bias(decay=0.0)\n",
      "Image sizes 640 train, 640 val\n",
      "Using 0 dataloader workers\n",
      "Logging results to \u001b[1mh:\\dev\\mit\\runs\\segment\\train\u001b[0m\n",
      "Starting training for 3 epochs...\n",
      "\n",
      "      Epoch    GPU_mem   box_loss   seg_loss   cls_loss   dfl_loss  Instances       Size\n"
     ]
    },
    {
     "name": "stderr",
     "output_type": "stream",
     "text": [
      "        1/3         0G        1.1      2.592      1.551      1.153        290        640: 100%|██████████| 8/8 [01:20<00:00, 10.00s/it]\n",
      "                 Class     Images  Instances      Box(P          R      mAP50  mAP50-95)     Mask(P          R      mAP50  mAP50-95): 100%|██████████| 4/4 [00:30<00:00,  7.60s/it]"
     ]
    },
    {
     "name": "stdout",
     "output_type": "stream",
     "text": [
      "                   all        128        929      0.587      0.564      0.599      0.441       0.55      0.545      0.553      0.367\n"
     ]
    },
    {
     "name": "stderr",
     "output_type": "stream",
     "text": [
      "\n"
     ]
    },
    {
     "name": "stdout",
     "output_type": "stream",
     "text": [
      "\n",
      "      Epoch    GPU_mem   box_loss   seg_loss   cls_loss   dfl_loss  Instances       Size\n"
     ]
    },
    {
     "name": "stderr",
     "output_type": "stream",
     "text": [
      "        2/3         0G      1.097      2.617      1.353      1.168        258        640: 100%|██████████| 8/8 [01:24<00:00, 10.57s/it]\n",
      "                 Class     Images  Instances      Box(P          R      mAP50  mAP50-95)     Mask(P          R      mAP50  mAP50-95): 100%|██████████| 4/4 [00:27<00:00,  6.94s/it]\n"
     ]
    },
    {
     "name": "stdout",
     "output_type": "stream",
     "text": [
      "                   all        128        929      0.611      0.569      0.611      0.458      0.581      0.537       0.57      0.378\n",
      "\n",
      "      Epoch    GPU_mem   box_loss   seg_loss   cls_loss   dfl_loss  Instances       Size\n"
     ]
    },
    {
     "name": "stderr",
     "output_type": "stream",
     "text": [
      "        3/3         0G      1.124      2.624      1.414      1.154        208        640: 100%|██████████| 8/8 [01:19<00:00,  9.89s/it]\n",
      "                 Class     Images  Instances      Box(P          R      mAP50  mAP50-95)     Mask(P          R      mAP50  mAP50-95): 100%|██████████| 4/4 [00:35<00:00,  8.94s/it]"
     ]
    },
    {
     "name": "stdout",
     "output_type": "stream",
     "text": [
      "                   all        128        929      0.621      0.564      0.617      0.462      0.594      0.532      0.574      0.382\n"
     ]
    },
    {
     "name": "stderr",
     "output_type": "stream",
     "text": [
      "\n"
     ]
    },
    {
     "name": "stdout",
     "output_type": "stream",
     "text": [
      "\n",
      "3 epochs completed in 0.097 hours.\n",
      "Optimizer stripped from h:\\dev\\mit\\runs\\segment\\train\\weights\\last.pt, 7.1MB\n",
      "Optimizer stripped from h:\\dev\\mit\\runs\\segment\\train\\weights\\best.pt, 7.1MB\n",
      "\n",
      "Validating h:\\dev\\mit\\runs\\segment\\train\\weights\\best.pt...\n",
      "Ultralytics 8.3.131  Python-3.12.4 torch-2.6.0+cpu CPU (12th Gen Intel Core(TM) i7-1255U)\n",
      "YOLOv8n-seg summary (fused): 85 layers, 3,404,320 parameters, 0 gradients, 12.6 GFLOPs\n"
     ]
    },
    {
     "name": "stderr",
     "output_type": "stream",
     "text": [
      "                 Class     Images  Instances      Box(P          R      mAP50  mAP50-95)     Mask(P          R      mAP50  mAP50-95):   0%|          | 0/4 [00:00<?, ?it/s]"
     ]
    },
    {
     "name": "stdout",
     "output_type": "stream",
     "text": [
      "WARNING Limiting validation plots to first 50 items per image for speed...\n",
      "WARNING Limiting validation plots to first 50 items per image for speed...\n",
      "WARNING Limiting validation plots to first 50 items per image for speed...\n",
      "WARNING Limiting validation plots to first 50 items per image for speed...\n",
      "WARNING Limiting validation plots to first 50 items per image for speed...\n",
      "WARNING Limiting validation plots to first 50 items per image for speed...\n",
      "WARNING Limiting validation plots to first 50 items per image for speed...\n",
      "WARNING Limiting validation plots to first 50 items per image for speed...\n",
      "WARNING Limiting validation plots to first 50 items per image for speed...\n",
      "WARNING Limiting validation plots to first 50 items per image for speed...\n",
      "WARNING Limiting validation plots to first 50 items per image for speed...\n",
      "WARNING Limiting validation plots to first 50 items per image for speed...\n",
      "WARNING Limiting validation plots to first 50 items per image for speed...\n",
      "WARNING Limiting validation plots to first 50 items per image for speed...\n",
      "WARNING Limiting validation plots to first 50 items per image for speed...\n",
      "WARNING Limiting validation plots to first 50 items per image for speed...\n",
      "WARNING Limiting validation plots to first 50 items per image for speed...\n",
      "WARNING Limiting validation plots to first 50 items per image for speed...\n",
      "WARNING Limiting validation plots to first 50 items per image for speed...\n",
      "WARNING Limiting validation plots to first 50 items per image for speed...\n",
      "WARNING Limiting validation plots to first 50 items per image for speed...\n",
      "WARNING Limiting validation plots to first 50 items per image for speed...\n",
      "WARNING Limiting validation plots to first 50 items per image for speed...\n",
      "WARNING Limiting validation plots to first 50 items per image for speed...\n",
      "WARNING Limiting validation plots to first 50 items per image for speed...\n",
      "WARNING Limiting validation plots to first 50 items per image for speed...\n",
      "WARNING Limiting validation plots to first 50 items per image for speed...\n"
     ]
    },
    {
     "name": "stderr",
     "output_type": "stream",
     "text": [
      "                 Class     Images  Instances      Box(P          R      mAP50  mAP50-95)     Mask(P          R      mAP50  mAP50-95):  25%|██▌       | 1/4 [00:06<00:20,  6.67s/it]"
     ]
    },
    {
     "name": "stdout",
     "output_type": "stream",
     "text": [
      "WARNING Limiting validation plots to first 50 items per image for speed...\n",
      "WARNING Limiting validation plots to first 50 items per image for speed...\n",
      "WARNING Limiting validation plots to first 50 items per image for speed...\n",
      "WARNING Limiting validation plots to first 50 items per image for speed...\n",
      "WARNING Limiting validation plots to first 50 items per image for speed...\n",
      "WARNING Limiting validation plots to first 50 items per image for speed...\n",
      "WARNING Limiting validation plots to first 50 items per image for speed...\n",
      "WARNING Limiting validation plots to first 50 items per image for speed...\n",
      "WARNING Limiting validation plots to first 50 items per image for speed...\n",
      "WARNING Limiting validation plots to first 50 items per image for speed...\n",
      "WARNING Limiting validation plots to first 50 items per image for speed...\n",
      "WARNING Limiting validation plots to first 50 items per image for speed...\n",
      "WARNING Limiting validation plots to first 50 items per image for speed...\n",
      "WARNING Limiting validation plots to first 50 items per image for speed...\n",
      "WARNING Limiting validation plots to first 50 items per image for speed...\n",
      "WARNING Limiting validation plots to first 50 items per image for speed...\n",
      "WARNING Limiting validation plots to first 50 items per image for speed...\n",
      "WARNING Limiting validation plots to first 50 items per image for speed...\n",
      "WARNING Limiting validation plots to first 50 items per image for speed...\n",
      "WARNING Limiting validation plots to first 50 items per image for speed...\n",
      "WARNING Limiting validation plots to first 50 items per image for speed...\n",
      "WARNING Limiting validation plots to first 50 items per image for speed...\n",
      "WARNING Limiting validation plots to first 50 items per image for speed...\n",
      "WARNING Limiting validation plots to first 50 items per image for speed...\n",
      "WARNING Limiting validation plots to first 50 items per image for speed...\n",
      "WARNING Limiting validation plots to first 50 items per image for speed...\n",
      "WARNING Limiting validation plots to first 50 items per image for speed...\n",
      "WARNING Limiting validation plots to first 50 items per image for speed...\n"
     ]
    },
    {
     "name": "stderr",
     "output_type": "stream",
     "text": [
      "                 Class     Images  Instances      Box(P          R      mAP50  mAP50-95)     Mask(P          R      mAP50  mAP50-95):  50%|█████     | 2/4 [00:14<00:14,  7.44s/it]"
     ]
    },
    {
     "name": "stdout",
     "output_type": "stream",
     "text": [
      "WARNING Limiting validation plots to first 50 items per image for speed...\n",
      "WARNING Limiting validation plots to first 50 items per image for speed...\n",
      "WARNING Limiting validation plots to first 50 items per image for speed...\n",
      "WARNING Limiting validation plots to first 50 items per image for speed...\n",
      "WARNING Limiting validation plots to first 50 items per image for speed...\n",
      "WARNING Limiting validation plots to first 50 items per image for speed...\n",
      "WARNING Limiting validation plots to first 50 items per image for speed...\n",
      "WARNING Limiting validation plots to first 50 items per image for speed...\n",
      "WARNING Limiting validation plots to first 50 items per image for speed...\n",
      "WARNING Limiting validation plots to first 50 items per image for speed...\n",
      "WARNING Limiting validation plots to first 50 items per image for speed...\n",
      "WARNING Limiting validation plots to first 50 items per image for speed...\n",
      "WARNING Limiting validation plots to first 50 items per image for speed...\n",
      "WARNING Limiting validation plots to first 50 items per image for speed...\n",
      "WARNING Limiting validation plots to first 50 items per image for speed...\n",
      "WARNING Limiting validation plots to first 50 items per image for speed...\n",
      "WARNING Limiting validation plots to first 50 items per image for speed...\n",
      "WARNING Limiting validation plots to first 50 items per image for speed...\n",
      "WARNING Limiting validation plots to first 50 items per image for speed...\n",
      "WARNING Limiting validation plots to first 50 items per image for speed...\n",
      "WARNING Limiting validation plots to first 50 items per image for speed...\n",
      "WARNING Limiting validation plots to first 50 items per image for speed...\n",
      "WARNING Limiting validation plots to first 50 items per image for speed...\n",
      "WARNING Limiting validation plots to first 50 items per image for speed...\n",
      "WARNING Limiting validation plots to first 50 items per image for speed...\n",
      "WARNING Limiting validation plots to first 50 items per image for speed...\n",
      "WARNING Limiting validation plots to first 50 items per image for speed...\n",
      "WARNING Limiting validation plots to first 50 items per image for speed...\n",
      "WARNING Limiting validation plots to first 50 items per image for speed...\n",
      "WARNING Limiting validation plots to first 50 items per image for speed...\n",
      "WARNING Limiting validation plots to first 50 items per image for speed...\n"
     ]
    },
    {
     "name": "stderr",
     "output_type": "stream",
     "text": [
      "                 Class     Images  Instances      Box(P          R      mAP50  mAP50-95)     Mask(P          R      mAP50  mAP50-95): 100%|██████████| 4/4 [00:28<00:00,  7.24s/it]\n"
     ]
    },
    {
     "name": "stdout",
     "output_type": "stream",
     "text": [
      "                   all        128        929      0.621      0.564      0.617      0.462      0.595      0.532      0.574      0.382\n",
      "                person         61        254      0.819      0.685      0.783      0.557      0.785      0.645      0.739      0.404\n",
      "               bicycle          3          6      0.359      0.167      0.372      0.227      0.394      0.167      0.336      0.195\n",
      "                   car         12         46      0.563      0.174      0.243      0.145      0.493      0.148      0.203     0.0902\n",
      "            motorcycle          4          5      0.741        0.8      0.898      0.768      0.752        0.8      0.898      0.536\n",
      "              airplane          5          6      0.732      0.918      0.927      0.751      0.597      0.748       0.84      0.576\n",
      "                   bus          5          7      0.586      0.714       0.72      0.643      0.589      0.714       0.72      0.592\n",
      "                 train          3          3       0.43      0.667       0.83      0.731      0.432      0.667       0.83      0.626\n",
      "                 truck          5         12      0.965      0.333      0.513      0.303       0.98      0.333      0.538      0.265\n",
      "                  boat          2          6       0.52      0.333      0.469      0.321      0.543      0.333      0.363      0.137\n",
      "         traffic light          4         14      0.681      0.214      0.238      0.149      0.459      0.143      0.169      0.149\n",
      "             stop sign          2          2          1      0.911      0.995      0.747          1      0.907      0.995      0.796\n",
      "                 bench          5          9      0.586      0.317      0.525      0.233      0.374      0.203      0.302      0.112\n",
      "                  bird          2         16      0.932      0.851      0.961      0.698       0.93      0.837      0.961      0.505\n",
      "                   cat          4          4      0.823          1      0.995       0.89      0.827          1      0.995      0.846\n",
      "                   dog          9          9      0.591      0.667      0.818      0.616      0.595      0.667      0.759      0.528\n",
      "                 horse          1          2      0.456          1      0.995      0.596       0.23        0.5      0.497      0.199\n",
      "              elephant          4         17      0.897      0.824      0.907      0.722      0.899      0.824      0.878      0.602\n",
      "                  bear          1          1      0.638          1      0.995      0.995      0.642          1      0.995      0.995\n",
      "                 zebra          2          4      0.841          1      0.995      0.971      0.843          1      0.995      0.822\n",
      "               giraffe          4          9      0.869          1      0.995      0.701        0.8      0.889      0.852      0.489\n",
      "              backpack          4          6      0.704      0.408      0.601      0.349        0.7      0.399      0.457      0.325\n",
      "              umbrella          4         18      0.696      0.638      0.756      0.478      0.498      0.444      0.463      0.224\n",
      "               handbag          9         19       0.82      0.105      0.254      0.175      0.845      0.105      0.203       0.13\n",
      "                   tie          6          7      0.799      0.568      0.627      0.431      0.798      0.565      0.627      0.364\n",
      "              suitcase          2          4      0.621       0.75      0.912      0.729      0.631       0.75      0.912      0.625\n",
      "               frisbee          5          5      0.501      0.603      0.663      0.599      0.506        0.6      0.663      0.434\n",
      "                  skis          1          1      0.479          1      0.995      0.597      0.484          1      0.995      0.298\n",
      "             snowboard          2          7      0.844      0.714      0.734      0.563       0.51      0.429       0.36      0.201\n",
      "           sports ball          6          6      0.689      0.378      0.438      0.269      0.368      0.202       0.27      0.205\n",
      "                  kite          2         10      0.647        0.3      0.372       0.18      0.656        0.3      0.326      0.151\n",
      "          baseball bat          4          4       0.31       0.25      0.274      0.068      0.368      0.301      0.471      0.153\n",
      "        baseball glove          4          7      0.647      0.429      0.429      0.268      0.653      0.429      0.429      0.305\n",
      "            skateboard          3          5      0.538        0.2      0.274      0.193      0.548        0.2       0.29       0.17\n",
      "         tennis racket          5          7      0.554      0.429       0.46      0.263      0.566      0.429       0.46      0.288\n",
      "                bottle          6         18      0.427      0.333      0.331      0.177      0.439      0.333      0.332      0.179\n",
      "            wine glass          5         16      0.658      0.721      0.746       0.37      0.461        0.5      0.394      0.235\n",
      "                   cup         10         36      0.622      0.306      0.389      0.299       0.63      0.306      0.373       0.26\n",
      "                  fork          6          6      0.347      0.167      0.236      0.202      0.354      0.167      0.236      0.114\n",
      "                 knife          7         16      0.687      0.438      0.527      0.387      0.703      0.438      0.461       0.32\n",
      "                 spoon          5         22      0.688      0.301      0.425      0.264      0.674      0.282       0.42      0.204\n",
      "                  bowl          9         28      0.611      0.607      0.687      0.551      0.587      0.571      0.632      0.364\n",
      "                banana          1          1      0.158          1      0.199      0.179      0.161          1      0.199      0.139\n",
      "              sandwich          2          2      0.277        0.5      0.662      0.645      0.286        0.5      0.662      0.582\n",
      "                orange          1          4          1          0       0.72       0.51          1          0       0.72      0.494\n",
      "              broccoli          4         11      0.328      0.182      0.264      0.213      0.332      0.182      0.282      0.222\n",
      "                carrot          3         24      0.628      0.458      0.561      0.396      0.642      0.458      0.561      0.337\n",
      "               hot dog          1          2      0.477          1      0.995      0.995      0.482          1      0.995      0.895\n",
      "                 pizza          5          5      0.605          1      0.995      0.822       0.61          1      0.938      0.783\n",
      "                 donut          2         14      0.625      0.955      0.931      0.856      0.621      0.937      0.931      0.767\n",
      "                  cake          4          4      0.698          1      0.995      0.896      0.703          1      0.995      0.813\n",
      "                 chair          9         35      0.479      0.514      0.438      0.219      0.522       0.53      0.432      0.191\n",
      "                 couch          5          6      0.654      0.636      0.656      0.532      0.534        0.5      0.524      0.324\n",
      "          potted plant          9         14      0.616      0.429      0.624      0.383       0.69      0.478      0.692       0.32\n",
      "                   bed          3          3      0.947          1      0.995      0.482      0.956          1      0.995      0.489\n",
      "          dining table         10         13      0.546      0.462      0.489      0.383      0.186      0.154        0.2     0.0902\n",
      "                toilet          2          2       0.44        0.5      0.519      0.515      0.448        0.5      0.519      0.511\n",
      "                    tv          2          2      0.683          1      0.995      0.846      0.688          1      0.995      0.846\n",
      "                laptop          2          3      0.702      0.333      0.533      0.475      0.711      0.333        0.5       0.27\n",
      "                 mouse          2          2          0          0     0.0503     0.0101          0          0          0          0\n",
      "                remote          5          8      0.801      0.503      0.628      0.507      0.803        0.5      0.642      0.467\n",
      "            cell phone          5          8      0.641       0.25      0.204      0.104      0.664       0.25      0.199     0.0983\n",
      "             microwave          3          3      0.705          1      0.913      0.716      0.721          1      0.913      0.651\n",
      "                  oven          5          5      0.441        0.4      0.339      0.269      0.668        0.6      0.607      0.421\n",
      "                  sink          4          6      0.301      0.167      0.337      0.246      0.305      0.167      0.329      0.221\n",
      "          refrigerator          5          5      0.796      0.784      0.739      0.534      0.795       0.78      0.739      0.525\n",
      "                  book          6         29      0.368      0.103      0.314      0.154      0.421      0.103      0.282     0.0982\n",
      "                 clock          8          9      0.795      0.778      0.844      0.717      0.803      0.778      0.844      0.679\n",
      "                  vase          2          2        0.3          1      0.497      0.448      0.304          1      0.497      0.398\n",
      "              scissors          1          1          1          0          0          0          1          0          0          0\n",
      "            teddy bear          6         21      0.771      0.381      0.544      0.316       0.69      0.333       0.42      0.226\n",
      "            toothbrush          2          5      0.362       0.46      0.489      0.244      0.354      0.443      0.489      0.249\n",
      "Speed: 3.5ms preprocess, 147.7ms inference, 0.0ms loss, 5.8ms postprocess per image\n",
      "Results saved to \u001b[1mh:\\dev\\mit\\runs\\segment\\train\u001b[0m\n",
      "\n",
      "Found https://ultralytics.com/images/bus.jpg locally at bus.jpg\n",
      "image 1/1 h:\\dev\\mit\\yolo\\bus.jpg: 640x480 4 persons, 1 bus, 1 skateboard, 188.5ms\n",
      "Speed: 3.3ms preprocess, 188.5ms inference, 18.4ms postprocess per image at shape (1, 3, 640, 480)\n"
     ]
    },
    {
     "data": {
      "text/plain": [
       "[ultralytics.engine.results.Results object with attributes:\n",
       " \n",
       " boxes: ultralytics.engine.results.Boxes object\n",
       " keypoints: None\n",
       " masks: ultralytics.engine.results.Masks object\n",
       " names: {0: 'person', 1: 'bicycle', 2: 'car', 3: 'motorcycle', 4: 'airplane', 5: 'bus', 6: 'train', 7: 'truck', 8: 'boat', 9: 'traffic light', 10: 'fire hydrant', 11: 'stop sign', 12: 'parking meter', 13: 'bench', 14: 'bird', 15: 'cat', 16: 'dog', 17: 'horse', 18: 'sheep', 19: 'cow', 20: 'elephant', 21: 'bear', 22: 'zebra', 23: 'giraffe', 24: 'backpack', 25: 'umbrella', 26: 'handbag', 27: 'tie', 28: 'suitcase', 29: 'frisbee', 30: 'skis', 31: 'snowboard', 32: 'sports ball', 33: 'kite', 34: 'baseball bat', 35: 'baseball glove', 36: 'skateboard', 37: 'surfboard', 38: 'tennis racket', 39: 'bottle', 40: 'wine glass', 41: 'cup', 42: 'fork', 43: 'knife', 44: 'spoon', 45: 'bowl', 46: 'banana', 47: 'apple', 48: 'sandwich', 49: 'orange', 50: 'broccoli', 51: 'carrot', 52: 'hot dog', 53: 'pizza', 54: 'donut', 55: 'cake', 56: 'chair', 57: 'couch', 58: 'potted plant', 59: 'bed', 60: 'dining table', 61: 'toilet', 62: 'tv', 63: 'laptop', 64: 'mouse', 65: 'remote', 66: 'keyboard', 67: 'cell phone', 68: 'microwave', 69: 'oven', 70: 'toaster', 71: 'sink', 72: 'refrigerator', 73: 'book', 74: 'clock', 75: 'vase', 76: 'scissors', 77: 'teddy bear', 78: 'hair drier', 79: 'toothbrush'}\n",
       " obb: None\n",
       " orig_img: array([[[119, 146, 172],\n",
       "         [121, 148, 174],\n",
       "         [122, 152, 177],\n",
       "         ...,\n",
       "         [161, 171, 188],\n",
       "         [160, 170, 187],\n",
       "         [160, 170, 187]],\n",
       " \n",
       "        [[120, 147, 173],\n",
       "         [122, 149, 175],\n",
       "         [123, 153, 178],\n",
       "         ...,\n",
       "         [161, 171, 188],\n",
       "         [160, 170, 187],\n",
       "         [160, 170, 187]],\n",
       " \n",
       "        [[123, 150, 176],\n",
       "         [124, 151, 177],\n",
       "         [125, 155, 180],\n",
       "         ...,\n",
       "         [161, 171, 188],\n",
       "         [160, 170, 187],\n",
       "         [160, 170, 187]],\n",
       " \n",
       "        ...,\n",
       " \n",
       "        [[183, 182, 186],\n",
       "         [179, 178, 182],\n",
       "         [180, 179, 183],\n",
       "         ...,\n",
       "         [121, 111, 117],\n",
       "         [113, 103, 109],\n",
       "         [115, 105, 111]],\n",
       " \n",
       "        [[165, 164, 168],\n",
       "         [173, 172, 176],\n",
       "         [187, 186, 190],\n",
       "         ...,\n",
       "         [102,  92,  98],\n",
       "         [101,  91,  97],\n",
       "         [103,  93,  99]],\n",
       " \n",
       "        [[123, 122, 126],\n",
       "         [145, 144, 148],\n",
       "         [176, 175, 179],\n",
       "         ...,\n",
       "         [ 95,  85,  91],\n",
       "         [ 96,  86,  92],\n",
       "         [ 98,  88,  94]]], dtype=uint8)\n",
       " orig_shape: (1080, 810)\n",
       " path: 'h:\\\\dev\\\\mit\\\\yolo\\\\bus.jpg'\n",
       " probs: None\n",
       " save_dir: 'h:\\\\dev\\\\mit\\\\runs\\\\segment\\\\train2'\n",
       " speed: {'preprocess': 3.2676999690011144, 'inference': 188.45820002024993, 'postprocess': 18.393300008028746}]"
      ]
     },
     "execution_count": 9,
     "metadata": {},
     "output_type": "execute_result"
    }
   ],
   "source": [
    "# Load YOLOv8n-seg, train it on COCO128-seg for 3 epochs and predict an image with it\n",
    "from ultralytics import YOLO\n",
    "\n",
    "model = YOLO('yolov8n-seg.pt')  # load a pretrained YOLOv8n segmentation model\n",
    "model.train(data='coco128-seg.yaml', epochs=3)  # train the model\n",
    "model('https://ultralytics.com/images/bus.jpg')  # predict on an image"
   ]
  },
  {
   "cell_type": "markdown",
   "id": "464aed7c",
   "metadata": {},
   "source": [
    "3. Classification\n",
    "YOLOv8 classification models use the -cls suffix, i.e. yolov8n-cls.pt and are pretrained on ImageNet. See Classification Docs for full details.\n",
    "https://docs.ultralytics.com/ja/tasks/classify/"
   ]
  },
  {
   "cell_type": "code",
   "execution_count": null,
   "id": "5d2e2d52",
   "metadata": {},
   "outputs": [],
   "source": [
    "# Load YOLOv8n-cls, train it on imagenette160 for 3 epochs and predict an image with it\n",
    "from ultralytics import YOLO\n",
    "\n",
    "model = YOLO('yolov8n-cls.pt')  # load a pretrained YOLOv8n classification model\n",
    "model.train(data='imagenette160', epochs=3)  # train the model\n",
    "model('https://ultralytics.com/images/bus.jpg')  # predict on an image"
   ]
  },
  {
   "cell_type": "code",
   "execution_count": null,
   "id": "f27cf2a3",
   "metadata": {},
   "outputs": [],
   "source": [
    "# Run YOLOv8 tests (git clone install only)\n",
    "!pytest ultralytics/tests"
   ]
  }
 ],
 "metadata": {
  "kernelspec": {
   "display_name": "env",
   "language": "python",
   "name": "python3"
  },
  "language_info": {
   "codemirror_mode": {
    "name": "ipython",
    "version": 3
   },
   "file_extension": ".py",
   "mimetype": "text/x-python",
   "name": "python",
   "nbconvert_exporter": "python",
   "pygments_lexer": "ipython3",
   "version": "3.12.4"
  }
 },
 "nbformat": 4,
 "nbformat_minor": 5
}
