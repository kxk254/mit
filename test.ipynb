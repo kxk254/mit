{
 "cells": [
  {
   "cell_type": "code",
   "execution_count": null,
   "id": "8980f59c",
   "metadata": {},
   "outputs": [],
   "source": [
    "# !pip install weasyprint"
   ]
  },
  {
   "cell_type": "code",
   "execution_count": 1,
   "id": "64d6e08c",
   "metadata": {},
   "outputs": [
    {
     "name": "stdout",
     "output_type": "stream",
     "text": [
      "PDF generated as output.pdf\n"
     ]
    }
   ],
   "source": [
    "\n",
    "from weasyprint import HTML\n",
    "\n",
    "html_content = \"\"\"\n",
    "<!DOCTYPE html>\n",
    "<html>\n",
    "<head>\n",
    "    <title>Sample PDF</title>\n",
    "    <style>\n",
    "        body { font-family: Arial, sans-serif; margin: 2em; }\n",
    "        h1 { color: #336699; }\n",
    "        p { font-size: 14px; }\n",
    "    </style>\n",
    "</head>\n",
    "<body>\n",
    "    <h1>Hello, PDF!</h1>\n",
    "    <p>This PDF was generated using <strong>WeasyPrint</strong>.</p>\n",
    "</body>\n",
    "</html>\n",
    "\"\"\"\n",
    "\n",
    "# Generate PDF from HTML string\n",
    "HTML(string=html_content).write_pdf(\"output.pdf\")\n",
    "\n",
    "print(\"PDF generated as output.pdf\")"
   ]
  }
 ],
 "metadata": {
  "kernelspec": {
   "display_name": "env",
   "language": "python",
   "name": "python3"
  },
  "language_info": {
   "codemirror_mode": {
    "name": "ipython",
    "version": 3
   },
   "file_extension": ".py",
   "mimetype": "text/x-python",
   "name": "python",
   "nbconvert_exporter": "python",
   "pygments_lexer": "ipython3",
   "version": "3.12.4"
  }
 },
 "nbformat": 4,
 "nbformat_minor": 5
}
